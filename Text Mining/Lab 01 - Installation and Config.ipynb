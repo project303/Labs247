{
  "nbformat": 4,
  "nbformat_minor": 0,
  "metadata": {
    "kernelspec": {
      "display_name": "Python 3",
      "language": "python",
      "name": "python3"
    },
    "language_info": {
      "codemirror_mode": {
        "name": "ipython",
        "version": 3
      },
      "file_extension": ".py",
      "mimetype": "text/x-python",
      "name": "python",
      "nbconvert_exporter": "python",
      "pygments_lexer": "ipython3",
      "version": "3.5.6"
    },
    "colab": {
      "name": "Lab 01 - Installation and Config.ipynb",
      "provenance": [],
      "collapsed_sections": []
    }
  },
  "cells": [
    {
      "cell_type": "markdown",
      "metadata": {
        "id": "teY6XECRXFVT"
      },
      "source": [
        "# Lab 01 - Installation and Config\n",
        "\n"
      ]
    },
    {
      "cell_type": "code",
      "metadata": {
        "id": "9R5QJxz2XFVe"
      },
      "source": [
        "#Release: 1.2107.2401"
      ],
      "execution_count": null,
      "outputs": []
    },
    {
      "cell_type": "code",
      "metadata": {
        "id": "HknVebEIg9su"
      },
      "source": [
        "! lsb_release -a"
      ],
      "execution_count": null,
      "outputs": []
    },
    {
      "cell_type": "markdown",
      "metadata": {
        "id": "S2EOVaRZXFVu"
      },
      "source": [
        "## Step 05 - Check Package Version"
      ]
    },
    {
      "cell_type": "code",
      "metadata": {
        "id": "9H21ArGEXFVw"
      },
      "source": [
        "import pkg_resources"
      ],
      "execution_count": 1,
      "outputs": []
    },
    {
      "cell_type": "code",
      "metadata": {
        "id": "ZhNhgsvGXFV7"
      },
      "source": [
        "dists = [d for d in pkg_resources.working_set] \n",
        "for i in dists:\n",
        "    print(i)"
      ],
      "execution_count": null,
      "outputs": []
    },
    {
      "cell_type": "markdown",
      "metadata": {
        "id": "XvnTBGdMdX_P"
      },
      "source": [
        "-\n",
        " \n",
        "  \n",
        "**Download Punctuation**\n"
      ]
    },
    {
      "cell_type": "code",
      "metadata": {
        "id": "0iRMQSRpdCHc"
      },
      "source": [
        "nltk.download('punkt')"
      ],
      "execution_count": null,
      "outputs": []
    },
    {
      "cell_type": "code",
      "metadata": {
        "id": "5Z8RB6uueL4B"
      },
      "source": [
        "nltk.download('stopwords')"
      ],
      "execution_count": null,
      "outputs": []
    },
    {
      "cell_type": "markdown",
      "metadata": {
        "id": "cL7VD6lVhhIq"
      },
      "source": [
        "### Installing Python Package"
      ]
    },
    {
      "cell_type": "markdown",
      "metadata": {
        "id": "GrWTuPfydyIN"
      },
      "source": [
        "**Install Sastrawi library**"
      ]
    },
    {
      "cell_type": "code",
      "metadata": {
        "id": "ovjaWLesd7Mv"
      },
      "source": [
        "!pip install sastrawi"
      ],
      "execution_count": null,
      "outputs": []
    },
    {
      "cell_type": "code",
      "metadata": {
        "id": "SVhQufWjbIGB"
      },
      "source": [
        "!pip list | grep -i sastrawi"
      ],
      "execution_count": null,
      "outputs": []
    },
    {
      "cell_type": "markdown",
      "metadata": {
        "id": "_0KWM-qxhIm-"
      },
      "source": [
        "### Python At A Glance"
      ]
    },
    {
      "cell_type": "code",
      "metadata": {
        "id": "PMIL9w4yQ7TE"
      },
      "source": [
        "# test"
      ],
      "execution_count": null,
      "outputs": []
    },
    {
      "cell_type": "code",
      "metadata": {
        "id": "QA_JzTkLRBr7"
      },
      "source": [
        "print (\"Apa kabar dunia?\")"
      ],
      "execution_count": null,
      "outputs": []
    },
    {
      "cell_type": "code",
      "metadata": {
        "id": "O7ewTzsbh6AI"
      },
      "source": [
        "i = 10"
      ],
      "execution_count": 17,
      "outputs": []
    },
    {
      "cell_type": "code",
      "metadata": {
        "id": "JSMj6xnCiCCY"
      },
      "source": [
        "print(i)"
      ],
      "execution_count": null,
      "outputs": []
    },
    {
      "cell_type": "code",
      "metadata": {
        "id": "sfe8NAtuiON2"
      },
      "source": [
        "print(\"Nilai i adalah\", i)"
      ],
      "execution_count": null,
      "outputs": []
    },
    {
      "cell_type": "code",
      "metadata": {
        "id": "YPrb7r-kjE0j"
      },
      "source": [
        "type(i)"
      ],
      "execution_count": null,
      "outputs": []
    },
    {
      "cell_type": "code",
      "metadata": {
        "id": "OQgqezBLiJRi"
      },
      "source": [
        "i = \"sepuluh\""
      ],
      "execution_count": 33,
      "outputs": []
    },
    {
      "cell_type": "code",
      "metadata": {
        "id": "EQpDBvDRio-o"
      },
      "source": [
        "i"
      ],
      "execution_count": null,
      "outputs": []
    },
    {
      "cell_type": "code",
      "metadata": {
        "id": "goF9nLJ4jIOV"
      },
      "source": [
        "type(i)"
      ],
      "execution_count": null,
      "outputs": []
    },
    {
      "cell_type": "code",
      "metadata": {
        "id": "TVoLGLjeipie"
      },
      "source": [
        "print(\"Nilai i adalah\", i)"
      ],
      "execution_count": null,
      "outputs": []
    },
    {
      "cell_type": "code",
      "metadata": {
        "id": "qOqxmz1cirq4"
      },
      "source": [
        "j = 5"
      ],
      "execution_count": 27,
      "outputs": []
    },
    {
      "cell_type": "code",
      "metadata": {
        "id": "p1GD7QISiy2m"
      },
      "source": [
        "i = i + j"
      ],
      "execution_count": null,
      "outputs": []
    },
    {
      "cell_type": "code",
      "metadata": {
        "id": "UGAAVNAPi0T6",
        "outputId": "d37a2c1c-2ab8-47fa-f55c-054d86734049",
        "colab": {
          "base_uri": "https://localhost:8080/"
        }
      },
      "source": [
        "i = 10\n",
        "i = i + j\n",
        "i"
      ],
      "execution_count": 41,
      "outputs": [
        {
          "output_type": "execute_result",
          "data": {
            "text/plain": [
              "15"
            ]
          },
          "metadata": {
            "tags": []
          },
          "execution_count": 41
        }
      ]
    },
    {
      "cell_type": "code",
      "metadata": {
        "id": "LMWdXPzDi4W0"
      },
      "source": [
        "if i == 10:\n",
        "  print (\"i adalah 10\")\n",
        "elif i < 10:\n",
        "  print (\"i lebih kecil dari 10\")\n",
        "else:\n",
        "  print (\"i lebih besar dari 10\")\n",
        "print(\"selesai\")"
      ],
      "execution_count": null,
      "outputs": []
    },
    {
      "cell_type": "code",
      "metadata": {
        "id": "G4dUOU2ukAL4"
      },
      "source": [
        ""
      ],
      "execution_count": null,
      "outputs": []
    }
  ]
}