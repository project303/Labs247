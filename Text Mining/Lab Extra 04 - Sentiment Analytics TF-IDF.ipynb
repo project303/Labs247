{
  "nbformat": 4,
  "nbformat_minor": 0,
  "metadata": {
    "colab": {
      "name": "Lab Extra 04 - Sentiment Analytics TF-IDF.ipynb",
      "provenance": []
    },
    "kernelspec": {
      "name": "python3",
      "display_name": "Python 3"
    },
    "language_info": {
      "name": "python"
    }
  },
  "cells": [
    {
      "cell_type": "markdown",
      "metadata": {
        "id": "ilmpXQZHvzFH"
      },
      "source": [
        "## Library Preparation"
      ]
    },
    {
      "cell_type": "code",
      "metadata": {
        "colab": {
          "base_uri": "https://localhost:8080/"
        },
        "id": "GEIEqiOdfA_3",
        "outputId": "17638fa9-89c6-488c-9ff0-7b54af6fc968"
      },
      "source": [
        "import re\n",
        "import numpy as np \n",
        "import pandas as pd\n",
        "from sklearn.model_selection import train_test_split\n",
        "from sklearn.feature_extraction.text import CountVectorizer, TfidfVectorizer\n",
        "\n",
        "import nltk\n",
        "from nltk.corpus import stopwords\n",
        "from nltk.classify import SklearnClassifier\n",
        "\n",
        "from wordcloud import WordCloud,STOPWORDS\n",
        "import matplotlib.pyplot as plt\n",
        "\n",
        "from subprocess import check_output\n",
        "\n",
        "nltk.download('stopwords')\n",
        "nltk.download('punkt')"
      ],
      "execution_count": 1,
      "outputs": [
        {
          "output_type": "stream",
          "text": [
            "[nltk_data] Downloading package stopwords to /root/nltk_data...\n",
            "[nltk_data]   Package stopwords is already up-to-date!\n",
            "[nltk_data] Downloading package punkt to /root/nltk_data...\n",
            "[nltk_data]   Package punkt is already up-to-date!\n"
          ],
          "name": "stdout"
        },
        {
          "output_type": "execute_result",
          "data": {
            "text/plain": [
              "True"
            ]
          },
          "metadata": {
            "tags": []
          },
          "execution_count": 1
        }
      ]
    },
    {
      "cell_type": "code",
      "metadata": {
        "colab": {
          "base_uri": "https://localhost:8080/"
        },
        "id": "riMK50i_qgi9",
        "outputId": "2d0992e1-ef08-4631-ac47-2bb36a32eb8c"
      },
      "source": [
        "!pip install sastrawi"
      ],
      "execution_count": 2,
      "outputs": [
        {
          "output_type": "stream",
          "text": [
            "Requirement already satisfied: sastrawi in /usr/local/lib/python3.7/dist-packages (1.0.1)\n"
          ],
          "name": "stdout"
        }
      ]
    },
    {
      "cell_type": "code",
      "metadata": {
        "id": "LOb0Jps6qj-B"
      },
      "source": [
        "from Sastrawi.Stemmer.StemmerFactory import StemmerFactory"
      ],
      "execution_count": 3,
      "outputs": []
    },
    {
      "cell_type": "code",
      "metadata": {
        "id": "8onz3TnaGW2C"
      },
      "source": [
        "#augment the stopwords with nonstandard twitter words\n",
        "stopwords_set = set(stopwords.words(\"indonesian\"))\n",
        "stopwords_aug = {\"ya\",\"yak\",\"iya\",\"yg\",\"ga\",\"gak\",\"gk\",\"udh\",\"sdh\",\"udah\",\"dah\",\"nih\",\"ini\",\"deh\",\"sih\",\"dong\",\"donk\",\n",
        "                 \"sm\",\"knp\",\"utk\",\"yaa\",\"tdk\",\"gini\",\"gitu\",\"bgt\",\"gt\",\"nya\",\"kalo\",\"cb\",\"jg\",\"jgn\",\"gw\",\"ge\",\n",
        "                 \"sy\",\"min\",\"mas\",\"mba\",\"mbak\",\"pak\",\"kak\",\"trus\",\"trs\",\"bs\",\"bisa\",\"aja\",\"saja\",\"no\",\n",
        "                 \"w\",\"g\",\"gua\",\"gue\",\"emang\",\"emg\",\"wkwk\",\"dr\",\"kau\",\"dg\",\"gimana\",\"apapun\",\"apa\",\n",
        "                 \"klo\",\"yah\",\"banget\",\"pake\",\"terus\",\"krn\",\"jadi\",\"jd\",\"mu\",\"ku\",\"si\",\"hehe\",\n",
        "                 \"tp\",\"pa\",\"lu\",\"lo\",\"lw\",\"tw\",\"tau\",\"karna\",\"kayak\",\"ky\",\"lg\",\"untuk\",\"tuk\",\"dg\",\"dgn\"}\n",
        "stopwords_all = stopwords_set.union(stopwords_aug)"
      ],
      "execution_count": 11,
      "outputs": []
    },
    {
      "cell_type": "code",
      "metadata": {
        "id": "8P9Qjvono_nV"
      },
      "source": [
        "def clean_text(text):\n",
        "    filtered_tokens = \"\"\n",
        "    for token in text:\n",
        "      if re.search('[a-zA-Z\\s]', token):\n",
        "        filtered_tokens = filtered_tokens + token.lower()\n",
        "        \n",
        "    return filtered_tokens\n",
        "\n",
        "def tokenize_clean(text):\n",
        "    \n",
        "    #tokenisasi\n",
        "    tokens = [word.lower() for sent in nltk.sent_tokenize(text) for word\n",
        "        in nltk.word_tokenize(sent)]\n",
        "    \n",
        "    #clean token from numeric and other character like puntuation\n",
        "    filtered_tokens = []\n",
        "    for token in tokens:\n",
        "        if re.search('[a-zA-Z]', token):\n",
        "            filtered_tokens.append(token)\n",
        "            \n",
        "    return filtered_tokens\n",
        "\n",
        "def remove_stopwords(tokenized_text):\n",
        "    \n",
        "    cleaned_token = []\n",
        "    for token in tokenized_text:\n",
        "        if token not in stopwords_all:\n",
        "            cleaned_token.append(token)\n",
        "            \n",
        "    return cleaned_token\n",
        "\n",
        "def stemming_text(tokenized_text):\n",
        "    \n",
        "    #stem using Sastrawi StemmerFactory \n",
        "    factory = StemmerFactory()\n",
        "    stemmer = factory.create_stemmer()\n",
        "\n",
        "    stems = []\n",
        "    for token in tokenized_text:\n",
        "        stems.append(stemmer.stem(token))\n",
        "\n",
        "    return stems\n",
        "\n",
        "def text_preprocessing(text):\n",
        "    #tokenize, remove non alpha numeric and make lower\n",
        "    text_tmp = re.sub('[^a-zA-Z]', ' ', text)\n",
        "    text_tmp = text_tmp.lower()\n",
        "    text_tmp = text_tmp.split()\n",
        "    \n",
        "    #remove stopwords\n",
        "    prep02 = remove_stopwords(text_tmp)\n",
        "    \n",
        "    #stemmingnya lambat banget\n",
        "    #prep03 = stemming_text(prep01)\n",
        "\n",
        "    prep03 = ' '.join(prep02)\n",
        "            \n",
        "    return prep03"
      ],
      "execution_count": 12,
      "outputs": []
    },
    {
      "cell_type": "code",
      "metadata": {
        "id": "UNBfQVepGWoQ"
      },
      "source": [
        ""
      ],
      "execution_count": null,
      "outputs": []
    },
    {
      "cell_type": "markdown",
      "metadata": {
        "id": "MvM7_X5Ivtbd"
      },
      "source": [
        "## Download Dataset"
      ]
    },
    {
      "cell_type": "code",
      "metadata": {
        "colab": {
          "base_uri": "https://localhost:8080/"
        },
        "id": "icVVtmrxfk5s",
        "outputId": "aa2b0733-5a20-4687-e980-fe50317cb2eb"
      },
      "source": [
        "!mkdir -p dataset\n",
        "!wget https://raw.githubusercontent.com/project303/dataset/master/Twitter.csv -P dataset"
      ],
      "execution_count": 7,
      "outputs": [
        {
          "output_type": "stream",
          "text": [
            "--2021-07-27 22:34:44--  https://raw.githubusercontent.com/project303/dataset/master/Twitter.csv\n",
            "Resolving raw.githubusercontent.com (raw.githubusercontent.com)... 185.199.111.133, 185.199.109.133, 185.199.108.133, ...\n",
            "Connecting to raw.githubusercontent.com (raw.githubusercontent.com)|185.199.111.133|:443... connected.\n",
            "HTTP request sent, awaiting response... 200 OK\n",
            "Length: 413468 (404K) [text/plain]\n",
            "Saving to: ‘dataset/Twitter.csv’\n",
            "\n",
            "Twitter.csv         100%[===================>] 403.78K  --.-KB/s    in 0.04s   \n",
            "\n",
            "2021-07-27 22:34:44 (10.7 MB/s) - ‘dataset/Twitter.csv’ saved [413468/413468]\n",
            "\n"
          ],
          "name": "stdout"
        }
      ]
    },
    {
      "cell_type": "code",
      "metadata": {
        "colab": {
          "base_uri": "https://localhost:8080/"
        },
        "id": "t_6xbIApfqu8",
        "outputId": "ed62d63c-c47a-4765-cad4-d02cd776403d"
      },
      "source": [
        "dataset = pd.read_csv('dataset/Twitter.csv', sep='|')\n",
        "\n",
        "len(dataset)"
      ],
      "execution_count": 5,
      "outputs": [
        {
          "output_type": "execute_result",
          "data": {
            "text/plain": [
              "4294"
            ]
          },
          "metadata": {
            "tags": []
          },
          "execution_count": 5
        }
      ]
    },
    {
      "cell_type": "code",
      "metadata": {
        "colab": {
          "base_uri": "https://localhost:8080/",
          "height": 206
        },
        "id": "dlSwgdVUGzt3",
        "outputId": "a85fa337-b1c1-44bc-ae2e-73a27eccd563"
      },
      "source": [
        "dataset.head()"
      ],
      "execution_count": 6,
      "outputs": [
        {
          "output_type": "execute_result",
          "data": {
            "text/html": [
              "<div>\n",
              "<style scoped>\n",
              "    .dataframe tbody tr th:only-of-type {\n",
              "        vertical-align: middle;\n",
              "    }\n",
              "\n",
              "    .dataframe tbody tr th {\n",
              "        vertical-align: top;\n",
              "    }\n",
              "\n",
              "    .dataframe thead th {\n",
              "        text-align: right;\n",
              "    }\n",
              "</style>\n",
              "<table border=\"1\" class=\"dataframe\">\n",
              "  <thead>\n",
              "    <tr style=\"text-align: right;\">\n",
              "      <th></th>\n",
              "      <th>id</th>\n",
              "      <th>text</th>\n",
              "      <th>sentiment</th>\n",
              "    </tr>\n",
              "  </thead>\n",
              "  <tbody>\n",
              "    <tr>\n",
              "      <th>0</th>\n",
              "      <td>715600523756314626</td>\n",
              "      <td>@IndosatCare iya nomernya masih itu. Mksh.</td>\n",
              "      <td>Positif</td>\n",
              "    </tr>\n",
              "    <tr>\n",
              "      <th>1</th>\n",
              "      <td>715599778948599808</td>\n",
              "      <td>@IndosatCare udah di DM yah</td>\n",
              "      <td>Positif</td>\n",
              "    </tr>\n",
              "    <tr>\n",
              "      <th>2</th>\n",
              "      <td>704874550631145472</td>\n",
              "      <td>@Telkomsel aku pakai loop kak :)</td>\n",
              "      <td>Positif</td>\n",
              "    </tr>\n",
              "    <tr>\n",
              "      <th>3</th>\n",
              "      <td>704875356910563328</td>\n",
              "      <td>@rikawidjaya04 Terima kasih juga Kak Rika atas...</td>\n",
              "      <td>Positif</td>\n",
              "    </tr>\n",
              "    <tr>\n",
              "      <th>4</th>\n",
              "      <td>713428238458953732</td>\n",
              "      <td>@ndusell saya simpati tan</td>\n",
              "      <td>Positif</td>\n",
              "    </tr>\n",
              "  </tbody>\n",
              "</table>\n",
              "</div>"
            ],
            "text/plain": [
              "                   id  ... sentiment\n",
              "0  715600523756314626  ...   Positif\n",
              "1  715599778948599808  ...   Positif\n",
              "2  704874550631145472  ...   Positif\n",
              "3  704875356910563328  ...   Positif\n",
              "4  713428238458953732  ...   Positif\n",
              "\n",
              "[5 rows x 3 columns]"
            ]
          },
          "metadata": {
            "tags": []
          },
          "execution_count": 6
        }
      ]
    },
    {
      "cell_type": "code",
      "metadata": {
        "id": "mfmHJ7z8G29K"
      },
      "source": [
        ""
      ],
      "execution_count": null,
      "outputs": []
    },
    {
      "cell_type": "markdown",
      "metadata": {
        "id": "HGuzoHjdwEv3"
      },
      "source": [
        "## Data Preprocessing"
      ]
    },
    {
      "cell_type": "code",
      "metadata": {
        "id": "HRPXPYnNG6Dm"
      },
      "source": [
        "dataset = dataset[dataset.sentiment != \"Netral\"]\n",
        "tweets = np.array(dataset['text'])\n",
        "sentiments = np.array(dataset['sentiment'])\n",
        "\n",
        "train_data, test_data, train_label, test_label = train_test_split(tweets, sentiments, test_size=0.2, random_state=4)"
      ],
      "execution_count": 7,
      "outputs": []
    },
    {
      "cell_type": "code",
      "metadata": {
        "colab": {
          "base_uri": "https://localhost:8080/"
        },
        "id": "KXMSdZYoH95A",
        "outputId": "db47f500-6805-410e-d11b-5aa48500db3f"
      },
      "source": [
        "train_label[:10]"
      ],
      "execution_count": 8,
      "outputs": [
        {
          "output_type": "execute_result",
          "data": {
            "text/plain": [
              "array(['Positif', 'Positif', 'Negatif', 'Positif', 'Negatif', 'Negatif',\n",
              "       'Positif', 'Negatif', 'Positif', 'Positif'], dtype=object)"
            ]
          },
          "metadata": {
            "tags": []
          },
          "execution_count": 8
        }
      ]
    },
    {
      "cell_type": "code",
      "metadata": {
        "colab": {
          "base_uri": "https://localhost:8080/"
        },
        "id": "JalHwtH4hZgc",
        "outputId": "f509eefd-50ce-451f-b151-c511b801733e"
      },
      "source": [
        "len(train_data)"
      ],
      "execution_count": 9,
      "outputs": [
        {
          "output_type": "execute_result",
          "data": {
            "text/plain": [
              "2092"
            ]
          },
          "metadata": {
            "tags": []
          },
          "execution_count": 9
        }
      ]
    },
    {
      "cell_type": "code",
      "metadata": {
        "id": "k7g2ggTeOiXZ"
      },
      "source": [
        "train_data_clean = []\n",
        "\n",
        "for tweet_text in train_data:\n",
        "  train_data_clean.append(text_preprocessing(tweet_text))\n",
        "\n",
        "test_data_clean = []\n",
        "for tweet_text in test_data:\n",
        "  test_data_clean.append(text_preprocessing(tweet_text))"
      ],
      "execution_count": 13,
      "outputs": []
    },
    {
      "cell_type": "code",
      "metadata": {
        "colab": {
          "base_uri": "https://localhost:8080/"
        },
        "id": "Z61IwycwIqd7",
        "outputId": "a18ec54c-c5f3-42f8-86e5-a51cb889e909"
      },
      "source": [
        "train_data_clean[:10]"
      ],
      "execution_count": 14,
      "outputs": [
        {
          "output_type": "execute_result",
          "data": {
            "text/plain": [
              "['indosatcare oke terima kasih bantuannya',\n",
              " 'ryamizard kemenhan bentuk tim',\n",
              " 'telkomsel paket telkomsel mahal bnget kartu telkomsel murah mw pakai intrnet kartu pakai',\n",
              " 'ijin',\n",
              " 'indosatcare tolong sms diblok pulsa kepotong',\n",
              " 'indosatcare sya cek kuota ok dpt sms saldo kuota super internet cek status paket',\n",
              " 'operasi militer menteri pertahanan ryamizard ryacudu pertimbangan matang',\n",
              " 'telkomsel grapari pondok gede buka jam sim card hang',\n",
              " 'emenhan kebutuhan bandan intelijen pertahanan metro tv news',\n",
              " 'telkomsel info tunggu thx']"
            ]
          },
          "metadata": {
            "tags": []
          },
          "execution_count": 14
        }
      ]
    },
    {
      "cell_type": "code",
      "metadata": {
        "id": "UbKvjddJwlrc"
      },
      "source": [
        ""
      ],
      "execution_count": null,
      "outputs": []
    },
    {
      "cell_type": "markdown",
      "metadata": {
        "id": "1R1kMeNGwl_g"
      },
      "source": [
        "## Feature Extraction"
      ]
    },
    {
      "cell_type": "code",
      "metadata": {
        "id": "lV1USBuXIwDV"
      },
      "source": [
        "# build TFIDF features on train reviews\n",
        "tv = TfidfVectorizer( ngram_range=(1,1),\n",
        "                     analyzer='word',\n",
        "                     lowercase=True,\n",
        "                     sublinear_tf=True,\n",
        "                     use_idf=True\n",
        "                     )\n",
        "tv_train_features = tv.fit_transform(train_data_clean)"
      ],
      "execution_count": 36,
      "outputs": []
    },
    {
      "cell_type": "code",
      "metadata": {
        "colab": {
          "base_uri": "https://localhost:8080/"
        },
        "id": "2VJnbHF3P1d1",
        "outputId": "33c5e113-604e-4ac2-c97a-895190298583"
      },
      "source": [
        "len(tv.get_feature_names())"
      ],
      "execution_count": 16,
      "outputs": [
        {
          "output_type": "execute_result",
          "data": {
            "text/plain": [
              "4045"
            ]
          },
          "metadata": {
            "tags": []
          },
          "execution_count": 16
        }
      ]
    },
    {
      "cell_type": "code",
      "metadata": {
        "colab": {
          "base_uri": "https://localhost:8080/"
        },
        "id": "gz49NaQbPrMg",
        "outputId": "1d539432-f238-47e9-f7e9-32c9fbb5ab27"
      },
      "source": [
        "tv_train_features.shape"
      ],
      "execution_count": 17,
      "outputs": [
        {
          "output_type": "execute_result",
          "data": {
            "text/plain": [
              "(2092, 4045)"
            ]
          },
          "metadata": {
            "tags": []
          },
          "execution_count": 17
        }
      ]
    },
    {
      "cell_type": "code",
      "metadata": {
        "id": "HI4SG8lVahBP"
      },
      "source": [
        "tv_test_features = tv.transform(test_data_clean)"
      ],
      "execution_count": 18,
      "outputs": []
    },
    {
      "cell_type": "code",
      "metadata": {
        "colab": {
          "base_uri": "https://localhost:8080/"
        },
        "id": "qYBsal1NateB",
        "outputId": "18617f0f-4468-44fc-88a5-5a52ff48a6c1"
      },
      "source": [
        "tv_test_features.shape"
      ],
      "execution_count": 19,
      "outputs": [
        {
          "output_type": "execute_result",
          "data": {
            "text/plain": [
              "(524, 4045)"
            ]
          },
          "metadata": {
            "tags": []
          },
          "execution_count": 19
        }
      ]
    },
    {
      "cell_type": "code",
      "metadata": {
        "id": "dhnenZX2at1k"
      },
      "source": [
        ""
      ],
      "execution_count": null,
      "outputs": []
    },
    {
      "cell_type": "markdown",
      "metadata": {
        "id": "AeeRH5Hmwz0j"
      },
      "source": [
        "## Model Building"
      ]
    },
    {
      "cell_type": "code",
      "metadata": {
        "id": "SLdP8aE_bTHV"
      },
      "source": [
        "from sklearn.linear_model import SGDClassifier, LogisticRegression\n",
        "\n",
        "model_lr = LogisticRegression(penalty='l2', max_iter=1000, C=1)"
      ],
      "execution_count": 20,
      "outputs": []
    },
    {
      "cell_type": "code",
      "metadata": {
        "colab": {
          "base_uri": "https://localhost:8080/"
        },
        "id": "COSvppmUb3X7",
        "outputId": "94514005-d032-44b4-f07e-245ad44c40c8"
      },
      "source": [
        "# build model    \n",
        "model_lr.fit(tv_train_features, train_label)"
      ],
      "execution_count": 21,
      "outputs": [
        {
          "output_type": "execute_result",
          "data": {
            "text/plain": [
              "LogisticRegression(C=1, class_weight=None, dual=False, fit_intercept=True,\n",
              "                   intercept_scaling=1, l1_ratio=None, max_iter=1000,\n",
              "                   multi_class='auto', n_jobs=None, penalty='l2',\n",
              "                   random_state=None, solver='lbfgs', tol=0.0001, verbose=0,\n",
              "                   warm_start=False)"
            ]
          },
          "metadata": {
            "tags": []
          },
          "execution_count": 21
        }
      ]
    },
    {
      "cell_type": "code",
      "metadata": {
        "id": "0IppoG1CctgX"
      },
      "source": [
        "predictions_lr = model_lr.predict(tv_test_features) "
      ],
      "execution_count": 25,
      "outputs": []
    },
    {
      "cell_type": "code",
      "metadata": {
        "colab": {
          "base_uri": "https://localhost:8080/"
        },
        "id": "dstgUIivhevH",
        "outputId": "798f4286-2085-4e79-846c-b80569e5900f"
      },
      "source": [
        "from sklearn import metrics\n",
        "\n",
        "neg_cnt = 0\n",
        "pos_cnt = 0\n",
        "neg_cnt_x = 0\n",
        "pos_cnt_x = 0\n",
        "\n",
        "for i in range(0, len(test_label)):\n",
        "  if test_label[i] == 'Positif':\n",
        "    pos_cnt = pos_cnt + 1\n",
        "    if test_label[i] == predictions_lr[i]:\n",
        "      pos_cnt_x = pos_cnt_x + 1\n",
        "  else:\n",
        "    neg_cnt = neg_cnt + 1\n",
        "    if test_label[i] == predictions_lr[i]:\n",
        "      neg_cnt_x = neg_cnt_x + 1\n",
        "\n",
        "print(neg_cnt)\n",
        "print(pos_cnt)\n",
        "\n",
        "print('[Positif]: %s/%s '  % (pos_cnt,pos_cnt_x))\n",
        "print('[Negatif]: %s/%s '  % (neg_cnt,neg_cnt_x))\n",
        "\n",
        "print(\"Accuracy(in %):\", metrics.accuracy_score(test_label, predictions_lr)*100)"
      ],
      "execution_count": 27,
      "outputs": [
        {
          "output_type": "stream",
          "text": [
            "264\n",
            "260\n",
            "[Positif]: 260/242 \n",
            "[Negatif]: 264/216 \n",
            "Accuracy(in %): 87.40458015267176\n"
          ],
          "name": "stdout"
        }
      ]
    },
    {
      "cell_type": "code",
      "metadata": {
        "colab": {
          "base_uri": "https://localhost:8080/"
        },
        "id": "w06gSH4om9-A",
        "outputId": "4d5d7619-8b06-4f1b-9afd-3cddb5ba404b"
      },
      "source": [
        "print('Accuracy \\t: ', np.round( metrics.accuracy_score(test_label, predictions), 4))\n",
        "print('Precision \\t: ', np.round(metrics.precision_score(test_label, \n",
        "                                                     predictions,\n",
        "                                                     average='weighted'), 4))\n",
        "print('Recall  \\t: ', np.round( metrics.recall_score(test_label,\n",
        "                                                    predictions,\n",
        "                                                    average='weighted'), 4))\n",
        "print('F1 Score  \\t: ', np.round( metrics.f1_score(test_label, \n",
        "                                                  predictions,\n",
        "                                                  average='weighted'), 4))"
      ],
      "execution_count": 28,
      "outputs": [
        {
          "output_type": "stream",
          "text": [
            "Accuracy \t:  0.874\n",
            "Precision \t:  0.8791\n",
            "Recall  \t:  0.874\n",
            "F1 Score  \t:  0.8737\n"
          ],
          "name": "stdout"
        }
      ]
    },
    {
      "cell_type": "code",
      "metadata": {
        "id": "atGTuLNiddII"
      },
      "source": [
        ""
      ],
      "execution_count": null,
      "outputs": []
    },
    {
      "cell_type": "code",
      "metadata": {
        "id": "avDQ0uFgefxr"
      },
      "source": [
        "#from sklearn.naive_bayes import GaussianNB\n",
        "#gnb = GaussianNB()\n",
        "#gnb.fit(tv_train_features, train_label)"
      ],
      "execution_count": null,
      "outputs": []
    },
    {
      "cell_type": "code",
      "metadata": {
        "id": "wGAhahUZoXa-"
      },
      "source": [
        "#model_nbg = gnb.predict(tv_test_features) "
      ],
      "execution_count": null,
      "outputs": []
    },
    {
      "cell_type": "code",
      "metadata": {
        "id": "TCjwqmc2qpbw"
      },
      "source": [
        ""
      ],
      "execution_count": null,
      "outputs": []
    },
    {
      "cell_type": "code",
      "metadata": {
        "colab": {
          "base_uri": "https://localhost:8080/"
        },
        "id": "l681WDbRqpSu",
        "outputId": "7324159c-4fd2-4449-800e-e8585538a1d4"
      },
      "source": [
        "from sklearn.svm import SVC\n",
        "model_svm = SVC(kernel = 'linear', random_state = 0)\n",
        "model_svm.fit(tv_train_features, train_label)\n",
        "predict_svm = model_svm.predict(tv_test_features)\n",
        "print(\"Accuracy(in %):\", metrics.accuracy_score(test_label, predict_svm)*100)"
      ],
      "execution_count": 30,
      "outputs": [
        {
          "output_type": "stream",
          "text": [
            "Accuracy(in %): 91.41221374045801\n"
          ],
          "name": "stdout"
        }
      ]
    },
    {
      "cell_type": "code",
      "metadata": {
        "colab": {
          "base_uri": "https://localhost:8080/"
        },
        "id": "gqtYFXQ3oXPo",
        "outputId": "4f482d20-e1b6-41bc-994b-8361ff9001cf"
      },
      "source": [
        "from sklearn.ensemble import RandomForestClassifier\n",
        "model_rf = RandomForestClassifier(n_estimators = 500, criterion = 'entropy', random_state = 0)\n",
        "model_rf.fit(tv_train_features, train_label)\n",
        "predict_rf = model_rf.predict(tv_test_features)\n",
        "print(\"Accuracy(in %):\", metrics.accuracy_score(test_label, predict_rf)*100)"
      ],
      "execution_count": 31,
      "outputs": [
        {
          "output_type": "stream",
          "text": [
            "Accuracy(in %): 89.12213740458014\n"
          ],
          "name": "stdout"
        }
      ]
    },
    {
      "cell_type": "code",
      "metadata": {
        "id": "iOUw1_g_qx2i"
      },
      "source": [
        ""
      ],
      "execution_count": null,
      "outputs": []
    },
    {
      "cell_type": "code",
      "metadata": {
        "id": "PkHZMz6orbrD"
      },
      "source": [
        ""
      ],
      "execution_count": null,
      "outputs": []
    },
    {
      "cell_type": "markdown",
      "metadata": {
        "id": "j5XlixC22Dis"
      },
      "source": [
        "## Prediction Wrapper"
      ]
    },
    {
      "cell_type": "code",
      "metadata": {
        "id": "YQ48D_Oa5BeE"
      },
      "source": [
        "def Predict_Sentiment(text, model):\n",
        "  data_txt =[]\n",
        "  data_txt.append(text_preprocessing(text))\n",
        "  feature_p = tv.transform(data_txt) \n",
        "  predict_p = model.predict(feature_p)\n",
        "\n",
        "  return predict_p[0]"
      ],
      "execution_count": 47,
      "outputs": []
    },
    {
      "cell_type": "code",
      "metadata": {
        "colab": {
          "base_uri": "https://localhost:8080/",
          "height": 36
        },
        "id": "fsam9OWM1u2p",
        "outputId": "5fb0c825-6c5a-4e44-9522-815d8be70474"
      },
      "source": [
        "Predict_Sentiment('Telkomsel sinyal jelek', model_svm)"
      ],
      "execution_count": 57,
      "outputs": [
        {
          "output_type": "execute_result",
          "data": {
            "application/vnd.google.colaboratory.intrinsic+json": {
              "type": "string"
            },
            "text/plain": [
              "'Negatif'"
            ]
          },
          "metadata": {
            "tags": []
          },
          "execution_count": 57
        }
      ]
    }
  ]
}