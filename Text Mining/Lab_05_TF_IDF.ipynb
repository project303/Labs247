{
  "nbformat": 4,
  "nbformat_minor": 0,
  "metadata": {
    "colab": {
      "name": "Lab 05 - TF-IDF.ipynb",
      "provenance": [],
      "collapsed_sections": []
    },
    "kernelspec": {
      "name": "python3",
      "display_name": "Python 3"
    }
  },
  "cells": [
    {
      "cell_type": "markdown",
      "metadata": {
        "id": "BPBKAjhXizpz"
      },
      "source": [
        "# Lab 05 - TF-IDF"
      ]
    },
    {
      "cell_type": "code",
      "metadata": {
        "id": "hzstop1YjRVW"
      },
      "source": [
        "#Release: 1.1909.0901"
      ],
      "execution_count": null,
      "outputs": []
    },
    {
      "cell_type": "markdown",
      "metadata": {
        "id": "bPkaisw4jTme"
      },
      "source": [
        "You will learn how to:\n",
        "1. Calculate TF-IDF using TfidfVectorizer\n",
        "2. View data in pandas DataFrame"
      ]
    },
    {
      "cell_type": "markdown",
      "metadata": {
        "id": "pwdpkiZbjZX5"
      },
      "source": [
        "<br>\n",
        " \n",
        "***If you use Google Colab, install sastrawi package***"
      ]
    },
    {
      "cell_type": "code",
      "metadata": {
        "colab": {
          "base_uri": "https://localhost:8080/"
        },
        "id": "Zk4S5JbHLsn-",
        "outputId": "7257213c-7344-4b26-e83f-8e9ddd62198b"
      },
      "source": [
        "!pip install sastrawi"
      ],
      "execution_count": null,
      "outputs": [
        {
          "output_type": "stream",
          "text": [
            "Collecting sastrawi\n",
            "\u001b[?25l  Downloading https://files.pythonhosted.org/packages/6f/4b/bab676953da3103003730b8fcdfadbdd20f333d4add10af949dd5c51e6ed/Sastrawi-1.0.1-py2.py3-none-any.whl (209kB)\n",
            "\r\u001b[K     |█▋                              | 10kB 15.3MB/s eta 0:00:01\r\u001b[K     |███▏                            | 20kB 12.3MB/s eta 0:00:01\r\u001b[K     |████▊                           | 30kB 8.5MB/s eta 0:00:01\r\u001b[K     |██████▎                         | 40kB 7.5MB/s eta 0:00:01\r\u001b[K     |███████▉                        | 51kB 4.4MB/s eta 0:00:01\r\u001b[K     |█████████▍                      | 61kB 4.8MB/s eta 0:00:01\r\u001b[K     |███████████                     | 71kB 5.0MB/s eta 0:00:01\r\u001b[K     |████████████▌                   | 81kB 5.3MB/s eta 0:00:01\r\u001b[K     |██████████████                  | 92kB 5.7MB/s eta 0:00:01\r\u001b[K     |███████████████▋                | 102kB 5.5MB/s eta 0:00:01\r\u001b[K     |█████████████████▏              | 112kB 5.5MB/s eta 0:00:01\r\u001b[K     |██████████████████▊             | 122kB 5.5MB/s eta 0:00:01\r\u001b[K     |████████████████████▎           | 133kB 5.5MB/s eta 0:00:01\r\u001b[K     |█████████████████████▉          | 143kB 5.5MB/s eta 0:00:01\r\u001b[K     |███████████████████████▍        | 153kB 5.5MB/s eta 0:00:01\r\u001b[K     |█████████████████████████       | 163kB 5.5MB/s eta 0:00:01\r\u001b[K     |██████████████████████████▋     | 174kB 5.5MB/s eta 0:00:01\r\u001b[K     |████████████████████████████▏   | 184kB 5.5MB/s eta 0:00:01\r\u001b[K     |█████████████████████████████▊  | 194kB 5.5MB/s eta 0:00:01\r\u001b[K     |███████████████████████████████▎| 204kB 5.5MB/s eta 0:00:01\r\u001b[K     |████████████████████████████████| 215kB 5.5MB/s \n",
            "\u001b[?25hInstalling collected packages: sastrawi\n",
            "Successfully installed sastrawi-1.0.1\n"
          ],
          "name": "stdout"
        }
      ]
    },
    {
      "cell_type": "markdown",
      "metadata": {
        "id": "1bwF4tOYje9K"
      },
      "source": [
        "<br>\n",
        "\n",
        "#### Import required library"
      ]
    },
    {
      "cell_type": "code",
      "metadata": {
        "id": "fHwJ64XALuaC"
      },
      "source": [
        "import nltk\n",
        "import re\n",
        "from Sastrawi.Stemmer.StemmerFactory import StemmerFactory\n",
        "from sklearn.feature_extraction.text import TfidfVectorizer"
      ],
      "execution_count": null,
      "outputs": []
    },
    {
      "cell_type": "markdown",
      "metadata": {
        "id": "Z6kwi2REjmf0"
      },
      "source": [
        "<br>\n",
        " \n",
        "***If you use Google Colab, download stopwords dan punkt package***"
      ]
    },
    {
      "cell_type": "code",
      "metadata": {
        "colab": {
          "base_uri": "https://localhost:8080/"
        },
        "id": "ZFB9CxjkLx0E",
        "outputId": "38365c54-1a77-48d0-f0b2-62a1f810e7d2"
      },
      "source": [
        "nltk.download('stopwords')\n",
        "nltk.download('punkt')"
      ],
      "execution_count": null,
      "outputs": [
        {
          "output_type": "stream",
          "text": [
            "[nltk_data] Downloading package stopwords to /root/nltk_data...\n",
            "[nltk_data]   Unzipping corpora/stopwords.zip.\n",
            "[nltk_data] Downloading package punkt to /root/nltk_data...\n",
            "[nltk_data]   Unzipping tokenizers/punkt.zip.\n"
          ],
          "name": "stdout"
        },
        {
          "output_type": "execute_result",
          "data": {
            "text/plain": [
              "True"
            ]
          },
          "metadata": {
            "tags": []
          },
          "execution_count": 3
        }
      ]
    },
    {
      "cell_type": "code",
      "metadata": {
        "id": "WOIcHPlQcP18"
      },
      "source": [
        "stopwords = nltk.corpus.stopwords.words('indonesian')"
      ],
      "execution_count": null,
      "outputs": []
    },
    {
      "cell_type": "code",
      "metadata": {
        "colab": {
          "base_uri": "https://localhost:8080/"
        },
        "id": "uSOT8Gg1cR5d",
        "outputId": "51ee7920-10aa-40aa-9cc4-c129832b2f56"
      },
      "source": [
        "len(stopwords)"
      ],
      "execution_count": null,
      "outputs": [
        {
          "output_type": "execute_result",
          "data": {
            "text/plain": [
              "758"
            ]
          },
          "metadata": {
            "tags": []
          },
          "execution_count": 8
        }
      ]
    },
    {
      "cell_type": "code",
      "metadata": {
        "id": "mQFO-W1AcUv4"
      },
      "source": [
        "stopwords"
      ],
      "execution_count": null,
      "outputs": []
    },
    {
      "cell_type": "markdown",
      "metadata": {
        "id": "-QoiUZBTjsI2"
      },
      "source": [
        "<br>\n",
        "\n",
        "#### Prepocessing function from previous labs"
      ]
    },
    {
      "cell_type": "code",
      "metadata": {
        "id": "MoOt506bcKfI"
      },
      "source": [
        "def tokenize_clean(text):\n",
        "    \n",
        "    #tokenisasi\n",
        "    tokens = [word.lower() for sent in nltk.sent_tokenize(text) for word\n",
        "        in nltk.word_tokenize(sent)]\n",
        "    \n",
        "    #clean token from numeric and other character like puntuation\n",
        "    filtered_tokens = []\n",
        "    for token in tokens:\n",
        "        if re.search('[a-zA-Z]', token):\n",
        "            filtered_tokens.append(token)\n",
        "            \n",
        "    return filtered_tokens"
      ],
      "execution_count": null,
      "outputs": []
    },
    {
      "cell_type": "code",
      "metadata": {
        "id": "Yk1L7qijcLU-"
      },
      "source": [
        "def remove_stopwords(tokenized_text):\n",
        "    \n",
        "    cleaned_token = []\n",
        "    for token in tokenized_text:\n",
        "        if token not in stopwords:\n",
        "            cleaned_token.append(token)\n",
        "            \n",
        "    return cleaned_token"
      ],
      "execution_count": null,
      "outputs": []
    },
    {
      "cell_type": "code",
      "metadata": {
        "id": "o4hm645wcdza"
      },
      "source": [
        "def stemming_text(tokenized_text):\n",
        "    \n",
        "    #stem using Sastrawi StemmerFactory \n",
        "    factory = StemmerFactory()\n",
        "    stemmer = factory.create_stemmer()\n",
        "\n",
        "    stems = []\n",
        "    for token in tokenized_text:\n",
        "        stems.append(stemmer.stem(token))\n",
        "\n",
        "    return stems"
      ],
      "execution_count": null,
      "outputs": []
    },
    {
      "cell_type": "code",
      "metadata": {
        "id": "_As_alpOcgAI"
      },
      "source": [
        "def text_preprocessing(text):\n",
        "    \n",
        "    prep01 = tokenize_clean(text)\n",
        "    prep02 = remove_stopwords(prep01)\n",
        "    prep03 = stemming_text(prep02)\n",
        "    \n",
        "    return prep03"
      ],
      "execution_count": null,
      "outputs": []
    },
    {
      "cell_type": "markdown",
      "metadata": {
        "id": "1fj8twfYkVkG"
      },
      "source": [
        "<br>\n",
        "\n",
        "## Small Dataset"
      ]
    },
    {
      "cell_type": "markdown",
      "metadata": {
        "id": "nadSWv96kH8I"
      },
      "source": [
        "<br>\n",
        "\n",
        "### Step 01 - Create dataset"
      ]
    },
    {
      "cell_type": "code",
      "metadata": {
        "id": "OxiaQ41pMMCY"
      },
      "source": [
        "corpus = [\n",
        "     'kucing kucing kucing hitam putih belang',\n",
        "     'tikus belang',\n",
        "     'tikus hitam',\n",
        "     'tikus tikus tikus'\n",
        "]"
      ],
      "execution_count": null,
      "outputs": []
    },
    {
      "cell_type": "code",
      "metadata": {
        "colab": {
          "base_uri": "https://localhost:8080/"
        },
        "id": "Yh0wigJAMRbB",
        "outputId": "af00d184-02b3-45c6-a9c4-0543fbb5468a"
      },
      "source": [
        "len(corpus)"
      ],
      "execution_count": null,
      "outputs": [
        {
          "output_type": "execute_result",
          "data": {
            "text/plain": [
              "4"
            ]
          },
          "metadata": {
            "tags": []
          },
          "execution_count": 5
        }
      ]
    },
    {
      "cell_type": "code",
      "metadata": {
        "colab": {
          "base_uri": "https://localhost:8080/",
          "height": 36
        },
        "id": "Fez0izY9Mczj",
        "outputId": "103e5897-9442-4514-be43-36c8e4dbf2d0"
      },
      "source": [
        "corpus[2]"
      ],
      "execution_count": null,
      "outputs": [
        {
          "output_type": "execute_result",
          "data": {
            "application/vnd.google.colaboratory.intrinsic+json": {
              "type": "string"
            },
            "text/plain": [
              "'tikus hitam'"
            ]
          },
          "metadata": {
            "tags": []
          },
          "execution_count": 6
        }
      ]
    },
    {
      "cell_type": "markdown",
      "metadata": {
        "id": "KoquyArRkfJK"
      },
      "source": [
        "### Step 02 - Compute TF-IDF"
      ]
    },
    {
      "cell_type": "code",
      "metadata": {
        "id": "esNvMZ-iMfDI"
      },
      "source": [
        "#perform tf-idf vectorization\n",
        "vectorizer = TfidfVectorizer(use_idf=True)\n",
        "X = vectorizer.fit_transform(corpus)"
      ],
      "execution_count": null,
      "outputs": []
    },
    {
      "cell_type": "markdown",
      "metadata": {
        "id": "9E32QIDCrKKf"
      },
      "source": [
        "### Step 03 - View Result"
      ]
    },
    {
      "cell_type": "markdown",
      "metadata": {
        "id": "1CdNRW1ik5x4"
      },
      "source": [
        "Get List of Words"
      ]
    },
    {
      "cell_type": "code",
      "metadata": {
        "colab": {
          "base_uri": "https://localhost:8080/"
        },
        "id": "FtZlyIISctuz",
        "outputId": "c4599198-f51f-4d0a-8d53-a5f21da13c0d"
      },
      "source": [
        "print(vectorizer.get_feature_names())"
      ],
      "execution_count": null,
      "outputs": [
        {
          "output_type": "stream",
          "text": [
            "['belang', 'hitam', 'kucing', 'putih', 'tikus']\n"
          ],
          "name": "stdout"
        }
      ]
    },
    {
      "cell_type": "code",
      "metadata": {
        "colab": {
          "base_uri": "https://localhost:8080/"
        },
        "id": "ak8WthuufRXU",
        "outputId": "03304e2c-30ee-4b82-ad75-2da63277f6d1"
      },
      "source": [
        "print(vectorizer.vocabulary_)"
      ],
      "execution_count": null,
      "outputs": [
        {
          "output_type": "stream",
          "text": [
            "{'kucing': 2, 'hitam': 1, 'putih': 3, 'belang': 0, 'tikus': 4}\n"
          ],
          "name": "stdout"
        }
      ]
    },
    {
      "cell_type": "markdown",
      "metadata": {
        "id": "T5jiF5UClCLg"
      },
      "source": [
        "View TF-IDF Result"
      ]
    },
    {
      "cell_type": "code",
      "metadata": {
        "colab": {
          "base_uri": "https://localhost:8080/"
        },
        "id": "zRVEE7sGc32K",
        "outputId": "83af0d74-0ba8-45b6-e5be-6e6523016205"
      },
      "source": [
        "print(X.shape)"
      ],
      "execution_count": null,
      "outputs": [
        {
          "output_type": "stream",
          "text": [
            "(4, 5)\n"
          ],
          "name": "stdout"
        }
      ]
    },
    {
      "cell_type": "code",
      "metadata": {
        "colab": {
          "base_uri": "https://localhost:8080/"
        },
        "id": "Bqk5zmUAeM1s",
        "outputId": "033d80f8-1e2d-44cd-b163-938148a20246"
      },
      "source": [
        "print(X.toarray())"
      ],
      "execution_count": null,
      "outputs": [
        {
          "output_type": "stream",
          "text": [
            "[[0.23513012 0.23513012 0.89469821 0.29823274 0.        ]\n",
            " [0.77722116 0.         0.         0.         0.62922751]\n",
            " [0.         0.77722116 0.         0.         0.62922751]\n",
            " [0.         0.         0.         0.         1.        ]]\n"
          ],
          "name": "stdout"
        }
      ]
    },
    {
      "cell_type": "markdown",
      "metadata": {
        "id": "eX7jaNoylH2k"
      },
      "source": [
        "View First Sentence"
      ]
    },
    {
      "cell_type": "code",
      "metadata": {
        "colab": {
          "base_uri": "https://localhost:8080/",
          "height": 36
        },
        "id": "5ePTMu4ceibT",
        "outputId": "a561dbc2-cf63-46bb-c411-ed2bb15bf953"
      },
      "source": [
        "corpus[0]"
      ],
      "execution_count": null,
      "outputs": [
        {
          "output_type": "execute_result",
          "data": {
            "application/vnd.google.colaboratory.intrinsic+json": {
              "type": "string"
            },
            "text/plain": [
              "'kucing kucing kucing hitam putih belang'"
            ]
          },
          "metadata": {
            "tags": []
          },
          "execution_count": 25
        }
      ]
    },
    {
      "cell_type": "code",
      "metadata": {
        "colab": {
          "base_uri": "https://localhost:8080/"
        },
        "id": "in2d_r6heXsH",
        "outputId": "f1a588ff-7e44-41ab-ec6a-75026aa38949"
      },
      "source": [
        "print(X[0])"
      ],
      "execution_count": null,
      "outputs": [
        {
          "output_type": "stream",
          "text": [
            "  (0, 0)\t0.2351301157996824\n",
            "  (0, 3)\t0.2982327375202219\n",
            "  (0, 1)\t0.2351301157996824\n",
            "  (0, 2)\t0.8946982125606657\n"
          ],
          "name": "stdout"
        }
      ]
    },
    {
      "cell_type": "code",
      "metadata": {
        "colab": {
          "base_uri": "https://localhost:8080/"
        },
        "id": "0GB01zE0lPPb",
        "outputId": "8ea2b455-42f1-41bc-c9b6-a7f7a112a296"
      },
      "source": [
        "print(X[0].toarray())"
      ],
      "execution_count": null,
      "outputs": [
        {
          "output_type": "stream",
          "text": [
            "[[0.23513012 0.23513012 0.89469821 0.29823274 0.        ]]\n"
          ],
          "name": "stdout"
        }
      ]
    },
    {
      "cell_type": "markdown",
      "metadata": {
        "id": "6dt6_5O-lYfV"
      },
      "source": [
        "View Second Sentence"
      ]
    },
    {
      "cell_type": "code",
      "metadata": {
        "colab": {
          "base_uri": "https://localhost:8080/"
        },
        "id": "Wl8w_Nr9d2vy",
        "outputId": "6d145b01-b9a4-4153-8dca-9c58f54d7998"
      },
      "source": [
        "print(X[1])"
      ],
      "execution_count": null,
      "outputs": [
        {
          "output_type": "stream",
          "text": [
            "  (0, 4)\t0.6292275146695526\n",
            "  (0, 0)\t0.7772211620785797\n"
          ],
          "name": "stdout"
        }
      ]
    },
    {
      "cell_type": "code",
      "metadata": {
        "colab": {
          "base_uri": "https://localhost:8080/",
          "height": 206
        },
        "id": "imUIFDIIf63q",
        "outputId": "1976f4bb-a04d-44fb-a5a6-256d7ec240d1"
      },
      "source": [
        "import pandas as pd\n",
        "df = pd.DataFrame(X[1].T.todense(), index=vectorizer.get_feature_names(), columns=[\"TF-IDF\"])\n",
        "df.sort_values(by=['TF-IDF'])"
      ],
      "execution_count": null,
      "outputs": [
        {
          "output_type": "execute_result",
          "data": {
            "text/html": [
              "<div>\n",
              "<style scoped>\n",
              "    .dataframe tbody tr th:only-of-type {\n",
              "        vertical-align: middle;\n",
              "    }\n",
              "\n",
              "    .dataframe tbody tr th {\n",
              "        vertical-align: top;\n",
              "    }\n",
              "\n",
              "    .dataframe thead th {\n",
              "        text-align: right;\n",
              "    }\n",
              "</style>\n",
              "<table border=\"1\" class=\"dataframe\">\n",
              "  <thead>\n",
              "    <tr style=\"text-align: right;\">\n",
              "      <th></th>\n",
              "      <th>TF-IDF</th>\n",
              "    </tr>\n",
              "  </thead>\n",
              "  <tbody>\n",
              "    <tr>\n",
              "      <th>hitam</th>\n",
              "      <td>0.000000</td>\n",
              "    </tr>\n",
              "    <tr>\n",
              "      <th>kucing</th>\n",
              "      <td>0.000000</td>\n",
              "    </tr>\n",
              "    <tr>\n",
              "      <th>putih</th>\n",
              "      <td>0.000000</td>\n",
              "    </tr>\n",
              "    <tr>\n",
              "      <th>tikus</th>\n",
              "      <td>0.629228</td>\n",
              "    </tr>\n",
              "    <tr>\n",
              "      <th>belang</th>\n",
              "      <td>0.777221</td>\n",
              "    </tr>\n",
              "  </tbody>\n",
              "</table>\n",
              "</div>"
            ],
            "text/plain": [
              "          TF-IDF\n",
              "hitam   0.000000\n",
              "kucing  0.000000\n",
              "putih   0.000000\n",
              "tikus   0.629228\n",
              "belang  0.777221"
            ]
          },
          "metadata": {
            "tags": []
          },
          "execution_count": 33
        }
      ]
    },
    {
      "cell_type": "markdown",
      "metadata": {
        "id": "pY3QYt29lvfU"
      },
      "source": [
        "<br>\n",
        "\n",
        "View IDF"
      ]
    },
    {
      "cell_type": "code",
      "metadata": {
        "colab": {
          "base_uri": "https://localhost:8080/",
          "height": 206
        },
        "id": "GTdLEXiTgUQ1",
        "outputId": "c3a23bfe-35dd-4404-9cc5-d281cf3dbe24"
      },
      "source": [
        "# print idf values\n",
        "df_idf = pd.DataFrame(vectorizer.idf_, index=vectorizer.get_feature_names(),columns=[\"idf\"])\n",
        " \n",
        "# sort ascending\n",
        "df_idf.sort_values(by=['idf'])"
      ],
      "execution_count": null,
      "outputs": [
        {
          "output_type": "execute_result",
          "data": {
            "text/html": [
              "<div>\n",
              "<style scoped>\n",
              "    .dataframe tbody tr th:only-of-type {\n",
              "        vertical-align: middle;\n",
              "    }\n",
              "\n",
              "    .dataframe tbody tr th {\n",
              "        vertical-align: top;\n",
              "    }\n",
              "\n",
              "    .dataframe thead th {\n",
              "        text-align: right;\n",
              "    }\n",
              "</style>\n",
              "<table border=\"1\" class=\"dataframe\">\n",
              "  <thead>\n",
              "    <tr style=\"text-align: right;\">\n",
              "      <th></th>\n",
              "      <th>idf</th>\n",
              "    </tr>\n",
              "  </thead>\n",
              "  <tbody>\n",
              "    <tr>\n",
              "      <th>tikus</th>\n",
              "      <td>1.223144</td>\n",
              "    </tr>\n",
              "    <tr>\n",
              "      <th>belang</th>\n",
              "      <td>1.510826</td>\n",
              "    </tr>\n",
              "    <tr>\n",
              "      <th>hitam</th>\n",
              "      <td>1.510826</td>\n",
              "    </tr>\n",
              "    <tr>\n",
              "      <th>kucing</th>\n",
              "      <td>1.916291</td>\n",
              "    </tr>\n",
              "    <tr>\n",
              "      <th>putih</th>\n",
              "      <td>1.916291</td>\n",
              "    </tr>\n",
              "  </tbody>\n",
              "</table>\n",
              "</div>"
            ],
            "text/plain": [
              "             idf\n",
              "tikus   1.223144\n",
              "belang  1.510826\n",
              "hitam   1.510826\n",
              "kucing  1.916291\n",
              "putih   1.916291"
            ]
          },
          "metadata": {
            "tags": []
          },
          "execution_count": 32
        }
      ]
    },
    {
      "cell_type": "markdown",
      "metadata": {
        "id": "7XyAFiWyl_sy"
      },
      "source": [
        "<br>\n",
        "\n",
        "### Step 04 - Compute TF-IDF with new sentence"
      ]
    },
    {
      "cell_type": "code",
      "metadata": {
        "id": "M4dPj8j0iYUS"
      },
      "source": [
        "str1 = 'kambing hitam'\n",
        "response = vectorizer.transform([str1])\n",
        "\n",
        "feature_names = vectorizer.get_feature_names()"
      ],
      "execution_count": null,
      "outputs": []
    },
    {
      "cell_type": "code",
      "metadata": {
        "colab": {
          "base_uri": "https://localhost:8080/"
        },
        "id": "2pT-vfHricyC",
        "outputId": "5ef39b3d-1f35-4262-8f5e-233ee7595b6f"
      },
      "source": [
        "feature_names"
      ],
      "execution_count": null,
      "outputs": [
        {
          "output_type": "execute_result",
          "data": {
            "text/plain": [
              "['belang', 'hitam', 'kucing', 'putih', 'tikus']"
            ]
          },
          "metadata": {
            "tags": []
          },
          "execution_count": 36
        }
      ]
    },
    {
      "cell_type": "code",
      "metadata": {
        "colab": {
          "base_uri": "https://localhost:8080/"
        },
        "id": "10mDluHHid0Y",
        "outputId": "86146856-8c5c-4f4d-80c8-d08b6f418fb4"
      },
      "source": [
        "response.toarray()"
      ],
      "execution_count": null,
      "outputs": [
        {
          "output_type": "execute_result",
          "data": {
            "text/plain": [
              "array([[0., 1., 0., 0., 0.]])"
            ]
          },
          "metadata": {
            "tags": []
          },
          "execution_count": 37
        }
      ]
    },
    {
      "cell_type": "code",
      "metadata": {
        "id": "a9NPK_ChinSB"
      },
      "source": [
        ""
      ],
      "execution_count": null,
      "outputs": []
    },
    {
      "cell_type": "markdown",
      "metadata": {
        "id": "grl6uBNNmT9h"
      },
      "source": [
        "<br>\n",
        "\n",
        "## Bigger Dataset"
      ]
    },
    {
      "cell_type": "markdown",
      "metadata": {
        "id": "3EHA6QH9pc2v"
      },
      "source": [
        "### Step 01 - Create dataset"
      ]
    },
    {
      "cell_type": "code",
      "metadata": {
        "id": "X21I0UT4piu6"
      },
      "source": [
        "files = []\n",
        "files.append(\"Sekelompok ibu dan kaum perempuan duduk beralaskan rumput lapangan sambil fokus menganyam bambu yang ia genggam ditangan.\")\n",
        "files.append(\"Sebagian besar masyarakat rupanya tak mau melewatkan waktu begitu  saja untuk meratapi erupsi.\")\n",
        "files.append(\"Lombok memang memiliki sejuta pesona yang mampu menyedot perhatian orang untuk datang berwisata.\")\n",
        "files.append(\"Perempuan yang bergelut di dunia kerelawanan akan belajar caranya bertanggung jawab bagi sendiri dan orang lain.\")\n",
        "files.append(\"Kami berkoordinasi dan melapor pada posko relawan, kami berkomitmen  siap membantu dengan siaga 24 jam\")"
      ],
      "execution_count": 40,
      "outputs": []
    },
    {
      "cell_type": "markdown",
      "metadata": {
        "id": "xRXrMUKqppuw"
      },
      "source": [
        "### Step 02 - Corpus preparation"
      ]
    },
    {
      "cell_type": "code",
      "metadata": {
        "colab": {
          "base_uri": "https://localhost:8080/"
        },
        "id": "m1VOo-3EpohN",
        "outputId": "21f2a2e9-0092-406a-b849-85df21334558"
      },
      "source": [
        "token_dict = {}\n",
        "i = 0\n",
        "for t in files:\n",
        "    filename = \"file\" + str(i)\n",
        "    token_dict[filename] = t\n",
        "    i = i + 1\n",
        "\n",
        "token_dict"
      ],
      "execution_count": 41,
      "outputs": [
        {
          "output_type": "execute_result",
          "data": {
            "text/plain": [
              "{'file0': 'Sekelompok ibu dan kaum perempuan duduk beralaskan rumput lapangan sambil fokus menganyam bambu yang ia genggam ditangan.',\n",
              " 'file1': 'Sebagian besar masyarakat rupanya tak mau melewatkan waktu begitu  saja untuk meratapi erupsi.',\n",
              " 'file2': 'Lombok memang memiliki sejuta pesona yang mampu menyedot perhatian orang untuk datang berwisata.',\n",
              " 'file3': 'Perempuan yang bergelut di dunia kerelawanan akan belajar caranya bertanggung jawab bagi sendiri dan orang lain.',\n",
              " 'file4': 'Kami berkoordinasi dan melapor pada posko relawan, kami berkomitmen  siap membantu dengan siaga 24 jam'}"
            ]
          },
          "metadata": {
            "tags": []
          },
          "execution_count": 41
        }
      ]
    },
    {
      "cell_type": "code",
      "metadata": {
        "colab": {
          "base_uri": "https://localhost:8080/"
        },
        "id": "JanUdBjqp0Pw",
        "outputId": "a778325d-61ac-493e-be2e-3b126d0fe763"
      },
      "source": [
        "token_dict.values()"
      ],
      "execution_count": 42,
      "outputs": [
        {
          "output_type": "execute_result",
          "data": {
            "text/plain": [
              "dict_values(['Sekelompok ibu dan kaum perempuan duduk beralaskan rumput lapangan sambil fokus menganyam bambu yang ia genggam ditangan.', 'Sebagian besar masyarakat rupanya tak mau melewatkan waktu begitu  saja untuk meratapi erupsi.', 'Lombok memang memiliki sejuta pesona yang mampu menyedot perhatian orang untuk datang berwisata.', 'Perempuan yang bergelut di dunia kerelawanan akan belajar caranya bertanggung jawab bagi sendiri dan orang lain.', 'Kami berkoordinasi dan melapor pada posko relawan, kami berkomitmen  siap membantu dengan siaga 24 jam'])"
            ]
          },
          "metadata": {
            "tags": []
          },
          "execution_count": 42
        }
      ]
    },
    {
      "cell_type": "code",
      "metadata": {
        "colab": {
          "base_uri": "https://localhost:8080/",
          "height": 36
        },
        "id": "W6uLb1ugqGcj",
        "outputId": "c4fdae2e-c127-4224-8535-b510a2a40403"
      },
      "source": [
        "token_dict['file0']"
      ],
      "execution_count": 43,
      "outputs": [
        {
          "output_type": "execute_result",
          "data": {
            "application/vnd.google.colaboratory.intrinsic+json": {
              "type": "string"
            },
            "text/plain": [
              "'Sekelompok ibu dan kaum perempuan duduk beralaskan rumput lapangan sambil fokus menganyam bambu yang ia genggam ditangan.'"
            ]
          },
          "metadata": {
            "tags": []
          },
          "execution_count": 43
        }
      ]
    },
    {
      "cell_type": "markdown",
      "metadata": {
        "id": "WY_Dth7ZqRk9"
      },
      "source": [
        "### Step 03 - Compute TF-IDF"
      ]
    },
    {
      "cell_type": "code",
      "metadata": {
        "id": "sjGBAEsXqVJH"
      },
      "source": [
        "#perform tf-idf vectorization\n",
        "tfidf = TfidfVectorizer(max_df=0.8,             # terms with document frequency value > 0.8 will be removed\n",
        "                        min_df=0.2,             # terms with document frequency value < 0.2 will be removed\n",
        "                        max_features=200000,    # create maximum 200.000 vocabulary that only consider the top max_features ordered by term frequency across the corpus.\n",
        "                        stop_words = stopwords, # stopwords list\n",
        "                        use_idf=True,           # enable inverse-document-frequency reweighting\n",
        "                        tokenizer=text_preprocessing, # override the string tokenization step by using text_prepocessing function \n",
        "                        ngram_range=(1,3))      # ngram range 1 - 3 \n",
        "\n",
        "\n",
        "tfs = tfidf.fit_transform(token_dict.values())"
      ],
      "execution_count": 44,
      "outputs": []
    },
    {
      "cell_type": "markdown",
      "metadata": {
        "id": "vQh8dz0Uql6I"
      },
      "source": [
        "For detail TfidfVectorizer documentation visit: https://scikit-learn.org/stable/modules/generated/sklearn.feature_extraction.text.TfidfVectorizer.html"
      ]
    },
    {
      "cell_type": "markdown",
      "metadata": {
        "id": "4qoWKH9IrCt4"
      },
      "source": [
        "### Step 04 - View Result"
      ]
    },
    {
      "cell_type": "markdown",
      "metadata": {
        "id": "N784unptrXLt"
      },
      "source": [
        "Let's check the shape. We should have 5 rows (5 docs) and 96 columns (96 unique words):"
      ]
    },
    {
      "cell_type": "code",
      "metadata": {
        "colab": {
          "base_uri": "https://localhost:8080/"
        },
        "id": "2Wqe_LGLrbjq",
        "outputId": "84e68d55-cabc-4216-dbb2-2f47c0b821d8"
      },
      "source": [
        "tfs.shape"
      ],
      "execution_count": 45,
      "outputs": [
        {
          "output_type": "execute_result",
          "data": {
            "text/plain": [
              "(5, 96)"
            ]
          },
          "metadata": {
            "tags": []
          },
          "execution_count": 45
        }
      ]
    },
    {
      "cell_type": "markdown",
      "metadata": {
        "id": "UrOAkbdnrhZa"
      },
      "source": [
        "<br>\n",
        "\n",
        "Inspect the first document vector"
      ]
    },
    {
      "cell_type": "code",
      "metadata": {
        "colab": {
          "base_uri": "https://localhost:8080/"
        },
        "id": "rfS6NR9irlik",
        "outputId": "f605f218-12c4-48af-e5e2-8b31b3953fac"
      },
      "source": [
        "print(tfs[0])"
      ],
      "execution_count": 46,
      "outputs": [
        {
          "output_type": "stream",
          "text": [
            "  (0, 11)\t0.17500574860015006\n",
            "  (0, 8)\t0.17500574860015006\n",
            "  (0, 24)\t0.17500574860015006\n",
            "  (0, 48)\t0.17500574860015006\n",
            "  (0, 86)\t0.17500574860015006\n",
            "  (0, 5)\t0.17500574860015006\n",
            "  (0, 17)\t0.17500574860015006\n",
            "  (0, 65)\t0.17500574860015006\n",
            "  (0, 36)\t0.17500574860015006\n",
            "  (0, 39)\t0.17500574860015006\n",
            "  (0, 29)\t0.17500574860015006\n",
            "  (0, 10)\t0.17500574860015006\n",
            "  (0, 7)\t0.17500574860015006\n",
            "  (0, 23)\t0.17500574860015006\n",
            "  (0, 47)\t0.17500574860015006\n",
            "  (0, 85)\t0.17500574860015006\n",
            "  (0, 4)\t0.17500574860015006\n",
            "  (0, 16)\t0.17500574860015006\n",
            "  (0, 64)\t0.17500574860015006\n",
            "  (0, 35)\t0.17500574860015006\n",
            "  (0, 38)\t0.17500574860015006\n",
            "  (0, 92)\t0.17500574860015006\n",
            "  (0, 28)\t0.17500574860015006\n",
            "  (0, 9)\t0.17500574860015006\n",
            "  (0, 6)\t0.17500574860015006\n",
            "  (0, 22)\t0.17500574860015006\n",
            "  (0, 46)\t0.17500574860015006\n",
            "  (0, 84)\t0.17500574860015006\n",
            "  (0, 3)\t0.17500574860015006\n",
            "  (0, 15)\t0.17500574860015006\n",
            "  (0, 63)\t0.1411935360448027\n",
            "  (0, 34)\t0.17500574860015006\n",
            "  (0, 37)\t0.17500574860015006\n"
          ],
          "name": "stdout"
        }
      ]
    },
    {
      "cell_type": "markdown",
      "metadata": {
        "id": "sYb4Z4-urwaF"
      },
      "source": [
        "View the list of feature"
      ]
    },
    {
      "cell_type": "code",
      "metadata": {
        "id": "YU2crnuirw0y"
      },
      "source": [
        "feature_names = tfidf.get_feature_names()"
      ],
      "execution_count": 47,
      "outputs": []
    },
    {
      "cell_type": "code",
      "metadata": {
        "colab": {
          "base_uri": "https://localhost:8080/"
        },
        "id": "enA-rLTFr8cZ",
        "outputId": "7a091673-559e-4165-f5ef-7ff9ea2f43b0"
      },
      "source": [
        "print(len(feature_names))"
      ],
      "execution_count": 48,
      "outputs": [
        {
          "output_type": "stream",
          "text": [
            "96\n"
          ],
          "name": "stdout"
        }
      ]
    },
    {
      "cell_type": "code",
      "metadata": {
        "colab": {
          "base_uri": "https://localhost:8080/"
        },
        "id": "IvvVMDfyr-Q6",
        "outputId": "9229b5b9-c7e8-4d6d-ca98-3f81dff82ebf"
      },
      "source": [
        "print(feature_names)"
      ],
      "execution_count": 49,
      "outputs": [
        {
          "output_type": "stream",
          "text": [
            "['ajar', 'ajar tanggung', 'ajar tanggung orang', 'alas', 'alas rumput', 'alas rumput lapang', 'anyam', 'anyam bambu', 'anyam bambu genggam', 'bambu', 'bambu genggam', 'bambu genggam tang', 'bantu', 'bantu siaga', 'bantu siaga jam', 'duduk', 'duduk alas', 'duduk alas rumput', 'dunia', 'dunia rawan', 'dunia rawan ajar', 'erupsi', 'fokus', 'fokus anyam', 'fokus anyam bambu', 'gelut', 'gelut dunia', 'gelut dunia rawan', 'genggam', 'genggam tang', 'jam', 'juta', 'juta pesona', 'juta pesona sedot', 'kaum', 'kaum perempuan', 'kaum perempuan duduk', 'kelompok', 'kelompok kaum', 'kelompok kaum perempuan', 'komitmen', 'komitmen bantu', 'komitmen bantu siaga', 'koordinasi', 'koordinasi lapor', 'koordinasi lapor posko', 'lapang', 'lapang fokus', 'lapang fokus anyam', 'lapor', 'lapor posko', 'lapor posko rawan', 'lombok', 'lombok milik', 'lombok milik juta', 'masyarakat', 'masyarakat ratap', 'masyarakat ratap erupsi', 'milik', 'milik juta', 'milik juta pesona', 'orang', 'orang wisata', 'perempuan', 'perempuan duduk', 'perempuan duduk alas', 'perempuan gelut', 'perempuan gelut dunia', 'perhati', 'perhati orang', 'perhati orang wisata', 'pesona', 'pesona sedot', 'pesona sedot perhati', 'posko', 'posko rawan', 'posko rawan komitmen', 'ratap', 'ratap erupsi', 'rawan', 'rawan ajar', 'rawan ajar tanggung', 'rawan komitmen', 'rawan komitmen bantu', 'rumput', 'rumput lapang', 'rumput lapang fokus', 'sedot', 'sedot perhati', 'sedot perhati orang', 'siaga', 'siaga jam', 'tang', 'tanggung', 'tanggung orang', 'wisata']\n"
          ],
          "name": "stdout"
        }
      ]
    },
    {
      "cell_type": "code",
      "metadata": {
        "colab": {
          "base_uri": "https://localhost:8080/",
          "height": 424
        },
        "id": "McHFdZQisPdO",
        "outputId": "199e6d92-b81b-4857-a4e9-ab9de4df2248"
      },
      "source": [
        "# print idf values\n",
        "df_idf = pd.DataFrame(tfidf.idf_, index=feature_names,columns=[\"idf\"])\n",
        " \n",
        "# sort ascending\n",
        "df_idf.sort_values(by=['idf'])"
      ],
      "execution_count": 50,
      "outputs": [
        {
          "output_type": "execute_result",
          "data": {
            "text/html": [
              "<div>\n",
              "<style scoped>\n",
              "    .dataframe tbody tr th:only-of-type {\n",
              "        vertical-align: middle;\n",
              "    }\n",
              "\n",
              "    .dataframe tbody tr th {\n",
              "        vertical-align: top;\n",
              "    }\n",
              "\n",
              "    .dataframe thead th {\n",
              "        text-align: right;\n",
              "    }\n",
              "</style>\n",
              "<table border=\"1\" class=\"dataframe\">\n",
              "  <thead>\n",
              "    <tr style=\"text-align: right;\">\n",
              "      <th></th>\n",
              "      <th>idf</th>\n",
              "    </tr>\n",
              "  </thead>\n",
              "  <tbody>\n",
              "    <tr>\n",
              "      <th>rawan</th>\n",
              "      <td>1.693147</td>\n",
              "    </tr>\n",
              "    <tr>\n",
              "      <th>perempuan</th>\n",
              "      <td>1.693147</td>\n",
              "    </tr>\n",
              "    <tr>\n",
              "      <th>orang</th>\n",
              "      <td>1.693147</td>\n",
              "    </tr>\n",
              "    <tr>\n",
              "      <th>ajar</th>\n",
              "      <td>2.098612</td>\n",
              "    </tr>\n",
              "    <tr>\n",
              "      <th>perhati</th>\n",
              "      <td>2.098612</td>\n",
              "    </tr>\n",
              "    <tr>\n",
              "      <th>...</th>\n",
              "      <td>...</td>\n",
              "    </tr>\n",
              "    <tr>\n",
              "      <th>gelut dunia rawan</th>\n",
              "      <td>2.098612</td>\n",
              "    </tr>\n",
              "    <tr>\n",
              "      <th>gelut dunia</th>\n",
              "      <td>2.098612</td>\n",
              "    </tr>\n",
              "    <tr>\n",
              "      <th>gelut</th>\n",
              "      <td>2.098612</td>\n",
              "    </tr>\n",
              "    <tr>\n",
              "      <th>tanggung orang</th>\n",
              "      <td>2.098612</td>\n",
              "    </tr>\n",
              "    <tr>\n",
              "      <th>wisata</th>\n",
              "      <td>2.098612</td>\n",
              "    </tr>\n",
              "  </tbody>\n",
              "</table>\n",
              "<p>96 rows × 1 columns</p>\n",
              "</div>"
            ],
            "text/plain": [
              "                        idf\n",
              "rawan              1.693147\n",
              "perempuan          1.693147\n",
              "orang              1.693147\n",
              "ajar               2.098612\n",
              "perhati            2.098612\n",
              "...                     ...\n",
              "gelut dunia rawan  2.098612\n",
              "gelut dunia        2.098612\n",
              "gelut              2.098612\n",
              "tanggung orang     2.098612\n",
              "wisata             2.098612\n",
              "\n",
              "[96 rows x 1 columns]"
            ]
          },
          "metadata": {
            "tags": []
          },
          "execution_count": 50
        }
      ]
    },
    {
      "cell_type": "markdown",
      "metadata": {
        "id": "LTY9PBaesT_G"
      },
      "source": [
        "### Step 04 - New sentence TF-IDF transformation"
      ]
    },
    {
      "cell_type": "code",
      "metadata": {
        "colab": {
          "base_uri": "https://localhost:8080/"
        },
        "id": "b80QEVsosXaH",
        "outputId": "41b3ada0-0180-4e4d-caca-bb6451090206"
      },
      "source": [
        "str1 = 'Di kejauhan tampak seorang relawan pria dari Lombok sedang berjalan.'\n",
        "response = tfidf.transform([str1])\n",
        "\n",
        "#show result\n",
        "for col in response.nonzero()[1]:\n",
        "    print (feature_names[col], ' - ', response[0, col])"
      ],
      "execution_count": 51,
      "outputs": [
        {
          "output_type": "stream",
          "text": [
            "rawan  -  0.6279137616509933\n",
            "lombok  -  0.7782829228046183\n"
          ],
          "name": "stdout"
        }
      ]
    },
    {
      "cell_type": "code",
      "metadata": {
        "colab": {
          "base_uri": "https://localhost:8080/"
        },
        "id": "T--0lLGgslsY",
        "outputId": "a0f51fa7-133d-4b8d-c68a-18ee3a2d95cb"
      },
      "source": [
        "print(response[0])"
      ],
      "execution_count": 53,
      "outputs": [
        {
          "output_type": "stream",
          "text": [
            "  (0, 79)\t0.6279137616509933\n",
            "  (0, 52)\t0.7782829228046183\n"
          ],
          "name": "stdout"
        }
      ]
    },
    {
      "cell_type": "code",
      "metadata": {
        "colab": {
          "base_uri": "https://localhost:8080/"
        },
        "id": "7V3FvTI_s-Y2",
        "outputId": "60fd2c80-913f-4f8c-c77c-9c691101292d"
      },
      "source": [
        "print (text_preprocessing(str1))"
      ],
      "execution_count": 54,
      "outputs": [
        {
          "output_type": "stream",
          "text": [
            "['jauh', 'rawan', 'pria', 'lombok', 'jalan']\n"
          ],
          "name": "stdout"
        }
      ]
    },
    {
      "cell_type": "code",
      "metadata": {
        "id": "ysrM0z_HtHUd"
      },
      "source": [
        ""
      ],
      "execution_count": null,
      "outputs": []
    },
    {
      "cell_type": "markdown",
      "metadata": {
        "id": "nIl9a2QYi_kr"
      },
      "source": [
        "<br>\n",
        "<br>\n",
        "\n",
        "\n",
        "#### Revision History:\n",
        "Release: 1.1907.1601\n",
        "- Initial release\n",
        "\n",
        "Release: 1.1909.0901\n",
        "- Install sastrawi package to support Google Colab\n",
        "- Reorganize code\n",
        "\n",
        "Release: 1.2011.2701\n",
        "- Create small sample to make easier to understand"
      ]
    },
    {
      "cell_type": "code",
      "metadata": {
        "id": "kXlWSNYjjANZ"
      },
      "source": [
        ""
      ],
      "execution_count": null,
      "outputs": []
    }
  ]
}