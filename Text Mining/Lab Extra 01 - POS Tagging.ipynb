{
  "nbformat": 4,
  "nbformat_minor": 0,
  "metadata": {
    "kernelspec": {
      "display_name": "Python 3",
      "language": "python",
      "name": "python3"
    },
    "language_info": {
      "codemirror_mode": {
        "name": "ipython",
        "version": 3
      },
      "file_extension": ".py",
      "mimetype": "text/x-python",
      "name": "python",
      "nbconvert_exporter": "python",
      "pygments_lexer": "ipython3",
      "version": "3.5.6"
    },
    "colab": {
      "name": "Lab Extra 01 - POS Tagging.ipynb",
      "provenance": []
    }
  },
  "cells": [
    {
      "cell_type": "markdown",
      "metadata": {
        "id": "4FEEQm7sHyh-"
      },
      "source": [
        "# POS Tagging"
      ]
    },
    {
      "cell_type": "code",
      "metadata": {
        "id": "2UANLz62HyiT"
      },
      "source": [
        "#Release: 1.2010.0901"
      ],
      "execution_count": null,
      "outputs": []
    },
    {
      "cell_type": "code",
      "metadata": {
        "id": "xigXgKLPHyi4",
        "outputId": "2ad9dbaa-dfac-42c2-81ff-7f7c098be4f5",
        "colab": {
          "base_uri": "https://localhost:8080/",
          "height": 217
        }
      },
      "source": [
        "import nltk\n",
        "nltk.download('averaged_perceptron_tagger')\n",
        "nltk.download('tagsets')\n",
        "nltk.download('stopwords')\n",
        "nltk.download('punkt')"
      ],
      "execution_count": null,
      "outputs": [
        {
          "output_type": "stream",
          "text": [
            "[nltk_data] Downloading package averaged_perceptron_tagger to\n",
            "[nltk_data]     /root/nltk_data...\n",
            "[nltk_data]   Package averaged_perceptron_tagger is already up-to-\n",
            "[nltk_data]       date!\n",
            "[nltk_data] Downloading package tagsets to /root/nltk_data...\n",
            "[nltk_data]   Package tagsets is already up-to-date!\n",
            "[nltk_data] Downloading package stopwords to /root/nltk_data...\n",
            "[nltk_data]   Package stopwords is already up-to-date!\n",
            "[nltk_data] Downloading package punkt to /root/nltk_data...\n",
            "[nltk_data]   Package punkt is already up-to-date!\n"
          ],
          "name": "stdout"
        },
        {
          "output_type": "execute_result",
          "data": {
            "text/plain": [
              "True"
            ]
          },
          "metadata": {
            "tags": []
          },
          "execution_count": 2
        }
      ]
    },
    {
      "cell_type": "code",
      "metadata": {
        "id": "1wqC7jHNHyjU",
        "outputId": "82bad745-bd90-4cdf-b98c-606477e5418e",
        "colab": {
          "base_uri": "https://localhost:8080/",
          "height": 35
        }
      },
      "source": [
        "sentence = \"Paul Pogba scored a late penalty\"\n",
        "token = nltk.word_tokenize(sentence)\n",
        "token"
      ],
      "execution_count": null,
      "outputs": [
        {
          "output_type": "execute_result",
          "data": {
            "text/plain": [
              "['Paul', 'Pogba', 'scored', 'a', 'late', 'penalty']"
            ]
          },
          "metadata": {
            "tags": []
          },
          "execution_count": 3
        }
      ]
    },
    {
      "cell_type": "code",
      "metadata": {
        "id": "Ixc8SSSJHyjw",
        "outputId": "43bb6f3c-d48f-45e3-fa3b-2a95d869541d",
        "colab": {
          "base_uri": "https://localhost:8080/",
          "height": 126
        }
      },
      "source": [
        "nltk.pos_tag(token)"
      ],
      "execution_count": null,
      "outputs": [
        {
          "output_type": "execute_result",
          "data": {
            "text/plain": [
              "[('Paul', 'NNP'),\n",
              " ('Pogba', 'NNP'),\n",
              " ('scored', 'VBD'),\n",
              " ('a', 'DT'),\n",
              " ('late', 'JJ'),\n",
              " ('penalty', 'NN')]"
            ]
          },
          "metadata": {
            "tags": []
          },
          "execution_count": 4
        }
      ]
    },
    {
      "cell_type": "code",
      "metadata": {
        "id": "uj6EwwaDHykK",
        "outputId": "71721da5-ce57-485f-c04f-15ca9a356ece",
        "colab": {
          "base_uri": "https://localhost:8080/",
          "height": 90
        }
      },
      "source": [
        "nltk.help.upenn_tagset(\"NNP\")"
      ],
      "execution_count": null,
      "outputs": [
        {
          "output_type": "stream",
          "text": [
            "NNP: noun, proper, singular\n",
            "    Motown Venneboerger Czestochwa Ranzer Conchita Trumplane Christos\n",
            "    Oceanside Escobar Kreisler Sawyer Cougar Yvette Ervin ODI Darryl CTCA\n",
            "    Shannon A.K.C. Meltex Liverpool ...\n"
          ],
          "name": "stdout"
        }
      ]
    },
    {
      "cell_type": "code",
      "metadata": {
        "id": "Pfrxw1FaHykf"
      },
      "source": [
        "nltk.help.upenn_tagset(\"VBD\")"
      ],
      "execution_count": null,
      "outputs": []
    },
    {
      "cell_type": "code",
      "metadata": {
        "id": "Kv0BE5gCHykw"
      },
      "source": [
        "nltk.help.upenn_tagset(\"DT\")"
      ],
      "execution_count": null,
      "outputs": []
    },
    {
      "cell_type": "code",
      "metadata": {
        "id": "dE0j0yQuHylD"
      },
      "source": [
        "nltk.help.upenn_tagset(\"JJ\")"
      ],
      "execution_count": null,
      "outputs": []
    },
    {
      "cell_type": "code",
      "metadata": {
        "id": "f6Ix16TWHylb"
      },
      "source": [
        "nltk.help.upenn_tagset(\"NN\")"
      ],
      "execution_count": null,
      "outputs": []
    },
    {
      "cell_type": "code",
      "metadata": {
        "id": "coAzm-abHyl3"
      },
      "source": [
        "#Define your grammar using regular expressions\n",
        "grammar = 'NP: {<DT>?<JJ>*<NN>}'"
      ],
      "execution_count": null,
      "outputs": []
    },
    {
      "cell_type": "code",
      "metadata": {
        "id": "H-YZKQqcHymg"
      },
      "source": [
        "chunkParser = nltk.RegexpParser(grammar)"
      ],
      "execution_count": null,
      "outputs": []
    },
    {
      "cell_type": "code",
      "metadata": {
        "id": "CqVAMc-wHym9"
      },
      "source": [
        "tagged = nltk.pos_tag(token)"
      ],
      "execution_count": null,
      "outputs": []
    },
    {
      "cell_type": "code",
      "metadata": {
        "id": "MVoCwsTeHync",
        "outputId": "255a5720-c326-4f20-bc2b-ae0d7121ff42",
        "colab": {
          "base_uri": "https://localhost:8080/",
          "height": 126
        }
      },
      "source": [
        "tagged"
      ],
      "execution_count": null,
      "outputs": [
        {
          "output_type": "execute_result",
          "data": {
            "text/plain": [
              "[('Paul', 'NNP'),\n",
              " ('Pogba', 'NNP'),\n",
              " ('scored', 'VBD'),\n",
              " ('a', 'DT'),\n",
              " ('late', 'JJ'),\n",
              " ('penalty', 'NN')]"
            ]
          },
          "metadata": {
            "tags": []
          },
          "execution_count": 9
        }
      ]
    },
    {
      "cell_type": "code",
      "metadata": {
        "id": "Dh6xOEMsHyn1"
      },
      "source": [
        "tree = chunkParser.parse(tagged)"
      ],
      "execution_count": null,
      "outputs": []
    },
    {
      "cell_type": "code",
      "metadata": {
        "id": "cDZXqXcPHyoT",
        "outputId": "2f06c391-2b0e-4be0-a8d6-a04a70e0a627",
        "colab": {
          "base_uri": "https://localhost:8080/",
          "height": 53
        }
      },
      "source": [
        "for subtree in tree.subtrees():\n",
        "    print(subtree)"
      ],
      "execution_count": null,
      "outputs": [
        {
          "output_type": "stream",
          "text": [
            "(S Paul/NNP Pogba/NNP scored/VBD (NP a/DT late/JJ penalty/NN))\n",
            "(NP a/DT late/JJ penalty/NN)\n"
          ],
          "name": "stdout"
        }
      ]
    },
    {
      "cell_type": "code",
      "metadata": {
        "id": "sGPrBcQq9gfO"
      },
      "source": [
        ""
      ],
      "execution_count": null,
      "outputs": []
    },
    {
      "cell_type": "code",
      "metadata": {
        "id": "nRm6y3LuHyop"
      },
      "source": [
        "#tree.draw()"
      ],
      "execution_count": null,
      "outputs": []
    },
    {
      "cell_type": "code",
      "metadata": {
        "id": "V9TH1hCU9mPf"
      },
      "source": [
        ""
      ],
      "execution_count": null,
      "outputs": []
    },
    {
      "cell_type": "markdown",
      "metadata": {
        "id": "_zblHyt7-lN9"
      },
      "source": [
        "## POS Tag Bahasa Indonesia"
      ]
    },
    {
      "cell_type": "code",
      "metadata": {
        "id": "t8fr6zrF9m_y",
        "outputId": "74ce3f0b-a08a-40ea-c2bc-ae3a2ea87735",
        "colab": {
          "base_uri": "https://localhost:8080/",
          "height": 35
        }
      },
      "source": [
        "!pip install python-crfsuite"
      ],
      "execution_count": null,
      "outputs": [
        {
          "output_type": "stream",
          "text": [
            "Requirement already satisfied: python-crfsuite in /usr/local/lib/python3.6/dist-packages (0.9.7)\n"
          ],
          "name": "stdout"
        }
      ]
    },
    {
      "cell_type": "code",
      "metadata": {
        "id": "4P2T0_Ri9rZ8"
      },
      "source": [
        "!wget https://raw.githubusercontent.com/project303/dataset/master/all_indo_man_tag_corpus_model.crf.tagger "
      ],
      "execution_count": null,
      "outputs": []
    },
    {
      "cell_type": "code",
      "metadata": {
        "id": "JXPvFOZd98u4"
      },
      "source": [
        "import pycrfsuite\n",
        "from nltk.tag import CRFTagger\n",
        "ct = CRFTagger()\n",
        "ct.set_model_file('all_indo_man_tag_corpus_model.crf.tagger')"
      ],
      "execution_count": null,
      "outputs": []
    },
    {
      "cell_type": "code",
      "metadata": {
        "id": "8YlwLD1p-ASv",
        "outputId": "14de323c-f9dd-4cae-d37c-a6827fce63b2",
        "colab": {
          "base_uri": "https://localhost:8080/",
          "height": 35
        }
      },
      "source": [
        "hasil = ct.tag_sents([['Saya','bekerja','di','Bandung']])\n",
        "print(hasil)"
      ],
      "execution_count": null,
      "outputs": [
        {
          "output_type": "stream",
          "text": [
            "[[('Saya', 'PRP'), ('bekerja', 'VB'), ('di', 'IN'), ('Bandung', 'NNP')]]\n"
          ],
          "name": "stdout"
        }
      ]
    },
    {
      "cell_type": "code",
      "metadata": {
        "id": "TncKoSyM-hQq"
      },
      "source": [
        ""
      ],
      "execution_count": null,
      "outputs": []
    },
    {
      "cell_type": "code",
      "metadata": {
        "id": "V0f7HcT7HyqD"
      },
      "source": [
        ""
      ],
      "execution_count": null,
      "outputs": []
    }
  ]
}