{
  "nbformat": 4,
  "nbformat_minor": 0,
  "metadata": {
    "kernelspec": {
      "display_name": "Python 3",
      "language": "python",
      "name": "python3"
    },
    "language_info": {
      "codemirror_mode": {
        "name": "ipython",
        "version": 3
      },
      "file_extension": ".py",
      "mimetype": "text/x-python",
      "name": "python",
      "nbconvert_exporter": "python",
      "pygments_lexer": "ipython3",
      "version": "3.5.6"
    },
    "colab": {
      "name": "Lab 02 - Tokenization & Cleansing.ipynb",
      "provenance": []
    }
  },
  "cells": [
    {
      "cell_type": "markdown",
      "metadata": {
        "id": "WU_CcTvvahV3"
      },
      "source": [
        "# Lab 02 - Tokenization & Cleansing\n",
        "\n"
      ]
    },
    {
      "cell_type": "code",
      "metadata": {
        "id": "ZsQwks5qahWP"
      },
      "source": [
        "#Release: 1.2197.2401"
      ],
      "execution_count": null,
      "outputs": []
    },
    {
      "cell_type": "markdown",
      "metadata": {
        "id": "2Sz3euldahW-"
      },
      "source": [
        "You will learn how to:\n",
        "1. Tokenize and do noise removal using nltk.\n",
        "2. In this lab, elements considered as noise are non alphabetical token, such as numbers and  punctuations.\n"
      ]
    },
    {
      "cell_type": "markdown",
      "metadata": {
        "id": "1GqP_OWoahXP"
      },
      "source": [
        "#### Step 01 - Import library\n",
        "\n",
        "Import nltk and re library"
      ]
    },
    {
      "cell_type": "code",
      "metadata": {
        "id": "zVyaR6qRahXY"
      },
      "source": [
        ""
      ],
      "execution_count": null,
      "outputs": []
    },
    {
      "cell_type": "markdown",
      "metadata": {
        "id": "CkhbVXFKm_n-"
      },
      "source": [
        " \n",
        " <br>\n",
        " \n",
        "***If you use Google Colab, download punkt package***"
      ]
    },
    {
      "cell_type": "code",
      "metadata": {
        "id": "QLHc7PH1bhq3"
      },
      "source": [
        "nltk.download('punkt')"
      ],
      "execution_count": null,
      "outputs": []
    },
    {
      "cell_type": "markdown",
      "metadata": {
        "id": "-XfnMFo-ahXv"
      },
      "source": [
        "<br>\n",
        "\n",
        "#### Step 02 - Create dataset"
      ]
    },
    {
      "cell_type": "code",
      "metadata": {
        "id": "h8zU10NKahX5"
      },
      "source": [
        "string01 = \"Budi dan Badu bermain bola di sekolah\"\n",
        "string02 = \"Apakah Romi dan Julia saling mencintai saat mereka berjumpa di persimpangan jalan?\""
      ],
      "execution_count": null,
      "outputs": []
    },
    {
      "cell_type": "markdown",
      "metadata": {
        "id": "bigXMZcrahYu"
      },
      "source": [
        "<br>\n",
        "\n",
        "#### Step 03 - Create function"
      ]
    },
    {
      "cell_type": "code",
      "metadata": {
        "id": "0qazCpS3ahY4"
      },
      "source": [
        "def tokenize_clean(text):\n",
        "    \n",
        "    #tokenisasi\n",
        "    tokens = [word.lower() for sent in nltk.sent_tokenize(text) for word\n",
        "        in nltk.word_tokenize(sent)]\n",
        "    \n",
        "    #clean token from numeric and other character like punctuation\n",
        "    filtered_tokens = []\n",
        "    for token in tokens:\n",
        "        if re.search('[a-zA-Z]', token):\n",
        "            filtered_tokens.append(token)\n",
        "            \n",
        "    return filtered_tokens"
      ],
      "execution_count": null,
      "outputs": []
    },
    {
      "cell_type": "markdown",
      "metadata": {
        "id": "qyzxkn6EahZs"
      },
      "source": [
        "<br>\n",
        "\n",
        "#### Step 04 - Process the data"
      ]
    },
    {
      "cell_type": "code",
      "metadata": {
        "id": "ib5VnwXzahZ2"
      },
      "source": [
        "result01 = tokenize_clean(string01)\n",
        "print(string01)\n",
        "print(result01)"
      ],
      "execution_count": null,
      "outputs": []
    },
    {
      "cell_type": "code",
      "metadata": {
        "id": "7xUCI-8vldGR"
      },
      "source": [
        "#process string02 and view the result"
      ],
      "execution_count": null,
      "outputs": []
    },
    {
      "cell_type": "code",
      "metadata": {
        "id": "MgKQqKxxld35"
      },
      "source": [
        ""
      ],
      "execution_count": null,
      "outputs": []
    },
    {
      "cell_type": "markdown",
      "metadata": {
        "id": "Fibxv_gtmsul"
      },
      "source": [
        "<br>\n",
        "\n",
        "#### Extra - List Operation"
      ]
    },
    {
      "cell_type": "code",
      "metadata": {
        "id": "F42EVk9Bmz-2"
      },
      "source": [
        "type(result01)"
      ],
      "execution_count": null,
      "outputs": []
    },
    {
      "cell_type": "code",
      "metadata": {
        "id": "JOA6dDbRm4Y_"
      },
      "source": [
        "len(result01)"
      ],
      "execution_count": null,
      "outputs": []
    },
    {
      "cell_type": "code",
      "metadata": {
        "id": "UbUwl4KpnRX1"
      },
      "source": [
        "result01"
      ],
      "execution_count": null,
      "outputs": []
    },
    {
      "cell_type": "code",
      "metadata": {
        "id": "9-h0zqr7nIe4"
      },
      "source": [
        "result01[0]"
      ],
      "execution_count": null,
      "outputs": []
    },
    {
      "cell_type": "code",
      "metadata": {
        "id": "qdmKVCfFnL19"
      },
      "source": [
        "result01[-1]"
      ],
      "execution_count": null,
      "outputs": []
    },
    {
      "cell_type": "code",
      "metadata": {
        "id": "bUAjVrzdntA5"
      },
      "source": [
        "result01[2:4]"
      ],
      "execution_count": null,
      "outputs": []
    },
    {
      "cell_type": "code",
      "metadata": {
        "id": "EOh1XHh5nZGY"
      },
      "source": [
        "for kata in result01:\n",
        "  print(kata) "
      ],
      "execution_count": null,
      "outputs": []
    },
    {
      "cell_type": "markdown",
      "metadata": {
        "id": "4J9kiU0ylH8_"
      },
      "source": [
        "<br>\n",
        "<br>\n",
        "\n",
        "\n",
        "##Revision History:\n",
        "Release: 1.1907.1601\n",
        "- Initial release\n",
        "\n",
        "Release: 1.1909.0901\n",
        "- Add punct package download to support Google Colab\n",
        "\n",
        "Release: 1.2197.2401\n",
        "- Add Extra: List Operation\n",
        "\n"
      ]
    },
    {
      "cell_type": "code",
      "metadata": {
        "id": "GzshQnNQla-l"
      },
      "source": [
        ""
      ],
      "execution_count": null,
      "outputs": []
    }
  ]
}