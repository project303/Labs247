{
  "nbformat": 4,
  "nbformat_minor": 0,
  "metadata": {
    "kernelspec": {
      "display_name": "Python 3",
      "language": "python",
      "name": "python3"
    },
    "language_info": {
      "codemirror_mode": {
        "name": "ipython",
        "version": 3
      },
      "file_extension": ".py",
      "mimetype": "text/x-python",
      "name": "python",
      "nbconvert_exporter": "python",
      "pygments_lexer": "ipython3",
      "version": "3.7.3"
    },
    "colab": {
      "name": "Lab Extra 03 - Topic Modelling.ipynb",
      "provenance": []
    }
  },
  "cells": [
    {
      "cell_type": "markdown",
      "metadata": {
        "id": "U6RsxfhLMmNj"
      },
      "source": [
        "## Using Gensim for Topic Modeling\n",
        "\n",
        "We’re going to use the gensim implementations because they offer more functionality out of the box and then we’ll replicate that functionality with sklearn. Let’s first prepare the dataset we’ll be working with.\n"
      ]
    },
    {
      "cell_type": "code",
      "metadata": {
        "id": "fgsW77oiMmOF",
        "outputId": "a3eb605b-37ae-4726-c11d-10261797ce4f",
        "colab": {
          "base_uri": "https://localhost:8080/",
          "height": 1000
        }
      },
      "source": [
        "!pip install sastrawi\n",
        "!pip install pyldavis\n",
        "!pip install gensim==3.8.0\n",
        "\n",
        "import nltk\n",
        "from bs4 import BeautifulSoup\n",
        "from Sastrawi.Stemmer.StemmerFactory import StemmerFactory\n",
        "import re \n",
        "\n",
        "import re\n",
        "from gensim import models, corpora\n",
        "from nltk import word_tokenize\n",
        "from nltk.corpus import stopwords\n",
        "\n",
        "nltk.download('stopwords')\n",
        "nltk.download('punkt')\n"
      ],
      "execution_count": 1,
      "outputs": [
        {
          "output_type": "stream",
          "text": [
            "Collecting sastrawi\n",
            "\u001b[?25l  Downloading https://files.pythonhosted.org/packages/6f/4b/bab676953da3103003730b8fcdfadbdd20f333d4add10af949dd5c51e6ed/Sastrawi-1.0.1-py2.py3-none-any.whl (209kB)\n",
            "\r\u001b[K     |█▋                              | 10kB 18.7MB/s eta 0:00:01\r\u001b[K     |███▏                            | 20kB 1.8MB/s eta 0:00:01\r\u001b[K     |████▊                           | 30kB 2.3MB/s eta 0:00:01\r\u001b[K     |██████▎                         | 40kB 2.6MB/s eta 0:00:01\r\u001b[K     |███████▉                        | 51kB 2.0MB/s eta 0:00:01\r\u001b[K     |█████████▍                      | 61kB 2.3MB/s eta 0:00:01\r\u001b[K     |███████████                     | 71kB 2.5MB/s eta 0:00:01\r\u001b[K     |████████████▌                   | 81kB 2.8MB/s eta 0:00:01\r\u001b[K     |██████████████                  | 92kB 3.0MB/s eta 0:00:01\r\u001b[K     |███████████████▋                | 102kB 2.9MB/s eta 0:00:01\r\u001b[K     |█████████████████▏              | 112kB 2.9MB/s eta 0:00:01\r\u001b[K     |██████████████████▊             | 122kB 2.9MB/s eta 0:00:01\r\u001b[K     |████████████████████▎           | 133kB 2.9MB/s eta 0:00:01\r\u001b[K     |█████████████████████▉          | 143kB 2.9MB/s eta 0:00:01\r\u001b[K     |███████████████████████▍        | 153kB 2.9MB/s eta 0:00:01\r\u001b[K     |█████████████████████████       | 163kB 2.9MB/s eta 0:00:01\r\u001b[K     |██████████████████████████▋     | 174kB 2.9MB/s eta 0:00:01\r\u001b[K     |████████████████████████████▏   | 184kB 2.9MB/s eta 0:00:01\r\u001b[K     |█████████████████████████████▊  | 194kB 2.9MB/s eta 0:00:01\r\u001b[K     |███████████████████████████████▎| 204kB 2.9MB/s eta 0:00:01\r\u001b[K     |████████████████████████████████| 215kB 2.9MB/s \n",
            "\u001b[?25hInstalling collected packages: sastrawi\n",
            "Successfully installed sastrawi-1.0.1\n",
            "Collecting pyldavis\n",
            "\u001b[?25l  Downloading https://files.pythonhosted.org/packages/a5/3a/af82e070a8a96e13217c8f362f9a73e82d61ac8fff3a2561946a97f96266/pyLDAvis-2.1.2.tar.gz (1.6MB)\n",
            "\u001b[K     |████████████████████████████████| 1.6MB 2.8MB/s \n",
            "\u001b[?25hRequirement already satisfied: wheel>=0.23.0 in /usr/local/lib/python3.6/dist-packages (from pyldavis) (0.35.1)\n",
            "Requirement already satisfied: numpy>=1.9.2 in /usr/local/lib/python3.6/dist-packages (from pyldavis) (1.18.5)\n",
            "Requirement already satisfied: scipy>=0.18.0 in /usr/local/lib/python3.6/dist-packages (from pyldavis) (1.4.1)\n",
            "Requirement already satisfied: pandas>=0.17.0 in /usr/local/lib/python3.6/dist-packages (from pyldavis) (1.1.2)\n",
            "Requirement already satisfied: joblib>=0.8.4 in /usr/local/lib/python3.6/dist-packages (from pyldavis) (0.16.0)\n",
            "Requirement already satisfied: jinja2>=2.7.2 in /usr/local/lib/python3.6/dist-packages (from pyldavis) (2.11.2)\n",
            "Requirement already satisfied: numexpr in /usr/local/lib/python3.6/dist-packages (from pyldavis) (2.7.1)\n",
            "Requirement already satisfied: pytest in /usr/local/lib/python3.6/dist-packages (from pyldavis) (3.6.4)\n",
            "Requirement already satisfied: future in /usr/local/lib/python3.6/dist-packages (from pyldavis) (0.16.0)\n",
            "Collecting funcy\n",
            "  Downloading https://files.pythonhosted.org/packages/66/89/479de0afbbfb98d1c4b887936808764627300208bb771fcd823403645a36/funcy-1.15-py2.py3-none-any.whl\n",
            "Requirement already satisfied: pytz>=2017.2 in /usr/local/lib/python3.6/dist-packages (from pandas>=0.17.0->pyldavis) (2018.9)\n",
            "Requirement already satisfied: python-dateutil>=2.7.3 in /usr/local/lib/python3.6/dist-packages (from pandas>=0.17.0->pyldavis) (2.8.1)\n",
            "Requirement already satisfied: MarkupSafe>=0.23 in /usr/local/lib/python3.6/dist-packages (from jinja2>=2.7.2->pyldavis) (1.1.1)\n",
            "Requirement already satisfied: more-itertools>=4.0.0 in /usr/local/lib/python3.6/dist-packages (from pytest->pyldavis) (8.5.0)\n",
            "Requirement already satisfied: pluggy<0.8,>=0.5 in /usr/local/lib/python3.6/dist-packages (from pytest->pyldavis) (0.7.1)\n",
            "Requirement already satisfied: six>=1.10.0 in /usr/local/lib/python3.6/dist-packages (from pytest->pyldavis) (1.15.0)\n",
            "Requirement already satisfied: atomicwrites>=1.0 in /usr/local/lib/python3.6/dist-packages (from pytest->pyldavis) (1.4.0)\n",
            "Requirement already satisfied: setuptools in /usr/local/lib/python3.6/dist-packages (from pytest->pyldavis) (50.3.0)\n",
            "Requirement already satisfied: attrs>=17.4.0 in /usr/local/lib/python3.6/dist-packages (from pytest->pyldavis) (20.2.0)\n",
            "Requirement already satisfied: py>=1.5.0 in /usr/local/lib/python3.6/dist-packages (from pytest->pyldavis) (1.9.0)\n",
            "Building wheels for collected packages: pyldavis\n",
            "  Building wheel for pyldavis (setup.py) ... \u001b[?25l\u001b[?25hdone\n",
            "  Created wheel for pyldavis: filename=pyLDAvis-2.1.2-py2.py3-none-any.whl size=97712 sha256=8551213e3d4639d29c955a0a200c5a2ef43542079b53376303928486f62db09d\n",
            "  Stored in directory: /root/.cache/pip/wheels/98/71/24/513a99e58bb6b8465bae4d2d5e9dba8f0bef8179e3051ac414\n",
            "Successfully built pyldavis\n",
            "Installing collected packages: funcy, pyldavis\n",
            "Successfully installed funcy-1.15 pyldavis-2.1.2\n",
            "Collecting gensim==3.8.0\n",
            "\u001b[?25l  Downloading https://files.pythonhosted.org/packages/40/3d/89b27573f56abcd1b8c9598b240f53c45a3c79aa0924a24588e99716043b/gensim-3.8.0-cp36-cp36m-manylinux1_x86_64.whl (24.2MB)\n",
            "\u001b[K     |████████████████████████████████| 24.2MB 53.8MB/s \n",
            "\u001b[?25hRequirement already satisfied: smart-open>=1.7.0 in /usr/local/lib/python3.6/dist-packages (from gensim==3.8.0) (2.2.0)\n",
            "Requirement already satisfied: scipy>=0.18.1 in /usr/local/lib/python3.6/dist-packages (from gensim==3.8.0) (1.4.1)\n",
            "Requirement already satisfied: numpy>=1.11.3 in /usr/local/lib/python3.6/dist-packages (from gensim==3.8.0) (1.18.5)\n",
            "Requirement already satisfied: six>=1.5.0 in /usr/local/lib/python3.6/dist-packages (from gensim==3.8.0) (1.15.0)\n",
            "Requirement already satisfied: requests in /usr/local/lib/python3.6/dist-packages (from smart-open>=1.7.0->gensim==3.8.0) (2.23.0)\n",
            "Requirement already satisfied: idna<3,>=2.5 in /usr/local/lib/python3.6/dist-packages (from requests->smart-open>=1.7.0->gensim==3.8.0) (2.10)\n",
            "Requirement already satisfied: certifi>=2017.4.17 in /usr/local/lib/python3.6/dist-packages (from requests->smart-open>=1.7.0->gensim==3.8.0) (2020.6.20)\n",
            "Requirement already satisfied: chardet<4,>=3.0.2 in /usr/local/lib/python3.6/dist-packages (from requests->smart-open>=1.7.0->gensim==3.8.0) (3.0.4)\n",
            "Requirement already satisfied: urllib3!=1.25.0,!=1.25.1,<1.26,>=1.21.1 in /usr/local/lib/python3.6/dist-packages (from requests->smart-open>=1.7.0->gensim==3.8.0) (1.24.3)\n",
            "Installing collected packages: gensim\n",
            "  Found existing installation: gensim 3.6.0\n",
            "    Uninstalling gensim-3.6.0:\n",
            "      Successfully uninstalled gensim-3.6.0\n",
            "Successfully installed gensim-3.8.0\n",
            "[nltk_data] Downloading package stopwords to /root/nltk_data...\n",
            "[nltk_data]   Unzipping corpora/stopwords.zip.\n",
            "[nltk_data] Downloading package punkt to /root/nltk_data...\n",
            "[nltk_data]   Unzipping tokenizers/punkt.zip.\n"
          ],
          "name": "stdout"
        },
        {
          "output_type": "execute_result",
          "data": {
            "text/plain": [
              "True"
            ]
          },
          "metadata": {
            "tags": []
          },
          "execution_count": 1
        }
      ]
    },
    {
      "cell_type": "code",
      "metadata": {
        "id": "XbC7w3gAz9GM",
        "outputId": "f0da2a02-1c83-4475-8012-9ac64f48ddf1",
        "colab": {
          "base_uri": "https://localhost:8080/",
          "height": 237
        }
      },
      "source": [
        "!pip install gensim==3.8.0\n",
        "import pkg_resources\n",
        "pkg_resources.get_distribution(\"gensim\").version\n"
      ],
      "execution_count": 2,
      "outputs": [
        {
          "output_type": "stream",
          "text": [
            "Requirement already satisfied: gensim==3.8.0 in /usr/local/lib/python3.6/dist-packages (3.8.0)\n",
            "Requirement already satisfied: smart-open>=1.7.0 in /usr/local/lib/python3.6/dist-packages (from gensim==3.8.0) (2.2.0)\n",
            "Requirement already satisfied: six>=1.5.0 in /usr/local/lib/python3.6/dist-packages (from gensim==3.8.0) (1.15.0)\n",
            "Requirement already satisfied: scipy>=0.18.1 in /usr/local/lib/python3.6/dist-packages (from gensim==3.8.0) (1.4.1)\n",
            "Requirement already satisfied: numpy>=1.11.3 in /usr/local/lib/python3.6/dist-packages (from gensim==3.8.0) (1.18.5)\n",
            "Requirement already satisfied: requests in /usr/local/lib/python3.6/dist-packages (from smart-open>=1.7.0->gensim==3.8.0) (2.23.0)\n",
            "Requirement already satisfied: certifi>=2017.4.17 in /usr/local/lib/python3.6/dist-packages (from requests->smart-open>=1.7.0->gensim==3.8.0) (2020.6.20)\n",
            "Requirement already satisfied: idna<3,>=2.5 in /usr/local/lib/python3.6/dist-packages (from requests->smart-open>=1.7.0->gensim==3.8.0) (2.10)\n",
            "Requirement already satisfied: urllib3!=1.25.0,!=1.25.1,<1.26,>=1.21.1 in /usr/local/lib/python3.6/dist-packages (from requests->smart-open>=1.7.0->gensim==3.8.0) (1.24.3)\n",
            "Requirement already satisfied: chardet<4,>=3.0.2 in /usr/local/lib/python3.6/dist-packages (from requests->smart-open>=1.7.0->gensim==3.8.0) (3.0.4)\n"
          ],
          "name": "stdout"
        },
        {
          "output_type": "execute_result",
          "data": {
            "application/vnd.google.colaboratory.intrinsic+json": {
              "type": "string"
            },
            "text/plain": [
              "'3.6.0'"
            ]
          },
          "metadata": {
            "tags": []
          },
          "execution_count": 2
        }
      ]
    },
    {
      "cell_type": "code",
      "metadata": {
        "id": "bCP8Ejr0SJ0F",
        "outputId": "81ef9a7a-b946-4877-df41-61301f2ca7dc",
        "colab": {
          "base_uri": "https://localhost:8080/",
          "height": 417
        }
      },
      "source": [
        "!mkdir -p dataset\n",
        "!wget https://raw.githubusercontent.com/project303/dataset/master/Berita.txt -P dataset\n",
        "!wget https://raw.githubusercontent.com/project303/dataset/master/Judul-Berita.txt -P dataset"
      ],
      "execution_count": 3,
      "outputs": [
        {
          "output_type": "stream",
          "text": [
            "--2020-10-08 17:37:30--  https://raw.githubusercontent.com/project303/dataset/master/Berita.txt\n",
            "Resolving raw.githubusercontent.com (raw.githubusercontent.com)... 151.101.0.133, 151.101.64.133, 151.101.128.133, ...\n",
            "Connecting to raw.githubusercontent.com (raw.githubusercontent.com)|151.101.0.133|:443... connected.\n",
            "HTTP request sent, awaiting response... 200 OK\n",
            "Length: 76189 (74K) [text/plain]\n",
            "Saving to: ‘dataset/Berita.txt’\n",
            "\n",
            "Berita.txt          100%[===================>]  74.40K  --.-KB/s    in 0.03s   \n",
            "\n",
            "2020-10-08 17:37:30 (2.53 MB/s) - ‘dataset/Berita.txt’ saved [76189/76189]\n",
            "\n",
            "--2020-10-08 17:37:30--  https://raw.githubusercontent.com/project303/dataset/master/Judul-Berita.txt\n",
            "Resolving raw.githubusercontent.com (raw.githubusercontent.com)... 151.101.0.133, 151.101.64.133, 151.101.128.133, ...\n",
            "Connecting to raw.githubusercontent.com (raw.githubusercontent.com)|151.101.0.133|:443... connected.\n",
            "HTTP request sent, awaiting response... 200 OK\n",
            "Length: 1753 (1.7K) [text/plain]\n",
            "Saving to: ‘dataset/Judul-Berita.txt’\n",
            "\n",
            "Judul-Berita.txt    100%[===================>]   1.71K  --.-KB/s    in 0s      \n",
            "\n",
            "2020-10-08 17:37:31 (31.8 MB/s) - ‘dataset/Judul-Berita.txt’ saved [1753/1753]\n",
            "\n"
          ],
          "name": "stdout"
        }
      ]
    },
    {
      "cell_type": "code",
      "metadata": {
        "id": "Xv6ylsJkMmO4",
        "outputId": "d25497ea-ffd9-4f4c-ee2c-6f3e823654fa",
        "colab": {
          "base_uri": "https://localhost:8080/",
          "height": 35
        }
      },
      "source": [
        "article = open('dataset/Berita.txt', encoding=\"utf8\").read().split('BERHENTI DISINI')\n",
        "len(article)"
      ],
      "execution_count": 4,
      "outputs": [
        {
          "output_type": "execute_result",
          "data": {
            "text/plain": [
              "32"
            ]
          },
          "metadata": {
            "tags": []
          },
          "execution_count": 4
        }
      ]
    },
    {
      "cell_type": "markdown",
      "metadata": {
        "id": "AgTfNBEMMmPT"
      },
      "source": [
        "Clean the data from html tags with ``beautifulsoup``"
      ]
    },
    {
      "cell_type": "code",
      "metadata": {
        "id": "zXEw_pGrMmPf",
        "outputId": "a31e6879-f117-4387-f207-2b782180d790",
        "colab": {
          "base_uri": "https://localhost:8080/",
          "height": 181
        }
      },
      "source": [
        "article_clean = []\n",
        "for text in article:\n",
        "    text = BeautifulSoup(text, 'html.parser').getText()\n",
        "    article_clean.append(text)\n",
        "article = article_clean\n",
        "print(article[0][:100])"
      ],
      "execution_count": 5,
      "outputs": [
        {
          "output_type": "stream",
          "text": [
            "\n",
            "\n",
            "Kroasia: Melawan Argentina adalah Pertandingan Termudah\n",
            "\n",
            "\n",
            "\n",
            "\n",
            "\n",
            "Jakarta, CNN Indonesia -- Agung Rahma\n"
          ],
          "name": "stdout"
        }
      ]
    },
    {
      "cell_type": "markdown",
      "metadata": {
        "id": "z_V1VWiNMmP6"
      },
      "source": [
        "Tokenize and clean stopwords"
      ]
    },
    {
      "cell_type": "code",
      "metadata": {
        "id": "EVe7-J0dMmQB"
      },
      "source": [
        "factory = StemmerFactory()\n",
        "stemmer = factory.create_stemmer()"
      ],
      "execution_count": 6,
      "outputs": []
    },
    {
      "cell_type": "code",
      "metadata": {
        "id": "f5g0Y_RcMmQb"
      },
      "source": [
        "def tokenize_and_stem(text):\n",
        "    stopwords = nltk.corpus.stopwords.words('indonesian')\n",
        "    # first tokenize by sentence, then by word to ensure that punctuation is caught as it's own token\n",
        "    tokens = [word for sent in nltk.sent_tokenize(text) for word in nltk.word_tokenize(sent)]\n",
        "    filtered_tokens = []\n",
        "    # filter out any tokens not containing letters (e.g., numeric tokens, raw punctuation)\n",
        "    for token in tokens:\n",
        "        if re.search('[a-zA-Z]', token) and token not in stopwords:\n",
        "            filtered_tokens.append(token)\n",
        "    stems = [stemmer.stem(t) for t in filtered_tokens]\n",
        "    return stems"
      ],
      "execution_count": 7,
      "outputs": []
    },
    {
      "cell_type": "code",
      "metadata": {
        "id": "eKTUOCW2MmQt",
        "outputId": "c3d5ba68-9e7e-4317-c103-47d6d6770b1a",
        "colab": {
          "base_uri": "https://localhost:8080/",
          "height": 55
        }
      },
      "source": [
        "# For gensim we need to tokenize the data and filter out stopwords\n",
        "tokenized_data = []\n",
        "for text in article:\n",
        "    tokenized_data.append(tokenize_and_stem(text))\n",
        "\n",
        "# Build a Dictionary - association word to numeric id\n",
        "dictionary = corpora.Dictionary(tokenized_data)\n",
        " \n",
        "# Transform the collection of texts to a numerical form\n",
        "corpus = [dictionary.doc2bow(text) for text in tokenized_data]\n",
        " \n",
        "# Have a look at how the 20th document looks like: [(word_id, count), ...]\n",
        "print(corpus[20])\n",
        "# [(12, 3), (14, 1), (21, 1), (25, 5), (30, 2), (31, 5), (33, 1), (42, 1), (43, 2),  ...\n"
      ],
      "execution_count": 8,
      "outputs": [
        {
          "output_type": "stream",
          "text": [
            "[(2, 1), (3, 1), (11, 1), (19, 4), (22, 2), (24, 1), (26, 1), (44, 1), (50, 1), (164, 2), (183, 9), (196, 1), (223, 2), (230, 1), (252, 4), (274, 1), (280, 1), (284, 1), (309, 1), (314, 1), (335, 2), (341, 1), (404, 1), (431, 1), (434, 1), (452, 1), (465, 1), (474, 1), (480, 1), (485, 2), (489, 1), (500, 1), (504, 1), (520, 1), (523, 1), (534, 1), (538, 2), (546, 1), (547, 9), (552, 1), (596, 1), (597, 3), (599, 1), (619, 2), (676, 1), (845, 1), (904, 1), (914, 2), (927, 1), (932, 1), (967, 1), (1032, 1), (1038, 2), (1165, 2), (1174, 1), (1283, 1), (1397, 1), (1398, 8), (1399, 1), (1400, 1), (1401, 3), (1402, 1), (1403, 1), (1404, 2), (1405, 4), (1406, 1), (1407, 2), (1408, 3), (1409, 1), (1410, 1), (1411, 1), (1412, 3), (1413, 1), (1414, 4), (1415, 2), (1416, 1), (1417, 1), (1418, 1), (1419, 1), (1420, 1), (1421, 1), (1422, 1), (1423, 1), (1424, 2), (1425, 1), (1426, 1), (1427, 1), (1428, 1), (1429, 1), (1430, 1), (1431, 4), (1432, 1), (1433, 1), (1434, 1), (1435, 1), (1436, 1), (1437, 1), (1438, 1), (1439, 1), (1440, 1), (1441, 2), (1442, 1), (1443, 4), (1444, 1), (1445, 1), (1446, 2), (1447, 9)]\n"
          ],
          "name": "stdout"
        }
      ]
    },
    {
      "cell_type": "code",
      "metadata": {
        "id": "jWPxNZZIMmRL"
      },
      "source": [
        "NUM_TOPICS = 4\n",
        "\n",
        "# Build the LDA model\n",
        "lda_model = models.LdaModel(corpus=corpus, num_topics=NUM_TOPICS, id2word=dictionary, alpha = 'auto', eval_every=5)#, per_word_topics=True)\n",
        " \n",
        "# Build the LSI model\n",
        "lsi_model = models.LsiModel(corpus=corpus, num_topics=NUM_TOPICS, id2word=dictionary)"
      ],
      "execution_count": 9,
      "outputs": []
    },
    {
      "cell_type": "markdown",
      "metadata": {
        "id": "R40g_yruMmRc"
      },
      "source": [
        "We’re going to run LDA and LSI (Latent Semantic Indexing AKA Latent Semantic Analysis) models, which implementation included in the gensim package."
      ]
    },
    {
      "cell_type": "markdown",
      "metadata": {
        "id": "fV9w7E78MmRk"
      },
      "source": [
        "Let’s now display the topics the two models have inferred:"
      ]
    },
    {
      "cell_type": "code",
      "metadata": {
        "id": "mELANWUoMmRo",
        "outputId": "4211668e-91e0-4c52-df32-b44fc7c750ba",
        "colab": {
          "base_uri": "https://localhost:8080/",
          "height": 255
        }
      },
      "source": [
        "print(\"LDA Model:\")\n",
        " \n",
        "for idx in range(NUM_TOPICS):\n",
        "    # Print the first 10 most representative topics\n",
        "    print(\"Topic #%s:\" % idx, lda_model.print_topic(idx, 10))\n",
        " \n",
        "print(\"=\" * 20)\n",
        " \n",
        "print(\"LSI Model:\")\n",
        " \n",
        "for idx in range(NUM_TOPICS):\n",
        "    # Print the first 10 most representative topics\n",
        "    print(\"Topic #%s:\" % idx, lsi_model.print_topic(idx, 10))\n",
        " \n",
        "print(\"=\" * 20)"
      ],
      "execution_count": 10,
      "outputs": [
        {
          "output_type": "stream",
          "text": [
            "LDA Model:\n",
            "Topic #0: 0.013*\"persen\" + 0.007*\"indonesia\" + 0.007*\"dunia\" + 0.006*\"diskon\" + 0.006*\"uang\" + 0.005*\"dolar\" + 0.005*\"jakarta\" + 0.005*\"tabung\" + 0.004*\"tampil\" + 0.004*\"posisi\"\n",
            "Topic #1: 0.025*\"persen\" + 0.006*\"indonesia\" + 0.006*\"novel\" + 0.006*\"duga\" + 0.005*\"indeks\" + 0.005*\"lemah\" + 0.005*\"jakarta\" + 0.005*\"cnn\" + 0.005*\"oknum\" + 0.004*\"uang\"\n",
            "Topic #2: 0.012*\"persen\" + 0.007*\"balap\" + 0.006*\"jakarta\" + 0.005*\"indonesia\" + 0.005*\"poin\" + 0.005*\"cnn\" + 0.005*\"dunia\" + 0.005*\"hasil\" + 0.005*\"main\" + 0.005*\"tanding\"\n",
            "Topic #3: 0.009*\"main\" + 0.008*\"persen\" + 0.007*\"jakarta\" + 0.006*\"tanding\" + 0.005*\"lapor\" + 0.005*\"aman\" + 0.005*\"dunia\" + 0.004*\"menteri\" + 0.004*\"lawan\" + 0.004*\"belanja\"\n",
            "====================\n",
            "LSI Model:\n",
            "Topic #0: 0.731*\"persen\" + 0.216*\"lemah\" + 0.171*\"dolar\" + 0.165*\"minus\" + 0.133*\"indeks\" + 0.128*\"bunga\" + 0.116*\"kuat\" + 0.111*\"uang\" + 0.104*\"as\" + 0.103*\"dagang\"\n",
            "Topic #1: -0.385*\"novel\" + -0.311*\"oknum\" + -0.300*\"duga\" + -0.271*\"jenderal\" + -0.165*\"kpk\" + -0.142*\"main\" + -0.141*\"keras\" + 0.139*\"persen\" + -0.136*\"polisi\" + -0.131*\"air\"\n",
            "Topic #2: 0.391*\"main\" + 0.294*\"tanding\" + 0.248*\"dunia\" + 0.242*\"argentina\" + 0.230*\"lawan\" + -0.202*\"novel\" + 0.194*\"piala\" + 0.190*\"kroasia\" + 0.188*\"timnas\" + -0.157*\"oknum\"\n",
            "Topic #3: -0.296*\"belanja\" + -0.276*\"diskon\" + -0.229*\"pagu\" + -0.218*\"triliun\" + -0.210*\"serap\" + -0.203*\"menteri\" + 0.169*\"lemah\" + -0.168*\"mei\" + -0.163*\"kerja\" + 0.158*\"minus\"\n",
            "====================\n"
          ],
          "name": "stdout"
        }
      ]
    },
    {
      "cell_type": "markdown",
      "metadata": {
        "id": "D_ZwrWDcMmR4"
      },
      "source": [
        "Let’s now put the models to work and transform unseen documents to their topic distribution:"
      ]
    },
    {
      "cell_type": "markdown",
      "metadata": {
        "id": "b8UavFS_MmR9"
      },
      "source": [
        ""
      ]
    },
    {
      "cell_type": "code",
      "metadata": {
        "id": "5-zr827vMmSB",
        "outputId": "27800883-d12e-4d88-e22e-cb670b478727",
        "colab": {
          "base_uri": "https://localhost:8080/",
          "height": 72
        }
      },
      "source": [
        "text = \"Pertandingan berjalan dengan seru. Tim lawan berhasil dikalahkan dengan skor 1-0.\"\n",
        "bow = dictionary.doc2bow(tokenize_and_stem(text))\n",
        "\n",
        "print(lda_model[bow]) \n",
        "print(lsi_model[bow])\n",
        "print(bow)"
      ],
      "execution_count": 11,
      "outputs": [
        {
          "output_type": "stream",
          "text": [
            "[(0, 0.0583168), (1, 0.054374084), (2, 0.8333789), (3, 0.053930227)]\n",
            "[(0, 0.13315407974835505), (1, -0.35909145512635077), (2, 0.8065685310165082), (3, 0.03966512669010389)]\n",
            "[(19, 1), (46, 1), (75, 1), (137, 1), (404, 1), (454, 1), (930, 1)]\n"
          ],
          "name": "stdout"
        }
      ]
    },
    {
      "cell_type": "markdown",
      "metadata": {
        "id": "FwyfJw16MmST"
      },
      "source": [
        "The LDA result can be interpreted as a distribution over topics.\n",
        "Gensim offers a simple way of performing similarity queries using topic models."
      ]
    },
    {
      "cell_type": "code",
      "metadata": {
        "id": "C5I1jtKIMmSW",
        "outputId": "e6fc3396-be3d-440b-de61-f1bb30222e6f",
        "colab": {
          "base_uri": "https://localhost:8080/",
          "height": 273
        }
      },
      "source": [
        "from gensim import similarities\n",
        " \n",
        "lda_index = similarities.MatrixSimilarity(lda_model[corpus])\n",
        " \n",
        "# Let's perform some queries\n",
        "similarities = lda_index[lda_model[bow]]\n",
        "# Sort the similarities\n",
        "similarities = sorted(enumerate(similarities), key=lambda item: -item[1])\n",
        " \n",
        "# Top most similar documents:\n",
        "print(similarities[:10])\n",
        " \n",
        "# Let's see what's the most similar document\n",
        "document_id, similarity = similarities[0]\n",
        "print(article[document_id][:1000])"
      ],
      "execution_count": 12,
      "outputs": [
        {
          "output_type": "stream",
          "text": [
            "[(2, 0.99338967), (10, 0.99338967), (18, 0.99338967), (20, 0.99338967), (27, 0.99338967), (25, 0.9510065), (4, 0.6282035), (31, 0.5958772), (1, 0.19155347), (15, 0.13292967)]\n",
            "\n",
            "\n",
            "\n",
            "Jakarta, CNN Indonesia -- Kapolres Jakarta Selatan, Komisaris Besar Indra Jafar mengatakan pihaknya bakal menindaklanjuti laporan seorang warga, Ronny Yuniarto terkait kasus pemukulan dan pengeroyokan yang diduga dilakukan oleh Politisi PDIP Herman Hery.\n",
            "\n",
            "Indra mengatakan pihaknya masih mengumpulkan keterangan polisi lalu lintas (Polantas) yang menjadi saksi di lokasi kejadian serta hasil visum dari korban untuk menindaklanjuti laporan tersebut.\n",
            "\n",
            "\"Proses tetap kita lanjutkan, kita masih minta hasil visum rerhadap korban, kita minta di salah satu rumah sakit rujukan, selain itu juga masih dilakukan penyelidikan yang lain untuk mencari saksi-saksi,\" ujar Indra kepada wartawan di Mapolres Jakarta Selatan, Kamis (21/6).\n",
            "\n",
            "Indra juga mengatakan bakal mendalami keterangan saksi dari polisi yang dinilai melakukan pembiaran terhadap aksi pengeroyokan tersebut.\n",
            "\n",
            "Pengeroyokan itu bermula saat Ronny sedang ditilang polisi lalu lintas di Jalan Arteri Pondok Indah, Jakarta Selatan, Minggu (10/6).\n"
          ],
          "name": "stdout"
        }
      ]
    },
    {
      "cell_type": "markdown",
      "metadata": {
        "id": "bCZF_sNeMmSm"
      },
      "source": [
        "Notice how the factors corresponding to each component (topic) add up to 1. That’s not a coincidence. Indeed, LDA considers documents as being generated by a mixture of the topics. The purpose of LDA is to compute how much of the document was generated by which topic. \n",
        "\n",
        "LDA is an iterative algorithm. Here are the two main steps:\n",
        "\n",
        "   - In the initialization stage, each word is assigned to a random topic.\n",
        "   - Iteratively, the algorithm goes through each word and reassigns the word to a topic taking into consideration:\n",
        "        - What’s the probability of the word belonging to a topic\n",
        "        - What’s the probability of the document to be generated by a topic\n",
        "\n",
        "Due to these important qualities, we can visualize LDA results easily. We’re going to use a specialized tool called PyLDAVis:"
      ]
    },
    {
      "cell_type": "code",
      "metadata": {
        "id": "1bb1OMVOMmSq",
        "outputId": "4ee933c2-c943-493a-d4fb-3d0dcd213439",
        "colab": {
          "base_uri": "https://localhost:8080/",
          "height": 861
        }
      },
      "source": [
        "import pyLDAvis.gensim\n",
        " \n",
        "pyLDAvis.enable_notebook()\n",
        "panel = pyLDAvis.gensim.prepare(lda_model, corpus, dictionary)\n",
        "panel"
      ],
      "execution_count": 13,
      "outputs": [
        {
          "output_type": "execute_result",
          "data": {
            "text/html": [
              "\n",
              "<link rel=\"stylesheet\" type=\"text/css\" href=\"https://cdn.rawgit.com/bmabey/pyLDAvis/files/ldavis.v1.0.0.css\">\n",
              "\n",
              "\n",
              "<div id=\"ldavis_el1021404218804028325253821704\"></div>\n",
              "<script type=\"text/javascript\">\n",
              "\n",
              "var ldavis_el1021404218804028325253821704_data = {\"mdsDat\": {\"x\": [0.0408564641042291, -0.01445732356055138, -0.009591223576402736, -0.016807916967275002], \"y\": [-0.0028473784438094946, -0.026543592280153967, 0.03139741379752859, -0.0020064430735651337], \"topics\": [1, 2, 3, 4], \"cluster\": [1, 1, 1, 1], \"Freq\": [36.30952131835962, 24.828050203417064, 21.710192096279084, 17.152236381944228]}, \"tinfo\": {\"Term\": [\"main\", \"diskon\", \"balap\", \"tanding\", \"tabung\", \"timnas\", \"tampil\", \"felas\", \"lawan\", \"piala\", \"argentina\", \"nasabah\", \"dunia\", \"kroasia\", \"aman\", \"poin\", \"rusia\", \"uruguay\", \"keluarga\", \"asing\", \"messi\", \"kalah\", \"peru\", \"tim\", \"vettel\", \"woods\", \"grup\", \"bantu\", \"posisi\", \"lapor\", \"keluarga\", \"bantu\", \"miskin\", \"ecb\", \"pkh\", \"obligasi\", \"euro\", \"september\", \"ambil\", \"bentuk\", \"juta\", \"ftse\", \"novel\", \"vliet\", \"turun\", \"cac\", \"belanda\", \"nyata\", \"mcilroy\", \"tenor\", \"bijak\", \"draghi\", \"yield\", \"panas\", \"eropa\", \"dovish\", \"militer\", \"aidi\", \"tikam\", \"adat\", \"pasal\", \"indeks\", \"persen\", \"sidi\", \"fr\", \"terima\", \"jenderal\", \"oknum\", \"perintah\", \"lemah\", \"keras\", \"duga\", \"laku\", \"polisi\", \"indonesia\", \"rumah\", \"cnn\", \"naik\", \"kait\", \"uang\", \"dolar\", \"bunga\", \"jakarta\", \"namun\", \"lapor\", \"orang\", \"dagang\", \"menteri\", \"belanja\", \"felas\", \"btn\", \"persero\", \"tabung\", \"asing\", \"uruguay\", \"nasabah\", \"tampil\", \"dpk\", \"bidik\", \"luncur\", \"simpan\", \"saudi\", \"mesir\", \"produk\", \"woods\", \"butuh\", \"arab\", \"phoenix\", \"valuta\", \"punggung\", \"lancong\", \"prioritas\", \"tari\", \"rp30 04\", \"fasilitas\", \"gemar\", \"bbtn\", \"wni\", \"kaya\", \"cedera\", \"diskon\", \"lloris\", \"budi\", \"rusia\", \"mata\", \"tawar\", \"topshop\", \"mandiri\", \"prancis\", \"dunia\", \"timnas\", \"laga\", \"dolar\", \"posisi\", \"uang\", \"indonesia\", \"persen\", \"pekan\", \"piala\", \"negara\", \"bank\", \"jakarta\", \"golf\", \"minus\", \"lawan\", \"poin\", \"cnn\", \"as\", \"duga\", \"pt\", \"hasil\", \"lebaran\", \"namun\", \"main\", \"rakitic\", \"sampaoli\", \"messi\", \"nigeria\", \"kroasia\", \"novgorod\", \"islandia\", \"raya\", \"dalic\", \"bintang\", \"aman\", \"main\", \"nizhny\", \"argentina\", \"waspada\", \"d\", \"leo\", \"sadar\", \"sendiri\", \"stadium\", \"kaliningrad\", \"zlatko\", \"realisasi\", \"pisah\", \"gugur\", \"prediksi\", \"siar\", \"barria\", \"hakim\", \"favorit\", \"daerah\", \"beban\", \"tanding\", \"tni\", \"vonis\", \"penalti\", \"pagu\", \"keroyok\", \"serap\", \"polri\", \"menteri\", \"hadap\", \"salah\", \"belanja\", \"lapor\", \"lawan\", \"kerja\", \"jakarta\", \"usaha\", \"piala\", \"kalah\", \"dunia\", \"mei\", \"kait\", \"oknum\", \"persen\", \"duga\", \"triliun\", \"saya\", \"indonesia\", \"lemah\", \"polisi\", \"cnn\", \"naik\", \"finish\", \"balap\", \"selisih\", \"mobil\", \"urut\", \"nico\", \"peringkat\", \"rosberg\", \"ke-23\", \"herman\", \"malam\", \"lempar\", \"klasemen\", \"rekor\", \"raikkonen\", \"hamilton\", \"kim\", \"formula\", \"henti\", \"diri\", \"red\", \"belgia\", \"sirkuit\", \"pukul\", \"bek\", \"menindaklanjuti\", \"stenson\", \"praduga\", \"vettel\", \"b\", \"mickelson\", \"kalah\", \"depan\", \"poin\", \"indra\", \"sulit\", \"tim\", \"peru\", \"sementara\", \"portugal\", \"bola\", \"ajang\", \"hasil\", \"tanding\", \"raih\", \"piala\", \"timnas\", \"kami\", \"diskon\", \"lawan\", \"menang\", \"persen\", \"cnn\", \"dunia\", \"main\", \"jakarta\", \"lebaran\", \"laku\", \"golf\", \"posisi\", \"indonesia\", \"baik\", \"buka\", \"rusia\", \"minus\", \"polisi\", \"lapor\", \"duga\", \"indeks\"], \"Freq\": [25.0, 19.0, 14.0, 18.0, 10.0, 14.0, 9.0, 6.0, 17.0, 15.0, 11.0, 8.0, 27.0, 9.0, 13.0, 18.0, 12.0, 6.0, 10.0, 6.0, 7.0, 10.0, 7.0, 12.0, 11.0, 7.0, 10.0, 9.0, 17.0, 21.0, 8.993002288907308, 7.989534811812955, 4.358527133624744, 5.614942307008301, 3.510544854347534, 5.461691345144918, 8.095753441113418, 2.671016992698138, 1.8153480121516838, 2.428958375678519, 7.259060555147533, 1.7910095900818064, 14.526532541180144, 1.7744222150617082, 6.991422408195074, 2.3338085639657113, 1.7518584737990168, 4.094877887731144, 3.4399885641560335, 1.7188622530747502, 2.8581810019082265, 1.7070685715376912, 1.701540342088132, 1.6986913957132324, 3.3580023677378867, 1.6925870095774254, 2.758335425885677, 4.373866684103327, 2.747550589467229, 2.1899785497738726, 9.264457658614818, 11.938786511173706, 57.501280902364265, 4.702468092271223, 3.174338285388023, 8.940562761442347, 9.583281732147165, 10.638972728324223, 5.730226840352013, 11.911122392885261, 5.254481811795105, 13.299871447783481, 9.957658647987206, 9.541943530994056, 14.803291937607124, 7.348486413397757, 11.062741411569164, 7.728890070569535, 7.523830949025144, 10.019446717328911, 9.296139962680611, 7.621981504048142, 11.558376405990517, 7.728887921232398, 8.488836575389781, 7.237482284962089, 6.790214898799926, 6.70800436531812, 6.743079935388721, 5.380685429554079, 2.8070019871394054, 2.166876270160714, 8.113775452036917, 4.812423843708825, 4.557479500921049, 6.252254179241925, 6.859927420753911, 1.5081075889754685, 1.493309525442242, 1.4901621778224103, 1.47503095325086, 2.3522286272366073, 2.7769768934203545, 2.847557615116941, 4.9152880261738785, 3.3969522004246575, 2.0415235798250793, 1.2768621381227883, 0.8404672895372878, 1.242134669704285, 0.8361823995136507, 0.8358818472893894, 0.8344821483916837, 0.8336873200308851, 0.8336177851794897, 0.8337984655661406, 0.8306007809600943, 0.8306984236906534, 0.8304896354248387, 1.6275836198821414, 10.112690977570617, 2.6577895653379033, 2.7163606904547777, 6.329378525434821, 5.769896885739871, 3.9342238390778648, 2.2329836137028005, 2.6325988431233975, 2.795434584449545, 10.84451506794445, 5.965811008051098, 3.573935941686508, 8.253994454775773, 6.473384927107279, 8.79628399285042, 11.28931986746041, 19.89786968197115, 4.498243155997298, 5.525300651563457, 4.034221752714724, 3.98537650492341, 8.143647697681038, 4.83991739118685, 5.361838086160795, 5.346251991597025, 5.307287490034114, 6.176835411808224, 4.649714863406358, 6.051839856878434, 4.415626934381378, 5.055011742362241, 4.393876212410938, 4.601630181757123, 4.856854501066767, 2.4322528991280294, 2.284208762779038, 4.3762472628226945, 1.6837850444096485, 5.332244633521261, 1.6588086676447142, 1.6371254412324396, 1.67356230250759, 1.9640906129199194, 1.1786309609315946, 6.835426083724433, 12.778072359900682, 1.489591180942928, 5.894203873847146, 1.102487300722583, 1.0989509391682686, 1.4538007409857825, 1.1054834249775807, 0.7308793796470474, 1.744843104136088, 1.0495840451182121, 0.7017338745356462, 2.8927347555063343, 0.6932638115078655, 0.691743982459743, 0.6917268741420572, 0.6928387541501515, 0.687250197680948, 2.483341869850306, 0.6857745450399954, 2.472477043950219, 1.0188966227551035, 7.769072441375798, 4.012449569893303, 4.375307188878121, 1.3262839352752822, 4.299326981375637, 3.7617444431675424, 3.7357015676127885, 4.869616125037464, 6.040368344231431, 3.7056950241652773, 5.381424380246398, 5.917863151112496, 7.126006602617963, 6.023844118969189, 5.398067801487259, 9.581974521605117, 4.12341042364914, 4.6735567320563325, 3.5343355439609367, 6.513244172763821, 3.9474209346904403, 4.526785679441235, 5.1378735825014195, 11.157821824282673, 5.637493647292939, 4.330523235628602, 4.321697592683475, 5.306280151009048, 4.703019986016395, 4.21570280965945, 4.3297495862579485, 4.035763146692365, 1.350463662270929, 7.105343898725858, 1.5203157382981038, 1.5344782428664636, 1.5192466018299269, 0.5982894148610354, 1.4584507606849937, 0.5853207412741459, 0.56308831240272, 1.7179780540513947, 1.3993786863385858, 1.9682617082455818, 2.7328369360536, 1.0818867835855717, 0.5411333843489184, 2.9737208449673282, 0.5402575402407882, 0.7980943186788754, 0.802039741920354, 0.5311552849747412, 0.7975009885520083, 0.5273917951529125, 0.7820701535830401, 1.5727731018675752, 0.7820176105514843, 1.3213586302551241, 2.344828477486777, 1.0465709494834727, 4.146805959229566, 1.0283441652749583, 1.7654377376773864, 3.3920626240992218, 2.1608705012199234, 5.559672086405002, 2.2061653865627133, 2.1112717831643666, 4.0051583225807095, 2.4495533389851225, 2.9717216714575083, 1.263736185151299, 2.0586608517973533, 1.665379814237897, 5.223200219200074, 4.912067292420652, 3.564105262263236, 4.270672221740546, 3.8752592570214945, 3.515609820954814, 4.835573268731938, 4.293318522172125, 3.6691189835196023, 13.011267963475117, 5.391578552032986, 5.383585411628691, 5.010373527643881, 6.0930523910843775, 3.3331443713814264, 4.302009698019793, 3.4663351182605173, 3.8503574136990757, 5.646805185574999, 3.3125556256058406, 3.032805864698322, 3.104627619875703, 3.4834575469398485, 3.5028598862927702, 3.5329774504480715, 3.6206908074448143, 3.2449896021534013], \"Total\": [25.0, 19.0, 14.0, 18.0, 10.0, 14.0, 9.0, 6.0, 17.0, 15.0, 11.0, 8.0, 27.0, 9.0, 13.0, 18.0, 12.0, 6.0, 10.0, 6.0, 7.0, 10.0, 7.0, 12.0, 11.0, 7.0, 10.0, 9.0, 17.0, 21.0, 10.572975887685631, 9.644100614457454, 5.264644960589239, 6.922507953546742, 4.352495195738174, 6.862710054232839, 10.290162922325543, 3.4368973691210067, 2.5312388055749735, 3.397262457536706, 10.203406625921515, 2.5237700951949376, 20.474135405309564, 2.5215890719872323, 9.961200598308134, 3.3339117104707734, 2.510069026564686, 5.90856700807671, 4.965595077013176, 2.5069460205318546, 4.187877784425309, 2.502200474754052, 2.5003402520013247, 2.501432874887082, 4.947551705666056, 2.4984075948931754, 4.107111080487348, 6.5372034468708975, 4.10656355241311, 3.2920977330898324, 14.327921913556773, 18.795436660921673, 101.56824037209321, 7.374809890238635, 4.86873613930253, 15.393703406712905, 16.632213302240853, 20.49408738292905, 9.933423478517131, 24.016691686994807, 9.073461896053463, 28.609895759399667, 20.267247128167263, 20.54581687071838, 37.04569714165158, 15.12998797152811, 26.960904961668323, 16.76975441438757, 16.21137600510673, 25.559738646663252, 23.12450667072469, 16.63629712100951, 35.37705101636105, 17.48815455480086, 21.37507648100457, 15.858259357674092, 14.814171633844442, 16.22314091987615, 16.857602971997917, 6.441195373552356, 3.6001004128086738, 2.884106142746748, 10.947041072157646, 6.499223832301768, 6.2805822679468095, 8.797727908269488, 9.87856637915511, 2.1749081442611184, 2.1777177404326378, 2.1788229760853466, 2.1826929639745853, 3.5228628094914067, 4.211230146041669, 4.353123169461859, 7.905020362892494, 5.784124711337531, 3.4904626934026606, 2.194736660780242, 1.4678623725223596, 2.174824000481175, 1.4682655069405137, 1.468233216025862, 1.4693900589792521, 1.4689729293062546, 1.4693398950498664, 1.4699453884231632, 1.4701003419304708, 1.4703407282523624, 1.4701893001800332, 2.917437696693266, 19.16857911582377, 4.907522130161291, 5.151878615189753, 12.76114697275996, 12.04088680763579, 7.938883926771639, 4.323094996947436, 5.289649761001562, 5.658916951392061, 27.957654773915824, 14.099938688819112, 7.839347518431397, 23.12450667072469, 17.005059120514087, 25.559738646663252, 37.04569714165158, 101.56824037209321, 11.300664337801395, 15.726472575344562, 9.906439110319337, 9.885971406725997, 35.37705101636105, 14.135336624904491, 17.187686663527785, 17.420314645458987, 18.04339557219771, 26.960904961668323, 14.35716055865509, 28.609895759399667, 12.670377179922038, 19.37607184497615, 13.181537300581626, 17.48815455480086, 25.46809658456839, 3.834096825577944, 3.8089342944780866, 7.614648278935757, 3.048122079462023, 9.72767665828492, 3.0285260657242756, 3.0276232729540267, 3.110488858641625, 3.734996608604299, 2.270273634077779, 13.38964675009209, 25.46809658456839, 2.9834407842755417, 11.876501301642902, 2.2540848025592863, 2.2509836005713915, 2.9835956478031944, 2.3052554061186337, 1.5288053530064034, 3.7090497554294126, 2.2430242940674248, 1.5205892054939192, 6.278593993942267, 1.5174070438790692, 1.5144663117386976, 1.5178940540138603, 1.5222790831816297, 1.5126575817400596, 5.466679162316612, 1.5099106886155513, 5.514201238070591, 2.2603591594261916, 18.15457297651978, 9.258408448204682, 10.194328873442636, 2.967361376333005, 10.178456695367702, 9.1823549045327, 9.342496240944206, 12.610197554396786, 16.22314091987615, 9.42025530743099, 14.672350612715508, 16.857602971997917, 21.37507648100457, 17.420314645458987, 15.271702488092846, 35.37705101636105, 12.078833523643642, 15.726472575344562, 10.152701977669933, 27.957654773915824, 12.546890438046194, 16.21137600510673, 20.49408738292905, 101.56824037209321, 28.609895759399667, 16.360354970157175, 17.173003611968017, 37.04569714165158, 24.016691686994807, 20.54581687071838, 26.960904961668323, 16.76975441438757, 2.805320409574026, 14.85494578346907, 3.5066127904761712, 3.5752370647896967, 3.5467115424680795, 1.4279502052653474, 3.5578397566045674, 1.439412086565304, 1.4396410073459234, 4.408248695659509, 3.598815051854805, 5.063451438765154, 7.082768317173418, 2.879517532148487, 1.447214244268467, 7.9566011276213775, 1.4546148460431896, 2.167098309611802, 2.1882328493966368, 1.4534817182145274, 2.1838548977715977, 1.4524701817679397, 2.181803065189432, 4.404665696906038, 2.190117157434285, 3.7173654422202413, 6.5968136533061905, 2.956280619709161, 11.748013754862852, 2.9206600655249924, 5.119531672118825, 10.152701977669933, 6.52900679501963, 18.04339557219771, 6.699700298820092, 6.419384147776563, 12.98644446395966, 7.628852527164675, 9.665289167786106, 3.673430696921724, 6.448587649972173, 5.064386395468164, 19.37607184497615, 18.15457297651978, 12.572101491545824, 15.726472575344562, 14.099938688819112, 12.60981621999235, 19.16857911582377, 17.420314645458987, 15.035170188017803, 101.56824037209321, 26.960904961668323, 27.957654773915824, 25.46809658456839, 35.37705101636105, 13.181537300581626, 20.267247128167263, 14.135336624904491, 17.005059120514087, 37.04569714165158, 14.170122984339905, 12.10959924175597, 12.76114697275996, 17.187686663527785, 20.54581687071838, 21.37507648100457, 28.609895759399667, 18.795436660921673], \"Category\": [\"Default\", \"Default\", \"Default\", \"Default\", \"Default\", \"Default\", \"Default\", \"Default\", \"Default\", \"Default\", \"Default\", \"Default\", \"Default\", \"Default\", \"Default\", \"Default\", \"Default\", \"Default\", \"Default\", \"Default\", \"Default\", \"Default\", \"Default\", \"Default\", \"Default\", \"Default\", \"Default\", \"Default\", \"Default\", \"Default\", \"Topic1\", \"Topic1\", \"Topic1\", \"Topic1\", \"Topic1\", \"Topic1\", \"Topic1\", \"Topic1\", \"Topic1\", \"Topic1\", \"Topic1\", \"Topic1\", \"Topic1\", \"Topic1\", \"Topic1\", \"Topic1\", \"Topic1\", \"Topic1\", \"Topic1\", \"Topic1\", \"Topic1\", \"Topic1\", \"Topic1\", \"Topic1\", \"Topic1\", \"Topic1\", \"Topic1\", \"Topic1\", \"Topic1\", \"Topic1\", \"Topic1\", \"Topic1\", \"Topic1\", \"Topic1\", \"Topic1\", \"Topic1\", \"Topic1\", \"Topic1\", \"Topic1\", \"Topic1\", \"Topic1\", \"Topic1\", \"Topic1\", \"Topic1\", \"Topic1\", \"Topic1\", \"Topic1\", \"Topic1\", \"Topic1\", \"Topic1\", \"Topic1\", \"Topic1\", \"Topic1\", \"Topic1\", \"Topic1\", \"Topic1\", \"Topic1\", \"Topic1\", \"Topic1\", \"Topic2\", \"Topic2\", \"Topic2\", \"Topic2\", \"Topic2\", \"Topic2\", \"Topic2\", \"Topic2\", \"Topic2\", \"Topic2\", \"Topic2\", \"Topic2\", \"Topic2\", \"Topic2\", \"Topic2\", \"Topic2\", \"Topic2\", \"Topic2\", \"Topic2\", \"Topic2\", \"Topic2\", \"Topic2\", \"Topic2\", \"Topic2\", \"Topic2\", \"Topic2\", \"Topic2\", \"Topic2\", \"Topic2\", \"Topic2\", \"Topic2\", \"Topic2\", \"Topic2\", \"Topic2\", \"Topic2\", \"Topic2\", \"Topic2\", \"Topic2\", \"Topic2\", \"Topic2\", \"Topic2\", \"Topic2\", \"Topic2\", \"Topic2\", \"Topic2\", \"Topic2\", \"Topic2\", \"Topic2\", \"Topic2\", \"Topic2\", \"Topic2\", \"Topic2\", \"Topic2\", \"Topic2\", \"Topic2\", \"Topic2\", \"Topic2\", \"Topic2\", \"Topic2\", \"Topic2\", \"Topic2\", \"Topic2\", \"Topic2\", \"Topic2\", \"Topic2\", \"Topic3\", \"Topic3\", \"Topic3\", \"Topic3\", \"Topic3\", \"Topic3\", \"Topic3\", \"Topic3\", \"Topic3\", \"Topic3\", \"Topic3\", \"Topic3\", \"Topic3\", \"Topic3\", \"Topic3\", \"Topic3\", \"Topic3\", \"Topic3\", \"Topic3\", \"Topic3\", \"Topic3\", \"Topic3\", \"Topic3\", \"Topic3\", \"Topic3\", \"Topic3\", \"Topic3\", \"Topic3\", \"Topic3\", \"Topic3\", \"Topic3\", \"Topic3\", \"Topic3\", \"Topic3\", \"Topic3\", \"Topic3\", \"Topic3\", \"Topic3\", \"Topic3\", \"Topic3\", \"Topic3\", \"Topic3\", \"Topic3\", \"Topic3\", \"Topic3\", \"Topic3\", \"Topic3\", \"Topic3\", \"Topic3\", \"Topic3\", \"Topic3\", \"Topic3\", \"Topic3\", \"Topic3\", \"Topic3\", \"Topic3\", \"Topic3\", \"Topic3\", \"Topic3\", \"Topic3\", \"Topic3\", \"Topic3\", \"Topic3\", \"Topic3\", \"Topic4\", \"Topic4\", \"Topic4\", \"Topic4\", \"Topic4\", \"Topic4\", \"Topic4\", \"Topic4\", \"Topic4\", \"Topic4\", \"Topic4\", \"Topic4\", \"Topic4\", \"Topic4\", \"Topic4\", \"Topic4\", \"Topic4\", \"Topic4\", \"Topic4\", \"Topic4\", \"Topic4\", \"Topic4\", \"Topic4\", \"Topic4\", \"Topic4\", \"Topic4\", \"Topic4\", \"Topic4\", \"Topic4\", \"Topic4\", \"Topic4\", \"Topic4\", \"Topic4\", \"Topic4\", \"Topic4\", \"Topic4\", \"Topic4\", \"Topic4\", \"Topic4\", \"Topic4\", \"Topic4\", \"Topic4\", \"Topic4\", \"Topic4\", \"Topic4\", \"Topic4\", \"Topic4\", \"Topic4\", \"Topic4\", \"Topic4\", \"Topic4\", \"Topic4\", \"Topic4\", \"Topic4\", \"Topic4\", \"Topic4\", \"Topic4\", \"Topic4\", \"Topic4\", \"Topic4\", \"Topic4\", \"Topic4\", \"Topic4\", \"Topic4\", \"Topic4\", \"Topic4\", \"Topic4\", \"Topic4\", \"Topic4\"], \"logprob\": [30.0, 29.0, 28.0, 27.0, 26.0, 25.0, 24.0, 23.0, 22.0, 21.0, 20.0, 19.0, 18.0, 17.0, 16.0, 15.0, 14.0, 13.0, 12.0, 11.0, 10.0, 9.0, 8.0, 7.0, 6.0, 5.0, 4.0, 3.0, 2.0, 1.0, -5.547599792480469, -5.665900230407715, -6.271900177001953, -6.018599987030029, -6.48829984664917, -6.046299934387207, -5.652699947357178, -6.761600017547607, -7.147799968719482, -6.856599807739258, -5.7617998123168945, -7.161300182342529, -5.0680999755859375, -7.170599937438965, -5.7993998527526855, -6.896599769592285, -7.1834001541137695, -6.3343000411987305, -6.508600234985352, -7.202400207519531, -6.693900108337402, -7.2093000411987305, -7.212500095367432, -7.214200019836426, -6.532700061798096, -7.217800140380859, -6.729400157928467, -6.268400192260742, -6.733399868011475, -6.96019983291626, -5.517899990081787, -5.2642998695373535, -3.6923000812530518, -6.196000099182129, -6.589000225067139, -5.553500175476074, -5.484000205993652, -5.379499912261963, -5.998300075531006, -5.266600131988525, -6.085000038146973, -5.156300067901611, -5.445700168609619, -5.488399982452393, -5.049200057983398, -5.749599933624268, -5.3404998779296875, -5.699100017547607, -5.72599983215332, -5.439499855041504, -5.514500141143799, -5.7129998207092285, -5.2967000007629395, -5.699100017547607, -5.605299949645996, -5.764800071716309, -5.82859992980957, -5.840799808502197, -5.8354997634887695, -5.681099891662598, -6.3317999839782715, -6.590700149536133, -5.270400047302246, -5.792799949645996, -5.8471999168396, -5.531000137329102, -5.438300132751465, -6.953100204467773, -6.9629998207092285, -6.965099811553955, -6.975299835205078, -6.508600234985352, -6.342599868774414, -6.317500114440918, -5.771599769592285, -6.14109992980957, -6.650300025939941, -7.11959981918335, -7.537799835205078, -7.14709997177124, -7.542900085449219, -7.5432000160217285, -7.544899940490723, -7.545899868011475, -7.545899868011475, -7.5457000732421875, -7.549600124359131, -7.5493998527526855, -7.549699783325195, -6.8769001960754395, -5.05019998550415, -6.386499881744385, -6.364699840545654, -5.518799781799316, -5.611299991607666, -5.994200229644775, -6.5605998039245605, -6.395999908447266, -6.335999965667725, -4.980299949645996, -5.577899932861328, -6.0903000831604, -5.253300189971924, -5.496300220489502, -5.189599990844727, -4.940100193023682, -4.373300075531006, -5.860300064086914, -5.654600143432617, -5.969099998474121, -5.981299877166748, -5.26669979095459, -5.787099838256836, -5.684700012207031, -5.687600135803223, -5.694900035858154, -5.5432000160217285, -5.827199935913086, -5.563600063323975, -5.878799915313721, -5.743599891662598, -5.883699893951416, -5.837500095367432, -5.783599853515625, -6.34089994430542, -6.40369987487793, -5.753600120544434, -6.708700180053711, -5.556000232696533, -6.723700046539307, -6.736800193786621, -6.714799880981445, -6.554699897766113, -7.065400123596191, -5.307600021362305, -4.682000160217285, -6.831299781799316, -5.4558000564575195, -7.132199764251709, -7.13539981842041, -6.855599880218506, -7.129499912261963, -7.543300151824951, -6.673099994659424, -7.181399822235107, -7.584000110626221, -6.167600154876709, -7.596099853515625, -7.598299980163574, -7.598299980163574, -7.596700191497803, -7.604800224304199, -6.320199966430664, -7.60699987411499, -6.32450008392334, -7.210999965667725, -5.179599761962891, -5.840400218963623, -5.753799915313721, -6.947400093078613, -5.771299839019775, -5.904900074005127, -5.911799907684326, -5.6468000411987305, -5.431300163269043, -5.919899940490723, -5.546800136566162, -5.4517998695373535, -5.265999794006348, -5.434000015258789, -5.543700218200684, -4.969900131225586, -5.8130998611450195, -5.68779993057251, -5.967199802398682, -5.355899810791016, -5.8566999435424805, -5.719799995422363, -5.593100070953369, -4.817599773406982, -5.50029993057251, -5.764100074768066, -5.76609992980957, -5.5609002113342285, -5.681600093841553, -5.790999889373779, -5.7642998695373535, -5.83459997177124, -6.693699836730957, -5.033299922943115, -6.575200080871582, -6.565899848937988, -6.575900077819824, -7.507800102233887, -6.616700172424316, -7.529699802398682, -7.568399906158447, -6.453000068664551, -6.658100128173828, -6.316999912261963, -5.988800048828125, -6.91540002822876, -7.6082000732421875, -5.904300212860107, -7.609799861907959, -7.219600200653076, -7.214700222015381, -7.626800060272217, -7.220399856567383, -7.633900165557861, -7.2399001121521, -6.541299819946289, -7.239999771118164, -6.7154998779296875, -6.141900062561035, -6.948599815368652, -5.571800231933594, -6.96619987487793, -6.4257001876831055, -5.77269983291626, -6.223599910736084, -5.278600215911865, -6.202899932861328, -6.246799945831299, -5.606500148773193, -6.098199844360352, -5.90500020980835, -6.760000228881836, -6.27209997177124, -6.484099864959717, -5.341000080108643, -5.402400016784668, -5.723199844360352, -5.542300224304199, -5.639500141143799, -5.7368998527526855, -5.418099880218506, -5.537099838256836, -5.694200038909912, -4.428299903869629, -5.309299945831299, -5.310800075531006, -5.382599830627441, -5.186999797821045, -5.790200233459473, -5.534999847412109, -5.750999927520752, -5.645899772644043, -5.263000011444092, -5.79640007019043, -5.8846001625061035, -5.861199855804443, -5.746099948883057, -5.740499973297119, -5.73199987411499, -5.707399845123291, -5.816999912261963], \"loglift\": [30.0, 29.0, 28.0, 27.0, 26.0, 25.0, 24.0, 23.0, 22.0, 21.0, 20.0, 19.0, 18.0, 17.0, 16.0, 15.0, 14.0, 13.0, 12.0, 11.0, 10.0, 9.0, 8.0, 7.0, 6.0, 5.0, 4.0, 3.0, 2.0, 1.0, 0.8512, 0.8249, 0.8242, 0.8037, 0.7981, 0.7847, 0.7732, 0.761, 0.6807, 0.6776, 0.6726, 0.6701, 0.6699, 0.6617, 0.6591, 0.6564, 0.6535, 0.6464, 0.646, 0.6357, 0.6311, 0.6307, 0.6282, 0.6261, 0.6255, 0.6237, 0.615, 0.6112, 0.6112, 0.6055, 0.5771, 0.5593, 0.4442, 0.5631, 0.5854, 0.4697, 0.4618, 0.3575, 0.4629, 0.3118, 0.4668, 0.2471, 0.3024, 0.2461, 0.0958, 0.2909, 0.1223, 0.2385, 0.2455, 0.0766, 0.1018, 0.2325, -0.1056, 0.1965, 0.0896, 0.2287, 0.233, 0.13, 0.0968, 1.2133, 1.1444, 1.1073, 1.0937, 1.0927, 1.0725, 1.0516, 1.0285, 1.0271, 1.0159, 1.0133, 1.0013, 0.9893, 0.9768, 0.9688, 0.918, 0.861, 0.8569, 0.8515, 0.8356, 0.8331, 0.8302, 0.8299, 0.8274, 0.8267, 0.8264, 0.8262, 0.8223, 0.8222, 0.8221, 0.8096, 0.7537, 0.7799, 0.7531, 0.692, 0.6575, 0.6911, 0.7326, 0.6954, 0.688, 0.4462, 0.5331, 0.6077, 0.363, 0.4274, 0.3265, 0.2049, -0.2369, 0.472, 0.3472, 0.4948, 0.4847, -0.0756, 0.3214, 0.2283, 0.212, 0.1695, -0.0804, 0.2658, -0.1602, 0.3391, 0.0495, 0.2946, 0.0581, -0.2638, 1.0723, 1.0161, 0.9735, 0.9339, 0.9262, 0.9254, 0.9126, 0.9076, 0.8847, 0.8718, 0.855, 0.8377, 0.8328, 0.8268, 0.8122, 0.8104, 0.8084, 0.7925, 0.7894, 0.7733, 0.768, 0.7541, 0.7524, 0.744, 0.7438, 0.7415, 0.7402, 0.7385, 0.7383, 0.7381, 0.7253, 0.7306, 0.6786, 0.6913, 0.6815, 0.7221, 0.6656, 0.635, 0.6108, 0.5759, 0.5394, 0.5944, 0.5244, 0.4806, 0.4289, 0.4655, 0.4874, 0.2212, 0.4526, 0.314, 0.4722, 0.0705, 0.371, 0.2517, 0.1439, -0.6812, -0.0969, 0.1982, 0.1477, -0.4159, -0.1032, -0.0565, -0.3015, 0.103, 1.032, 1.0256, 0.9273, 0.9172, 0.9152, 0.8931, 0.8713, 0.8632, 0.8243, 0.8207, 0.8185, 0.8181, 0.8107, 0.7841, 0.7793, 0.7789, 0.7726, 0.7641, 0.7594, 0.7564, 0.7557, 0.75, 0.7371, 0.7332, 0.7332, 0.7287, 0.7287, 0.7246, 0.7217, 0.7192, 0.6984, 0.6667, 0.6573, 0.5858, 0.6522, 0.651, 0.5867, 0.627, 0.5836, 0.696, 0.6212, 0.6509, 0.4521, 0.4558, 0.5025, 0.4595, 0.4715, 0.4858, 0.3858, 0.3625, 0.3526, -0.2919, 0.1535, 0.1157, 0.1371, 0.0041, 0.3881, 0.2131, 0.3575, 0.2777, -0.118, 0.3096, 0.3785, 0.3495, 0.1669, -0.006, -0.037, -0.304, 0.0065]}, \"token.table\": {\"Topic\": [1, 1, 2, 4, 1, 2, 3, 4, 1, 2, 3, 4, 1, 2, 4, 1, 2, 3, 4, 1, 2, 3, 4, 1, 2, 1, 3, 4, 1, 2, 3, 4, 1, 2, 3, 4, 1, 2, 3, 4, 1, 3, 3, 2, 3, 4, 1, 3, 4, 1, 1, 2, 3, 4, 4, 1, 2, 1, 3, 1, 2, 3, 4, 2, 1, 2, 3, 4, 1, 2, 3, 4, 1, 2, 3, 4, 1, 2, 3, 4, 1, 1, 2, 1, 2, 3, 4, 3, 4, 1, 2, 3, 4, 1, 2, 3, 4, 3, 4, 1, 2, 3, 4, 4, 1, 2, 3, 4, 1, 2, 3, 4, 1, 2, 1, 1, 2, 3, 4, 1, 2, 3, 4, 1, 2, 1, 2, 4, 1, 2, 4, 2, 3, 2, 1, 4, 1, 4, 1, 2, 4, 1, 2, 1, 2, 3, 4, 1, 2, 3, 4, 3, 1, 2, 3, 4, 1, 2, 3, 1, 2, 3, 4, 1, 2, 3, 4, 1, 4, 1, 3, 4, 1, 2, 3, 4, 1, 2, 3, 4, 1, 2, 3, 4, 3, 4, 1, 2, 3, 4, 1, 2, 3, 4, 1, 2, 3, 4, 1, 2, 3, 4, 1, 2, 3, 4, 3, 4, 1, 2, 3, 4, 2, 4, 1, 3, 1, 2, 3, 4, 1, 2, 3, 4, 1, 2, 3, 4, 4, 1, 2, 3, 4, 1, 2, 3, 4, 1, 2, 3, 4, 1, 2, 3, 4, 2, 1, 2, 3, 4, 1, 2, 3, 4, 1, 2, 3, 4, 1, 2, 3, 4, 1, 2, 3, 4, 3, 4, 2, 3, 4, 2, 1, 2, 3, 4, 1, 2, 3, 4, 1, 2, 3, 1, 2, 3, 4, 1, 2, 4, 1, 2, 3, 4, 1, 2, 3, 4, 1, 3, 4, 1, 2, 3, 4, 2, 4, 1, 2, 3, 4, 1, 2, 3, 4, 1, 2, 4, 1, 2, 3, 4, 1, 1, 2, 4, 1, 2, 3, 4, 1, 2, 3, 4, 1, 2, 3, 1, 2, 3, 4, 4, 3, 4, 3, 4, 1, 2, 3, 4, 3, 4, 1, 2, 3, 1, 2, 4, 1, 2, 3, 4, 1, 2, 3, 4, 1, 2, 3, 4, 1, 1, 2, 3, 4, 1, 2, 3, 4, 3, 4, 1, 2, 3, 4, 1, 2, 3, 4, 1, 2, 3, 4, 2, 2, 3, 4, 2, 1, 2, 3, 4, 3, 1, 1, 2, 3, 4, 1, 2, 3, 4, 1, 2, 3, 4, 1, 3, 4, 1, 2, 3, 4, 1, 3, 4, 2, 3, 4, 3, 2, 1, 2, 1, 2, 3, 4, 1, 2, 3, 4, 2, 1, 2, 3, 4, 4, 3, 4, 1, 3, 1, 2, 3, 4, 1, 4, 1, 2, 3, 4, 4, 2, 1, 2, 3, 4, 1, 2, 3, 4, 3, 1, 2, 3, 4, 3, 4, 2, 4, 1, 2, 3, 4, 1, 2, 4, 1, 2, 3, 4, 3, 1, 1, 2, 3, 4, 3, 1, 2, 3, 4, 2, 1, 4, 2, 3, 4, 1, 2, 3, 4, 1, 2, 3, 4, 1, 2, 3, 1, 2, 3, 4, 1, 2, 3, 4, 2, 1, 2, 3, 4, 1, 1, 2, 3, 4, 1, 2, 4, 1, 2, 3, 4, 1, 2, 3, 4, 1, 2, 3, 4, 1, 2, 4, 1, 2, 3, 4, 1, 2, 3, 4, 1, 2, 3, 4, 2, 4, 1, 2, 4, 1, 2, 3, 4, 2, 1, 2, 3, 4, 1, 1, 2, 3, 4, 3, 4, 2, 1, 2, 4, 1, 3], \"Freq\": [0.6075153783854647, 0.6118824406351684, 0.1529706101587921, 0.1529706101587921, 0.19745728740106483, 0.19745728740106483, 0.19745728740106483, 0.39491457480212966, 0.2240537077633782, 0.2240537077633782, 0.5227919847812158, 0.0746845692544594, 0.7901269511177939, 0.5729899373456159, 0.28649496867280794, 0.08419988131198772, 0.16839976262397544, 0.5051992878719264, 0.2525996439359632, 0.27860662166856065, 0.34825827708570084, 0.20895496625142052, 0.13930331083428033, 0.1538645268731789, 0.7693226343658944, 0.34238835659234745, 0.34238835659234745, 0.34238835659234745, 0.28228407081721135, 0.28228407081721135, 0.28228407081721135, 0.21171305311290853, 0.2692705889543732, 0.1346352944771866, 0.0673176472385933, 0.4712235306701532, 0.3034603152866624, 0.4046137537155498, 0.2023068768577749, 0.10115343842888745, 0.8295226605171678, 0.10369033256464598, 0.6610881484821352, 0.680225676763563, 0.4424075686511064, 0.4424075686511064, 0.45659657822666283, 0.45659657822666283, 0.45659657822666283, 0.796790836759269, 0.4152429032542566, 0.17796124425182427, 0.35592248850364855, 0.11864082950121618, 0.6884822921340835, 0.5887092990307744, 0.4591963326713472, 0.7163532830774052, 0.44047553783366544, 0.1550727158068969, 0.3101454316137938, 0.3101454316137938, 0.3101454316137938, 0.8333100902759275, 0.194103952110131, 0.5823118563303931, 0.194103952110131, 0.194103952110131, 0.3303164638353444, 0.24773734787650833, 0.1651582319176722, 0.24773734787650833, 0.48087623957479253, 0.24043811978739627, 0.1803285898405472, 0.12021905989369813, 0.17288700536485463, 0.5186610160945638, 0.17288700536485463, 0.17288700536485463, 0.5998959101762131, 0.3427665314441634, 0.6855330628883268, 0.40799817423188334, 0.22254445867193637, 0.14836297244795757, 0.18545371555994697, 0.4442502378720837, 0.4442502378720837, 0.3626998569061648, 0.1813499284530824, 0.3626998569061648, 0.1813499284530824, 0.47252051434369824, 0.20250879186158496, 0.13500586124105662, 0.20250879186158496, 0.5354757204846202, 0.2677378602423101, 0.3063253053321392, 0.3063253053321392, 0.1531626526660696, 0.3063253053321392, 0.6880031495878811, 0.20867483060849185, 0.5216870765212296, 0.05216870765212296, 0.2608435382606148, 0.3891974920007214, 0.34595332622286346, 0.12973249733357378, 0.12973249733357378, 0.8005098944175737, 0.9195790660296874, 0.7992964673210629, 0.4543882336841057, 0.20971764631574108, 0.20971764631574108, 0.13981176421049404, 0.17884189644780019, 0.3934521721851604, 0.25037865502692025, 0.17884189644780019, 0.8667378990768662, 0.14445631651281104, 0.6063605149521383, 0.20212017165071278, 0.20212017165071278, 0.77744152938951, 0.09718019117368876, 0.09718019117368876, 0.6805777229414043, 0.6622908278879115, 0.7762534296863707, 0.356465520511379, 0.356465520511379, 0.46144653224298465, 0.46144653224298465, 0.6161763369722815, 0.2053921123240938, 0.2053921123240938, 0.7924652106021245, 0.6802973823896395, 0.3537234473207166, 0.3537234473207166, 0.07074468946414332, 0.21223406839242998, 0.09989814352683775, 0.399592574107351, 0.29969443058051326, 0.1997962870536755, 0.6602986096481344, 0.31846270638052737, 0.21230847092035157, 0.42461694184070314, 0.10615423546017579, 0.18292641113700014, 0.3658528222740003, 0.3658528222740003, 0.2513636121656257, 0.2513636121656257, 0.12568180608281285, 0.37704541824843857, 0.3612703367331376, 0.2580502405236697, 0.15483014431420183, 0.2580502405236697, 0.4569897578659103, 0.4569897578659103, 0.22684745554048014, 0.22684745554048014, 0.4536949110809603, 0.6384528445114377, 0.053204403709286474, 0.10640880741857295, 0.15961321112785942, 0.4049053238934746, 0.29693057085521474, 0.13496844129782487, 0.16196212955738984, 0.2985208159762351, 0.14926040798811754, 0.2985208159762351, 0.2985208159762351, 0.6605841677417867, 0.33029208387089337, 0.3392029481046988, 0.22613529873646587, 0.28266912342058237, 0.1696014740523494, 0.601242890424734, 0.1803728671274202, 0.1803728671274202, 0.0601242890424734, 0.6860453823546211, 0.0980064831935173, 0.0980064831935173, 0.0980064831935173, 0.49348062727555814, 0.18505523522833428, 0.3084253920472238, 0.06168507840944477, 0.09849594740389515, 0.1969918948077903, 0.3939837896155806, 0.29548784221168545, 0.445826646927053, 0.445826646927053, 0.23790989080741892, 0.1586065938716126, 0.3172131877432252, 0.3172131877432252, 0.6801845176519405, 0.6946176129308572, 0.8512267592024229, 0.09458075102249143, 0.5510575849968323, 0.22042303399873292, 0.22042303399873292, 0.11021151699936646, 0.39288350494505275, 0.19644175247252638, 0.32740292078754396, 0.06548058415750879, 0.21780905016127583, 0.10890452508063792, 0.43561810032255166, 0.21780905016127583, 0.6874672032395224, 0.14118773270831464, 0.2823754654166293, 0.14118773270831464, 0.4235631981249439, 0.10279946950624788, 0.10279946950624788, 0.5139973475312394, 0.20559893901249576, 0.1275616366858161, 0.5102465467432644, 0.2551232733716322, 0.2551232733716322, 0.49340692086899546, 0.1973627683475982, 0.0986813841737991, 0.1973627683475982, 0.6810757286560125, 0.37426766669627476, 0.09356691667406869, 0.3274842083592404, 0.18713383334813738, 0.11480848886511627, 0.2870212221627907, 0.3444254665953488, 0.22961697773023254, 0.22759105645952443, 0.30345474194603256, 0.15172737097301628, 0.22759105645952443, 0.4996524982039086, 0.1665508327346362, 0.20818854091829525, 0.12491312455097715, 0.19749374751461513, 0.19749374751461513, 0.39498749502923025, 0.39498749502923025, 0.33516606070138716, 0.33516606070138716, 0.6113064639203984, 0.2037688213067995, 0.2037688213067995, 0.45896339949410786, 0.11779443312688542, 0.1963240552114757, 0.5104425435498368, 0.1963240552114757, 0.27786923906651073, 0.27786923906651073, 0.27786923906651073, 0.27786923906651073, 0.3780968665912793, 0.567145299886919, 0.18904843329563964, 0.24915108396314586, 0.49830216792629173, 0.16610072264209724, 0.08305036132104862, 0.6041571963625579, 0.20138573212085262, 0.20138573212085262, 0.3188040909220597, 0.23910306819154475, 0.3188040909220597, 0.07970102273051492, 0.33255360181986654, 0.2660428814558932, 0.1330214407279466, 0.2660428814558932, 0.269007719457019, 0.269007719457019, 0.269007719457019, 0.43148241358267375, 0.12328068959504965, 0.36984206878514897, 0.061640344797524824, 0.7123809186301155, 0.23746030621003852, 0.13132582929224443, 0.13132582929224443, 0.5253033171689777, 0.26265165858448886, 0.19533036692517017, 0.19533036692517017, 0.19533036692517017, 0.39066073385034034, 0.7304404339714184, 0.2434801446571395, 0.2434801446571395, 0.2327247452379957, 0.2909059315474946, 0.2327247452379957, 0.17454355892849677, 0.7597853283447826, 0.27970173218676403, 0.27970173218676403, 0.5594034643735281, 0.47704932358081636, 0.17889349634280616, 0.23852466179040818, 0.11926233089520409, 0.4574524987717377, 0.2859078117323361, 0.22872624938586886, 0.11436312469293443, 0.1136657112411993, 0.6819942674471958, 0.1136657112411993, 0.30283333563065673, 0.4037777808408756, 0.2018888904204378, 0.1009444452102189, 0.7003045318475766, 0.6561416990073407, 0.3280708495036703, 0.3351834583982958, 0.3351834583982958, 0.732631669326073, 0.1465263338652146, 0.09768422257680973, 0.04884211128840486, 0.6603872499679799, 0.33019362498398996, 0.6769830983607708, 0.1692457745901927, 0.1692457745901927, 0.7285751489553399, 0.14571502979106798, 0.14571502979106798, 0.536740172639386, 0.14638368344710528, 0.24397280574517546, 0.09758912229807018, 0.4414103617628486, 0.2522344924359135, 0.18917586932693511, 0.12611724621795675, 0.2947401644264326, 0.19649344295095506, 0.3929868859019101, 0.09824672147547753, 0.7995417426862923, 0.628144126852366, 0.0697937918724851, 0.20938137561745532, 0.0697937918724851, 0.2654711183629109, 0.3539614911505478, 0.1769807455752739, 0.1769807455752739, 0.336999735851444, 0.336999735851444, 0.28106943213045443, 0.28106943213045443, 0.28106943213045443, 0.28106943213045443, 0.604021364132528, 0.10067022735542135, 0.2013404547108427, 0.10067022735542135, 0.5710446472983893, 0.1969119473442722, 0.1083015710393497, 0.1279927657737769, 0.6934557540573912, 0.39324393666251334, 0.26216262444167554, 0.26216262444167554, 0.4556355292504633, 0.06358705012895051, 0.381522300773703, 0.31793525064475253, 0.25434820051580204, 0.6590189521221806, 0.9190130764341047, 0.16626582219494043, 0.27710970365823406, 0.22168776292658726, 0.33253164438988086, 0.48671708031486766, 0.1460151240944603, 0.19468683212594706, 0.19468683212594706, 0.3172035951653528, 0.2379026963740146, 0.396504493956691, 0.0793008987913382, 0.2722250894342403, 0.2722250894342403, 0.2722250894342403, 0.29403014506243264, 0.35283617407491913, 0.05880602901248653, 0.2352241160499461, 0.3382628811801973, 0.3382628811801973, 0.3382628811801973, 0.5301367780741185, 0.1767122593580395, 0.1767122593580395, 0.6588075085712594, 0.6810907075830558, 0.22972012531490624, 0.6891603759447187, 0.31569699490387326, 0.31569699490387326, 0.15784849745193663, 0.23677274617790495, 0.22703198581050732, 0.22703198581050732, 0.22703198581050732, 0.45406397162101464, 0.45980732223791543, 0.3181647875408754, 0.23862359065565655, 0.1590823937704377, 0.3181647875408754, 0.6909826958657919, 0.5216352353591185, 0.26081761767955924, 0.32149287312885855, 0.6429857462577171, 0.31854265492077466, 0.15927132746038733, 0.477813982381162, 0.15927132746038733, 0.4579058805694456, 0.4579058805694456, 0.34728039987097165, 0.34728039987097165, 0.34728039987097165, 0.34728039987097165, 0.6947280833150289, 0.6807477388111336, 0.4626573407178333, 0.2643756232673333, 0.13218781163366666, 0.13218781163366666, 0.0783628620636223, 0.4701771723817338, 0.1567257241272446, 0.2350885861908669, 0.4337914130233853, 0.3407770255753599, 0.13631081023014396, 0.3407770255753599, 0.20446621534521592, 0.525081255116281, 0.2625406275581405, 0.5677200924803366, 0.2838600462401683, 0.40761652173191404, 0.2329237267039509, 0.2329237267039509, 0.17469279502796317, 0.285175484078528, 0.285175484078528, 0.570350968157056, 0.3103890579910263, 0.20692603866068418, 0.20692603866068418, 0.3103890579910263, 0.6541055066516447, 0.8728802980716459, 0.3211133216037348, 0.21407554773582319, 0.42815109547164637, 0.10703777386791159, 0.6569097684177309, 0.6779835784808562, 0.13559671569617124, 0.13559671569617124, 0.13559671569617124, 0.45814964198127306, 0.45833650889713845, 0.45833650889713845, 0.2696108345638048, 0.5392216691276096, 0.2696108345638048, 0.3031766706033359, 0.15158833530166796, 0.15158833530166796, 0.3031766706033359, 0.15577818323060832, 0.31155636646121665, 0.31155636646121665, 0.31155636646121665, 0.1826977707324709, 0.7307910829298836, 0.09134888536623545, 0.10122926360145869, 0.7086048452102108, 0.10122926360145869, 0.20245852720291738, 0.0550825404317331, 0.2203301617269324, 0.4406603234538648, 0.27541270215866553, 0.6805544885029878, 0.25192458013595165, 0.5038491602719033, 0.12596229006797582, 0.25192458013595165, 0.7977834319606512, 0.584654631976037, 0.19488487732534565, 0.12992325155023043, 0.12992325155023043, 0.730537823586617, 0.24351260786220566, 0.24351260786220566, 0.15400674184149904, 0.3080134836829981, 0.2310101127622486, 0.3080134836829981, 0.0709222942077737, 0.4255337652466422, 0.2836891768310948, 0.2836891768310948, 0.21601984954420805, 0.21601984954420805, 0.4320396990884161, 0.10800992477210403, 0.23131575889637082, 0.46263151779274164, 0.23131575889637082, 0.36674020893462056, 0.24449347262308035, 0.24449347262308035, 0.12224673631154018, 0.7027265369185437, 0.10038950527407767, 0.10038950527407767, 0.10038950527407767, 0.39124030719717356, 0.3521162764774562, 0.15649612287886944, 0.11737209215915206, 0.7961045308677335, 0.15922090617354667, 0.2819513197016642, 0.2819513197016642, 0.5639026394033284, 0.4139472565966556, 0.16557890263866223, 0.33115780527732447, 0.08278945131933112, 0.6812627796171451, 0.3404830879044793, 0.17024154395223964, 0.08512077197611982, 0.3404830879044793, 0.7931506454474858, 0.2942812653234422, 0.2942812653234422, 0.39237502043125627, 0.09809375510781407, 0.4436390320650761, 0.4436390320650761, 0.6801144665213713, 0.12650188792607917, 0.6325094396303959, 0.12650188792607917, 0.7998911341763019, 0.657639812506218], \"Term\": [\"adat\", \"aidi\", \"aidi\", \"aidi\", \"ajang\", \"ajang\", \"ajang\", \"ajang\", \"aman\", \"aman\", \"aman\", \"aman\", \"ambil\", \"arab\", \"arab\", \"argentina\", \"argentina\", \"argentina\", \"argentina\", \"as\", \"as\", \"as\", \"as\", \"asing\", \"asing\", \"b\", \"b\", \"b\", \"baik\", \"baik\", \"baik\", \"baik\", \"balap\", \"balap\", \"balap\", \"balap\", \"bank\", \"bank\", \"bank\", \"bank\", \"bantu\", \"bantu\", \"barria\", \"bbtn\", \"beban\", \"beban\", \"bek\", \"bek\", \"bek\", \"belanda\", \"belanja\", \"belanja\", \"belanja\", \"belanja\", \"belgia\", \"bentuk\", \"bidik\", \"bijak\", \"bintang\", \"bola\", \"bola\", \"bola\", \"bola\", \"btn\", \"budi\", \"budi\", \"budi\", \"budi\", \"buka\", \"buka\", \"buka\", \"buka\", \"bunga\", \"bunga\", \"bunga\", \"bunga\", \"butuh\", \"butuh\", \"butuh\", \"butuh\", \"cac\", \"cedera\", \"cedera\", \"cnn\", \"cnn\", \"cnn\", \"cnn\", \"d\", \"d\", \"daerah\", \"daerah\", \"daerah\", \"daerah\", \"dagang\", \"dagang\", \"dagang\", \"dagang\", \"dalic\", \"dalic\", \"depan\", \"depan\", \"depan\", \"depan\", \"diri\", \"diskon\", \"diskon\", \"diskon\", \"diskon\", \"dolar\", \"dolar\", \"dolar\", \"dolar\", \"dovish\", \"dpk\", \"draghi\", \"duga\", \"duga\", \"duga\", \"duga\", \"dunia\", \"dunia\", \"dunia\", \"dunia\", \"ecb\", \"ecb\", \"eropa\", \"eropa\", \"eropa\", \"euro\", \"euro\", \"euro\", \"fasilitas\", \"favorit\", \"felas\", \"finish\", \"finish\", \"formula\", \"formula\", \"fr\", \"fr\", \"fr\", \"ftse\", \"gemar\", \"golf\", \"golf\", \"golf\", \"golf\", \"grup\", \"grup\", \"grup\", \"grup\", \"gugur\", \"hadap\", \"hadap\", \"hadap\", \"hadap\", \"hakim\", \"hakim\", \"hakim\", \"hamilton\", \"hamilton\", \"hamilton\", \"hamilton\", \"hasil\", \"hasil\", \"hasil\", \"hasil\", \"henti\", \"henti\", \"herman\", \"herman\", \"herman\", \"indeks\", \"indeks\", \"indeks\", \"indeks\", \"indonesia\", \"indonesia\", \"indonesia\", \"indonesia\", \"indra\", \"indra\", \"indra\", \"indra\", \"islandia\", \"islandia\", \"jakarta\", \"jakarta\", \"jakarta\", \"jakarta\", \"jenderal\", \"jenderal\", \"jenderal\", \"jenderal\", \"juta\", \"juta\", \"juta\", \"juta\", \"kait\", \"kait\", \"kait\", \"kait\", \"kalah\", \"kalah\", \"kalah\", \"kalah\", \"kaliningrad\", \"kaliningrad\", \"kami\", \"kami\", \"kami\", \"kami\", \"kaya\", \"ke-23\", \"keluarga\", \"keluarga\", \"keras\", \"keras\", \"keras\", \"keras\", \"kerja\", \"kerja\", \"kerja\", \"kerja\", \"keroyok\", \"keroyok\", \"keroyok\", \"keroyok\", \"kim\", \"klasemen\", \"klasemen\", \"klasemen\", \"klasemen\", \"kroasia\", \"kroasia\", \"kroasia\", \"kroasia\", \"laga\", \"laga\", \"laga\", \"laga\", \"laku\", \"laku\", \"laku\", \"laku\", \"lancong\", \"lapor\", \"lapor\", \"lapor\", \"lapor\", \"lawan\", \"lawan\", \"lawan\", \"lawan\", \"lebaran\", \"lebaran\", \"lebaran\", \"lebaran\", \"lemah\", \"lemah\", \"lemah\", \"lemah\", \"lempar\", \"lempar\", \"lempar\", \"lempar\", \"leo\", \"leo\", \"lloris\", \"lloris\", \"lloris\", \"luncur\", \"main\", \"main\", \"main\", \"main\", \"malam\", \"malam\", \"malam\", \"malam\", \"mandiri\", \"mandiri\", \"mandiri\", \"mata\", \"mata\", \"mata\", \"mata\", \"mcilroy\", \"mcilroy\", \"mcilroy\", \"mei\", \"mei\", \"mei\", \"mei\", \"menang\", \"menang\", \"menang\", \"menang\", \"menindaklanjuti\", \"menindaklanjuti\", \"menindaklanjuti\", \"menteri\", \"menteri\", \"menteri\", \"menteri\", \"mesir\", \"mesir\", \"messi\", \"messi\", \"messi\", \"messi\", \"mickelson\", \"mickelson\", \"mickelson\", \"mickelson\", \"militer\", \"militer\", \"militer\", \"minus\", \"minus\", \"minus\", \"minus\", \"miskin\", \"mobil\", \"mobil\", \"mobil\", \"naik\", \"naik\", \"naik\", \"naik\", \"namun\", \"namun\", \"namun\", \"namun\", \"nasabah\", \"nasabah\", \"nasabah\", \"negara\", \"negara\", \"negara\", \"negara\", \"nico\", \"nigeria\", \"nigeria\", \"nizhny\", \"nizhny\", \"novel\", \"novel\", \"novel\", \"novel\", \"novgorod\", \"novgorod\", \"nyata\", \"nyata\", \"nyata\", \"obligasi\", \"obligasi\", \"obligasi\", \"oknum\", \"oknum\", \"oknum\", \"oknum\", \"orang\", \"orang\", \"orang\", \"orang\", \"pagu\", \"pagu\", \"pagu\", \"pagu\", \"panas\", \"pasal\", \"pasal\", \"pasal\", \"pasal\", \"pekan\", \"pekan\", \"pekan\", \"pekan\", \"penalti\", \"penalti\", \"peringkat\", \"peringkat\", \"peringkat\", \"peringkat\", \"perintah\", \"perintah\", \"perintah\", \"perintah\", \"persen\", \"persen\", \"persen\", \"persen\", \"persero\", \"peru\", \"peru\", \"peru\", \"phoenix\", \"piala\", \"piala\", \"piala\", \"piala\", \"pisah\", \"pkh\", \"poin\", \"poin\", \"poin\", \"poin\", \"polisi\", \"polisi\", \"polisi\", \"polisi\", \"polri\", \"polri\", \"polri\", \"polri\", \"portugal\", \"portugal\", \"portugal\", \"posisi\", \"posisi\", \"posisi\", \"posisi\", \"praduga\", \"praduga\", \"praduga\", \"prancis\", \"prancis\", \"prancis\", \"prediksi\", \"prioritas\", \"produk\", \"produk\", \"pt\", \"pt\", \"pt\", \"pt\", \"pukul\", \"pukul\", \"pukul\", \"pukul\", \"punggung\", \"raih\", \"raih\", \"raih\", \"raih\", \"raikkonen\", \"rakitic\", \"rakitic\", \"raya\", \"raya\", \"realisasi\", \"realisasi\", \"realisasi\", \"realisasi\", \"red\", \"red\", \"rekor\", \"rekor\", \"rekor\", \"rekor\", \"rosberg\", \"rp30 04\", \"rumah\", \"rumah\", \"rumah\", \"rumah\", \"rusia\", \"rusia\", \"rusia\", \"rusia\", \"sadar\", \"salah\", \"salah\", \"salah\", \"salah\", \"sampaoli\", \"sampaoli\", \"saudi\", \"saudi\", \"saya\", \"saya\", \"saya\", \"saya\", \"selisih\", \"selisih\", \"selisih\", \"sementara\", \"sementara\", \"sementara\", \"sementara\", \"sendiri\", \"september\", \"serap\", \"serap\", \"serap\", \"serap\", \"siar\", \"sidi\", \"sidi\", \"sidi\", \"sidi\", \"simpan\", \"sirkuit\", \"sirkuit\", \"stadium\", \"stadium\", \"stadium\", \"stenson\", \"stenson\", \"stenson\", \"stenson\", \"sulit\", \"sulit\", \"sulit\", \"sulit\", \"tabung\", \"tabung\", \"tabung\", \"tampil\", \"tampil\", \"tampil\", \"tampil\", \"tanding\", \"tanding\", \"tanding\", \"tanding\", \"tari\", \"tawar\", \"tawar\", \"tawar\", \"tawar\", \"tenor\", \"terima\", \"terima\", \"terima\", \"terima\", \"tikam\", \"tikam\", \"tikam\", \"tim\", \"tim\", \"tim\", \"tim\", \"timnas\", \"timnas\", \"timnas\", \"timnas\", \"tni\", \"tni\", \"tni\", \"tni\", \"topshop\", \"topshop\", \"topshop\", \"triliun\", \"triliun\", \"triliun\", \"triliun\", \"turun\", \"turun\", \"turun\", \"turun\", \"uang\", \"uang\", \"uang\", \"uang\", \"uruguay\", \"uruguay\", \"urut\", \"urut\", \"urut\", \"usaha\", \"usaha\", \"usaha\", \"usaha\", \"valuta\", \"vettel\", \"vettel\", \"vettel\", \"vettel\", \"vliet\", \"vonis\", \"vonis\", \"vonis\", \"vonis\", \"waspada\", \"waspada\", \"wni\", \"woods\", \"woods\", \"woods\", \"yield\", \"zlatko\"]}, \"R\": 30, \"lambda.step\": 0.01, \"plot.opts\": {\"xlab\": \"PC1\", \"ylab\": \"PC2\"}, \"topic.order\": [2, 1, 4, 3]};\n",
              "\n",
              "function LDAvis_load_lib(url, callback){\n",
              "  var s = document.createElement('script');\n",
              "  s.src = url;\n",
              "  s.async = true;\n",
              "  s.onreadystatechange = s.onload = callback;\n",
              "  s.onerror = function(){console.warn(\"failed to load library \" + url);};\n",
              "  document.getElementsByTagName(\"head\")[0].appendChild(s);\n",
              "}\n",
              "\n",
              "if(typeof(LDAvis) !== \"undefined\"){\n",
              "   // already loaded: just create the visualization\n",
              "   !function(LDAvis){\n",
              "       new LDAvis(\"#\" + \"ldavis_el1021404218804028325253821704\", ldavis_el1021404218804028325253821704_data);\n",
              "   }(LDAvis);\n",
              "}else if(typeof define === \"function\" && define.amd){\n",
              "   // require.js is available: use it to load d3/LDAvis\n",
              "   require.config({paths: {d3: \"https://cdnjs.cloudflare.com/ajax/libs/d3/3.5.5/d3.min\"}});\n",
              "   require([\"d3\"], function(d3){\n",
              "      window.d3 = d3;\n",
              "      LDAvis_load_lib(\"https://cdn.rawgit.com/bmabey/pyLDAvis/files/ldavis.v1.0.0.js\", function(){\n",
              "        new LDAvis(\"#\" + \"ldavis_el1021404218804028325253821704\", ldavis_el1021404218804028325253821704_data);\n",
              "      });\n",
              "    });\n",
              "}else{\n",
              "    // require.js not available: dynamically load d3 & LDAvis\n",
              "    LDAvis_load_lib(\"https://cdnjs.cloudflare.com/ajax/libs/d3/3.5.5/d3.min.js\", function(){\n",
              "         LDAvis_load_lib(\"https://cdn.rawgit.com/bmabey/pyLDAvis/files/ldavis.v1.0.0.js\", function(){\n",
              "                 new LDAvis(\"#\" + \"ldavis_el1021404218804028325253821704\", ldavis_el1021404218804028325253821704_data);\n",
              "            })\n",
              "         });\n",
              "}\n",
              "</script>"
            ],
            "text/plain": [
              "PreparedData(topic_coordinates=              x         y  topics  cluster       Freq\n",
              "topic                                                \n",
              "1      0.040856 -0.002847       1        1  36.309521\n",
              "0     -0.014457 -0.026544       2        1  24.828050\n",
              "3     -0.009591  0.031397       3        1  21.710192\n",
              "2     -0.016808 -0.002006       4        1  17.152236, topic_info=         Term       Freq      Total Category  logprob  loglift\n",
              "471      main  25.000000  25.000000  Default  30.0000  30.0000\n",
              "1476   diskon  19.000000  19.000000  Default  29.0000  29.0000\n",
              "1398    balap  14.000000  14.000000  Default  28.0000  28.0000\n",
              "75    tanding  18.000000  18.000000  Default  27.0000  27.0000\n",
              "73     tabung  10.000000  10.000000  Default  26.0000  26.0000\n",
              "...       ...        ...        ...      ...      ...      ...\n",
              "165     minus   3.483458  17.187687   Topic4  -5.7461   0.1669\n",
              "55     polisi   3.502860  20.545817   Topic4  -5.7405  -0.0060\n",
              "45      lapor   3.532977  21.375076   Topic4  -5.7320  -0.0370\n",
              "254      duga   3.620691  28.609896   Topic4  -5.7074  -0.3040\n",
              "133    indeks   3.244990  18.795437   Topic4  -5.8170   0.0065\n",
              "\n",
              "[287 rows x 6 columns], token_table=      Topic      Freq    Term\n",
              "term                         \n",
              "1694      1  0.607515    adat\n",
              "1695      1  0.611882    aidi\n",
              "1695      2  0.152971    aidi\n",
              "1695      4  0.152971    aidi\n",
              "411       1  0.197457   ajang\n",
              "...     ...       ...     ...\n",
              "1371      1  0.126502   woods\n",
              "1371      2  0.632509   woods\n",
              "1371      4  0.126502   woods\n",
              "631       1  0.799891   yield\n",
              "1801      3  0.657640  zlatko\n",
              "\n",
              "[594 rows x 3 columns], R=30, lambda_step=0.01, plot_opts={'xlab': 'PC1', 'ylab': 'PC2'}, topic_order=[2, 1, 4, 3])"
            ]
          },
          "metadata": {
            "tags": []
          },
          "execution_count": 13
        }
      ]
    },
    {
      "cell_type": "code",
      "metadata": {
        "id": "am6BihdBMmS6"
      },
      "source": [
        ""
      ],
      "execution_count": null,
      "outputs": []
    },
    {
      "cell_type": "code",
      "metadata": {
        "id": "RwdKhq8bMmTG"
      },
      "source": [
        ""
      ],
      "execution_count": null,
      "outputs": []
    },
    {
      "cell_type": "code",
      "metadata": {
        "id": "7tRkt-YTMmTV"
      },
      "source": [
        ""
      ],
      "execution_count": null,
      "outputs": []
    },
    {
      "cell_type": "code",
      "metadata": {
        "id": "TwGpyS8jMmTk"
      },
      "source": [
        ""
      ],
      "execution_count": null,
      "outputs": []
    }
  ]
}