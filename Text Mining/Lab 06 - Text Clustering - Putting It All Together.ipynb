{
  "nbformat": 4,
  "nbformat_minor": 0,
  "metadata": {
    "kernelspec": {
      "display_name": "Python 3",
      "language": "python",
      "name": "python3"
    },
    "language_info": {
      "codemirror_mode": {
        "name": "ipython",
        "version": 3
      },
      "file_extension": ".py",
      "mimetype": "text/x-python",
      "name": "python",
      "nbconvert_exporter": "python",
      "pygments_lexer": "ipython3",
      "version": "3.5.6"
    },
    "colab": {
      "name": "Lab 06 - Text Clustering - Putting It All Together - 20210731.ipynb",
      "provenance": []
    }
  },
  "cells": [
    {
      "cell_type": "markdown",
      "metadata": {
        "id": "Am-_A8L24id7"
      },
      "source": [
        "# Lab 06 - DOCUMENT CLUSTERING "
      ]
    },
    {
      "cell_type": "code",
      "metadata": {
        "id": "LK8rnr1q4ieW"
      },
      "source": [
        "#Release: 1.2108.0101"
      ],
      "execution_count": null,
      "outputs": []
    },
    {
      "cell_type": "markdown",
      "metadata": {
        "id": "8QWNHbRedyuM"
      },
      "source": [
        "## Library Preparation"
      ]
    },
    {
      "cell_type": "markdown",
      "metadata": {
        "id": "iqN-SnP8Z-Zw"
      },
      "source": [
        "<br>\n",
        " \n",
        "***If you use Google Colab, install sastrawi package***"
      ]
    },
    {
      "cell_type": "code",
      "metadata": {
        "id": "vZLJn6Ry7IBv",
        "colab": {
          "base_uri": "https://localhost:8080/"
        },
        "outputId": "09fe34c4-9563-446b-af1a-2ca5de49fd6c"
      },
      "source": [
        "!pip install sastrawi"
      ],
      "execution_count": 1,
      "outputs": [
        {
          "output_type": "stream",
          "text": [
            "Requirement already satisfied: sastrawi in /usr/local/lib/python3.7/dist-packages (1.0.1)\n"
          ],
          "name": "stdout"
        }
      ]
    },
    {
      "cell_type": "markdown",
      "metadata": {
        "id": "wXFx2tZK4ifN"
      },
      "source": [
        "<br>\n",
        "\n",
        "#### Import required library"
      ]
    },
    {
      "cell_type": "code",
      "metadata": {
        "id": "CejV7KDD4ifY"
      },
      "source": [
        "import nltk\n",
        "import re\n",
        "from Sastrawi.Stemmer.StemmerFactory import StemmerFactory\n",
        "\n",
        "from bs4 import BeautifulSoup\n",
        " \n",
        "import pandas as pd\n",
        "\n",
        "from sklearn.feature_extraction.text import TfidfVectorizer\n",
        "from sklearn.metrics.pairwise import cosine_similarity\n",
        "from sklearn.cluster import KMeans\n",
        "from sklearn.manifold import MDS\n",
        "\n",
        "import matplotlib.pyplot as plt"
      ],
      "execution_count": 2,
      "outputs": []
    },
    {
      "cell_type": "markdown",
      "metadata": {
        "id": "BQ0t-sAleDVP"
      },
      "source": [
        "<br>\n",
        "\n",
        "#### Download punctuation"
      ]
    },
    {
      "cell_type": "markdown",
      "metadata": {
        "id": "wnMijOCkZEsA"
      },
      "source": [
        "<br>\n",
        " \n",
        "***If you use Google Colab, download stopwords dan punkt package***"
      ]
    },
    {
      "cell_type": "code",
      "metadata": {
        "id": "BfbPHY8f5CXB"
      },
      "source": [
        "nltk.download('stopwords')\n",
        "nltk.download('punkt')"
      ],
      "execution_count": null,
      "outputs": []
    },
    {
      "cell_type": "markdown",
      "metadata": {
        "id": "1wCb-uk4eKCH"
      },
      "source": [
        "<br>\n",
        "\n",
        "#### User defined function"
      ]
    },
    {
      "cell_type": "code",
      "metadata": {
        "id": "2ddSVT9PeQNZ"
      },
      "source": [
        "def tokenize_clean(text):\n",
        "    \n",
        "    #tokenisasi\n",
        "    tokens = [word.lower() for sent in nltk.sent_tokenize(text) for word\n",
        "        in nltk.word_tokenize(sent)]\n",
        "    \n",
        "    #clean token from numeric and other character like puntuation\n",
        "    filtered_tokens = []\n",
        "    for token in tokens:\n",
        "        if re.search('[a-zA-Z]', token):\n",
        "            filtered_tokens.append(token)\n",
        "            \n",
        "    return filtered_tokens"
      ],
      "execution_count": 4,
      "outputs": []
    },
    {
      "cell_type": "code",
      "metadata": {
        "id": "wCKKxFAfszP8"
      },
      "source": [
        "stopwords = nltk.corpus.stopwords.words('indonesian')"
      ],
      "execution_count": 5,
      "outputs": []
    },
    {
      "cell_type": "code",
      "metadata": {
        "id": "mGNZ1XQEgDP7"
      },
      "source": [
        "def remove_stopwords(tokenized_text):\n",
        "    \n",
        "    cleaned_token = []\n",
        "    for token in tokenized_text:\n",
        "        if token not in stopwords:\n",
        "            cleaned_token.append(token)\n",
        "            \n",
        "    return cleaned_token"
      ],
      "execution_count": 6,
      "outputs": []
    },
    {
      "cell_type": "code",
      "metadata": {
        "id": "cBWuiz7KsTJZ"
      },
      "source": [
        "#stem using Sastrawi StemmerFactory\n",
        "factory = StemmerFactory()\n",
        "stemmer = factory.create_stemmer()"
      ],
      "execution_count": 7,
      "outputs": []
    },
    {
      "cell_type": "code",
      "metadata": {
        "id": "WJCRTxkLgJ2a"
      },
      "source": [
        "def stemming_text(tokenized_text):\n",
        "    stems = []\n",
        "    for token in tokenized_text:\n",
        "        stems.append(stemmer.stem(token))\n",
        "\n",
        "    return stems\n"
      ],
      "execution_count": 8,
      "outputs": []
    },
    {
      "cell_type": "code",
      "metadata": {
        "id": "NTXBhCEqgNC1"
      },
      "source": [
        "def text_preprocessing(text):\n",
        "    result_step1 = tokenize_clean(text)\n",
        "    result_step2 = remove_stopwords(result_step1)\n",
        "    result = stemming_text(result_step2)\n",
        "            \n",
        "    return result"
      ],
      "execution_count": 9,
      "outputs": []
    },
    {
      "cell_type": "markdown",
      "metadata": {
        "id": "--whSIZjEfoJ"
      },
      "source": [
        "#### text_preprocessing Function Test"
      ]
    },
    {
      "cell_type": "code",
      "metadata": {
        "id": "oUM4E0EkEpNR"
      },
      "source": [
        "dataset = 'Di daerah, alokasi anggaran Transfer ke Daerah dan Dana Desa (TKDD) ditetapkan sebesar Rp766,16 triliun pada APBN 2018'"
      ],
      "execution_count": 10,
      "outputs": []
    },
    {
      "cell_type": "code",
      "metadata": {
        "id": "KmR6faqDttXl"
      },
      "source": [
        "text_prep_result = text_preprocessing(dataset)"
      ],
      "execution_count": 11,
      "outputs": []
    },
    {
      "cell_type": "code",
      "metadata": {
        "colab": {
          "base_uri": "https://localhost:8080/"
        },
        "id": "PkZEo9NGuByR",
        "outputId": "1d7085f5-9cf8-440e-9bd4-92c3f69bab27"
      },
      "source": [
        "len(text_prep_result)"
      ],
      "execution_count": 12,
      "outputs": [
        {
          "output_type": "execute_result",
          "data": {
            "text/plain": [
              "12"
            ]
          },
          "metadata": {
            "tags": []
          },
          "execution_count": 12
        }
      ]
    },
    {
      "cell_type": "code",
      "metadata": {
        "colab": {
          "base_uri": "https://localhost:8080/"
        },
        "id": "bGptUe89uD7G",
        "outputId": "80bdb3ac-9a74-4e25-92d1-40c55bdb2641"
      },
      "source": [
        "text_prep_result"
      ],
      "execution_count": 13,
      "outputs": [
        {
          "output_type": "execute_result",
          "data": {
            "text/plain": [
              "['daerah',\n",
              " 'alokasi',\n",
              " 'anggar',\n",
              " 'transfer',\n",
              " 'daerah',\n",
              " 'dana',\n",
              " 'desa',\n",
              " 'tkdd',\n",
              " 'tetap',\n",
              " 'rp766 16',\n",
              " 'triliun',\n",
              " 'apbn']"
            ]
          },
          "metadata": {
            "tags": []
          },
          "execution_count": 13
        }
      ]
    },
    {
      "cell_type": "markdown",
      "metadata": {
        "id": "mEQ8uvueeZGg"
      },
      "source": [
        "<br>\n",
        "\n",
        "## Dataset Collection"
      ]
    },
    {
      "cell_type": "markdown",
      "metadata": {
        "id": "GjpI9QIGtKlq"
      },
      "source": [
        "<br>\n",
        "\n",
        "#### Download dataset from github"
      ]
    },
    {
      "cell_type": "code",
      "metadata": {
        "id": "vQAC2WpSK54J"
      },
      "source": [
        "!mkdir -p dataset"
      ],
      "execution_count": 14,
      "outputs": []
    },
    {
      "cell_type": "code",
      "metadata": {
        "id": "MvPQX6UTJvKk"
      },
      "source": [
        "!wget https://raw.githubusercontent.com/project303/dataset/master/Berita.txt -P dataset"
      ],
      "execution_count": null,
      "outputs": []
    },
    {
      "cell_type": "code",
      "metadata": {
        "id": "ZZL1CSpdLipk"
      },
      "source": [
        "!wget https://raw.githubusercontent.com/project303/dataset/master/Judul-Berita.txt -P dataset"
      ],
      "execution_count": null,
      "outputs": []
    },
    {
      "cell_type": "code",
      "metadata": {
        "id": "0WFyI9lL7ymG",
        "colab": {
          "base_uri": "https://localhost:8080/"
        },
        "outputId": "adce7294-0eb1-4efb-8946-2a5c51bad52f"
      },
      "source": [
        "!ls dataset"
      ],
      "execution_count": 16,
      "outputs": [
        {
          "output_type": "stream",
          "text": [
            "Berita.txt  Judul-Berita.txt\n"
          ],
          "name": "stdout"
        }
      ]
    },
    {
      "cell_type": "code",
      "metadata": {
        "colab": {
          "base_uri": "https://localhost:8080/"
        },
        "id": "deC2gfLIFf9I",
        "outputId": "46e31db9-c855-46ca-b465-b3fadc255434"
      },
      "source": [
        "! head dataset/Judul-Berita.txt"
      ],
      "execution_count": 15,
      "outputs": [
        {
          "output_type": "stream",
          "text": [
            "Nasabah Bank Mandiri Mengaku Uangnya Raib Rp49 Juta\r\n",
            "Mata Uang dan Bursa Saham Asia Ciut Jelang Pengumuman The Fed\r\n",
            "Polisi Tindaklanjuti Kasus Dugaan Pemukulan Herman Hery\r\n",
            "Terduga Teroris di Bandung Barat Dibekuk di Rumah Makan Sunda\r\n",
            "Lloris: Kemenangan Atas Peru Bakal Beri Kepercayaan Diri\r\n",
            "Klasemen Sementara Grup A Piala Dunia 2018\r\n",
            "Kebijakan Suku Bunga ECB Lemahkan Euro dan Bursa Eropa\r\n",
            "2019, Bantuan Program Keluarga Harapan Naik jadi Rp3,5 Juta\r\n",
            "Habiburokhman Lapor Balik ke Bareskrim soal Mudik 'Neraka'\r\n",
            "Novel Ungkit Lagi Dugaan Oknum Jenderal dalam Teror Air Keras\r\n"
          ],
          "name": "stdout"
        }
      ]
    },
    {
      "cell_type": "markdown",
      "metadata": {
        "id": "SJIo40osesJ-"
      },
      "source": [
        "## Data Preprocessing"
      ]
    },
    {
      "cell_type": "markdown",
      "metadata": {
        "id": "AqVDukxJ4if3"
      },
      "source": [
        "<br>\n",
        "\n",
        "### Step 01 - Read dataset"
      ]
    },
    {
      "cell_type": "code",
      "metadata": {
        "id": "5gxOXZNS4igD",
        "colab": {
          "base_uri": "https://localhost:8080/"
        },
        "outputId": "012dfb2a-e2b4-4a9d-d1d6-3afa1001acec"
      },
      "source": [
        "#load titles\n",
        "article_titles = open('dataset/Judul-Berita.txt').read().split('\\n')\n",
        "len(article_titles)"
      ],
      "execution_count": 17,
      "outputs": [
        {
          "output_type": "execute_result",
          "data": {
            "text/plain": [
              "31"
            ]
          },
          "metadata": {
            "tags": []
          },
          "execution_count": 17
        }
      ]
    },
    {
      "cell_type": "code",
      "metadata": {
        "id": "aeGmF-y_4igb",
        "colab": {
          "base_uri": "https://localhost:8080/"
        },
        "outputId": "4ecc89ae-e262-4885-b9a9-52288ce9e3ae"
      },
      "source": [
        "article_titles[:10]"
      ],
      "execution_count": 18,
      "outputs": [
        {
          "output_type": "execute_result",
          "data": {
            "text/plain": [
              "['Nasabah Bank Mandiri Mengaku Uangnya Raib Rp49 Juta',\n",
              " 'Mata Uang dan Bursa Saham Asia Ciut Jelang Pengumuman The Fed',\n",
              " 'Polisi Tindaklanjuti Kasus Dugaan Pemukulan Herman Hery',\n",
              " 'Terduga Teroris di Bandung Barat Dibekuk di Rumah Makan Sunda',\n",
              " 'Lloris: Kemenangan Atas Peru Bakal Beri Kepercayaan Diri',\n",
              " 'Klasemen Sementara Grup A Piala Dunia 2018',\n",
              " 'Kebijakan Suku Bunga ECB Lemahkan Euro dan Bursa Eropa',\n",
              " '2019, Bantuan Program Keluarga Harapan Naik jadi Rp3,5 Juta',\n",
              " \"Habiburokhman Lapor Balik ke Bareskrim soal Mudik 'Neraka'\",\n",
              " 'Novel Ungkit Lagi Dugaan Oknum Jenderal dalam Teror Air Keras']"
            ]
          },
          "metadata": {
            "tags": []
          },
          "execution_count": 18
        }
      ]
    },
    {
      "cell_type": "code",
      "metadata": {
        "id": "kPclpSke4ihP",
        "colab": {
          "base_uri": "https://localhost:8080/"
        },
        "outputId": "cb789e72-ab53-4df7-b4c7-5cf747d02888"
      },
      "source": [
        "article_content = open('dataset/Berita.txt', encoding=\"utf8\").read().split('BERHENTI DISINI')\n",
        "len(article_content)"
      ],
      "execution_count": 19,
      "outputs": [
        {
          "output_type": "execute_result",
          "data": {
            "text/plain": [
              "31"
            ]
          },
          "metadata": {
            "tags": []
          },
          "execution_count": 19
        }
      ]
    },
    {
      "cell_type": "code",
      "metadata": {
        "colab": {
          "base_uri": "https://localhost:8080/",
          "height": 147
        },
        "id": "nMM-TW2DfaCo",
        "outputId": "688d9304-a9d5-47af-fd29-31c7d36c3bb3"
      },
      "source": [
        "article_content[0]"
      ],
      "execution_count": 20,
      "outputs": [
        {
          "output_type": "execute_result",
          "data": {
            "application/vnd.google.colaboratory.intrinsic+json": {
              "type": "string"
            },
            "text/plain": [
              "'<html lang=\"en\">\\n\\n    <head>\\n    <title>Nasabah Bank Mandiri Mengaku Uangnya Raib Rp49 Juta</title>\\n<meta charset=\"utf-8\">\\n<meta http-equiv=\"X-UA-Compatible\" content=\"IE=edge\">\\n<meta name=\"robots\" content=\"index, follow\" />\\n\\n<body>\\n<p>Jakarta, CNN Indonesia -- Agung Rahman, seorang nasabah Bank Mandiri di Karawang mengaku tiba-tiba kehilangan uang di rekening banknya. Akibat kejadian tersebut dia mengalami kerugian hampir Rp49 juta.</p>\\n\\n<p>Agung mengatakan sebelum kejadian tersebut saldo tabungan yang telah dihimpunnya selama setahun tersebut mencapai Rp49.667.000. Pada 10 Juni lalu, dia terakhir kali mengecek tabungan tersebut.</p>\\n\\n<p>Namun, sontak ia kaget. Pasalnya, sisa saldo di tabungannya tinggal Rp832.324.</p>\\n\\n<p>\"Jadi, tiba- tiba hilang,\" katanya seperti dikutip dari Antara, Selasa (12/6).</p>\\n\\n<p>Agung kaget karena saldo tersebut berkurang banyak tanpa ia melakukan transaksi sama sekali. Ia mengklaim sudah berupaya mengecek ke Bank Mandiri.\\n\\nDari hasil pengecekan tersebut Bank Mandiri menyatakan bahwa berkurangnya saldo tabungan Agung terjadi akibat transaksi di rekeningnya.\\n\\n\"Tapi ini janggal, karena saya merasa tidak pernah melakukan transaksi selama ini,\" katanya.\\n\\nAtas kejadian dan kejanggalan tersebut Agung memutuskan untuk melapor ke Polres Karawang. Kini kasus tersebut ditangani pihak kepolisian setempat.</p>\\n\\nSementara ketika dikonfirmasi, Sekretaris Perusahaan Bank Mandiri Rohan Hafas mengaku masih harus mengecek kasus tersebut. \\n\\n\"Kami masih telusuri dan nasabah tidak perlu khawatir. Kalau nasabah tidak melakukan transaksi, dana akan kami kembalikan,\" tegas Rohan kepada CNNIndonesia.com.\\n\\nNamun, dalam penelusurannya, sambung Rohan, manajemen belum bisa mengidentifikasi nasabah terkait karena kurangnya data dan nomor rekening yang bersangkutan.\\n\\n\"Tapi, kalau terbukti nasabahnya tidak melakukan transaksi tersebut, akan segera kami ganti,\" tandasnya. (Antara/bir) \\n</body>\\n\\n'"
            ]
          },
          "metadata": {
            "tags": []
          },
          "execution_count": 20
        }
      ]
    },
    {
      "cell_type": "markdown",
      "metadata": {
        "id": "IbeYLFPq0BWu"
      },
      "source": [
        "<br>\n",
        "\n",
        "### Step 02 - Cleanup dataset\n"
      ]
    },
    {
      "cell_type": "markdown",
      "metadata": {
        "id": "nU8Bb2htD0Iv"
      },
      "source": [
        "Cleanup dataset from HTML tags using BeautifulSoup"
      ]
    },
    {
      "cell_type": "code",
      "metadata": {
        "id": "9zCFipv24iiA"
      },
      "source": [
        "article_clean = []\n",
        "for text in article_content:\n",
        "    text = BeautifulSoup(text, 'html.parser').getText()\n",
        "    article_clean.append(text)\n",
        "  \n",
        "article_content = article_clean"
      ],
      "execution_count": 21,
      "outputs": []
    },
    {
      "cell_type": "code",
      "metadata": {
        "colab": {
          "base_uri": "https://localhost:8080/",
          "height": 147
        },
        "id": "SyeIrdfA0RVl",
        "outputId": "b19c1968-c8b1-44ab-d56f-391345ab1a6c"
      },
      "source": [
        "article_content[0]"
      ],
      "execution_count": 22,
      "outputs": [
        {
          "output_type": "execute_result",
          "data": {
            "application/vnd.google.colaboratory.intrinsic+json": {
              "type": "string"
            },
            "text/plain": [
              "'\\n\\nNasabah Bank Mandiri Mengaku Uangnya Raib Rp49 Juta\\n\\n\\n\\n\\nJakarta, CNN Indonesia -- Agung Rahman, seorang nasabah Bank Mandiri di Karawang mengaku tiba-tiba kehilangan uang di rekening banknya. Akibat kejadian tersebut dia mengalami kerugian hampir Rp49 juta.\\nAgung mengatakan sebelum kejadian tersebut saldo tabungan yang telah dihimpunnya selama setahun tersebut mencapai Rp49.667.000. Pada 10 Juni lalu, dia terakhir kali mengecek tabungan tersebut.\\nNamun, sontak ia kaget. Pasalnya, sisa saldo di tabungannya tinggal Rp832.324.\\n\"Jadi, tiba- tiba hilang,\" katanya seperti dikutip dari Antara, Selasa (12/6).\\nAgung kaget karena saldo tersebut berkurang banyak tanpa ia melakukan transaksi sama sekali. Ia mengklaim sudah berupaya mengecek ke Bank Mandiri.\\n\\nDari hasil pengecekan tersebut Bank Mandiri menyatakan bahwa berkurangnya saldo tabungan Agung terjadi akibat transaksi di rekeningnya.\\n\\n\"Tapi ini janggal, karena saya merasa tidak pernah melakukan transaksi selama ini,\" katanya.\\n\\nAtas kejadian dan kejanggalan tersebut Agung memutuskan untuk melapor ke Polres Karawang. Kini kasus tersebut ditangani pihak kepolisian setempat.\\n\\nSementara ketika dikonfirmasi, Sekretaris Perusahaan Bank Mandiri Rohan Hafas mengaku masih harus mengecek kasus tersebut. \\n\\n\"Kami masih telusuri dan nasabah tidak perlu khawatir. Kalau nasabah tidak melakukan transaksi, dana akan kami kembalikan,\" tegas Rohan kepada CNNIndonesia.com.\\n\\nNamun, dalam penelusurannya, sambung Rohan, manajemen belum bisa mengidentifikasi nasabah terkait karena kurangnya data dan nomor rekening yang bersangkutan.\\n\\n\"Tapi, kalau terbukti nasabahnya tidak melakukan transaksi tersebut, akan segera kami ganti,\" tandasnya. (Antara/bir) \\n\\n'"
            ]
          },
          "metadata": {
            "tags": []
          },
          "execution_count": 22
        }
      ]
    },
    {
      "cell_type": "markdown",
      "metadata": {
        "id": "UeaC7HBk0uHZ"
      },
      "source": [
        "## Feature Extraction"
      ]
    },
    {
      "cell_type": "markdown",
      "metadata": {
        "id": "UGeNwTPP4imU"
      },
      "source": [
        "<br>\n",
        "\n",
        "### Step 03 - TF-IDF"
      ]
    },
    {
      "cell_type": "code",
      "metadata": {
        "id": "V4T2NTnc4imX"
      },
      "source": [
        ""
      ],
      "execution_count": null,
      "outputs": []
    },
    {
      "cell_type": "code",
      "metadata": {
        "id": "vvq1LyX6q-yh"
      },
      "source": [
        "tfidf_vectorizer = TfidfVectorizer(max_df=0.9, min_df=0.1,\n",
        "                                   max_features=200000,\n",
        "                                   use_idf=True,\n",
        "                                   tokenizer=text_preprocessing,\n",
        "                                   ngram_range=(1,3))"
      ],
      "execution_count": 23,
      "outputs": []
    },
    {
      "cell_type": "code",
      "metadata": {
        "id": "ckykQ9854inE",
        "colab": {
          "base_uri": "https://localhost:8080/"
        },
        "outputId": "3d216373-1879-4095-9b8e-5b52253a7012"
      },
      "source": [
        "get_ipython().magic(u'time tfidf_features = tfidf_vectorizer.fit_transform(article_content)')"
      ],
      "execution_count": 24,
      "outputs": [
        {
          "output_type": "stream",
          "text": [
            "CPU times: user 2min 6s, sys: 363 ms, total: 2min 7s\n",
            "Wall time: 2min 7s\n"
          ],
          "name": "stdout"
        }
      ]
    },
    {
      "cell_type": "code",
      "metadata": {
        "id": "-EvaIW_B4inQ",
        "colab": {
          "base_uri": "https://localhost:8080/"
        },
        "outputId": "a1ac1b79-2c88-4f5a-ba75-0fc98910f891"
      },
      "source": [
        "print(tfidf_features.shape)"
      ],
      "execution_count": 25,
      "outputs": [
        {
          "output_type": "stream",
          "text": [
            "(31, 185)\n"
          ],
          "name": "stdout"
        }
      ]
    },
    {
      "cell_type": "code",
      "metadata": {
        "id": "xn_8Dy6Y4inq",
        "colab": {
          "base_uri": "https://localhost:8080/"
        },
        "outputId": "1219b1a2-f1ff-467b-dee2-30fa8831f1bc"
      },
      "source": [
        "bag_of_words = tfidf_vectorizer.get_feature_names()\n",
        "len(bag_of_words)"
      ],
      "execution_count": 26,
      "outputs": [
        {
          "output_type": "execute_result",
          "data": {
            "text/plain": [
              "185"
            ]
          },
          "metadata": {
            "tags": []
          },
          "execution_count": 26
        }
      ]
    },
    {
      "cell_type": "code",
      "metadata": {
        "colab": {
          "base_uri": "https://localhost:8080/"
        },
        "id": "XSHxAUAwjh93",
        "outputId": "4e28d808-655b-4936-a1bd-156f2385b457"
      },
      "source": [
        "bag_of_words[:10]"
      ],
      "execution_count": 27,
      "outputs": [
        {
          "output_type": "execute_result",
          "data": {
            "text/plain": [
              "['acara',\n",
              " 'ajang',\n",
              " 'aksi',\n",
              " 'aku',\n",
              " 'alami',\n",
              " 'alias',\n",
              " 'amerika',\n",
              " 'amerika serikat',\n",
              " 'anggota',\n",
              " 'angka']"
            ]
          },
          "metadata": {
            "tags": []
          },
          "execution_count": 27
        }
      ]
    },
    {
      "cell_type": "markdown",
      "metadata": {
        "id": "GlNz96eN10SZ"
      },
      "source": [
        "## Model Building"
      ]
    },
    {
      "cell_type": "markdown",
      "metadata": {
        "id": "MZqZ7cVK4ioT"
      },
      "source": [
        "<br>\n",
        "\n",
        "### Step 04 - K-Means Modelling"
      ]
    },
    {
      "cell_type": "code",
      "metadata": {
        "id": "1ZqngwsH4ioY",
        "colab": {
          "base_uri": "https://localhost:8080/"
        },
        "outputId": "a4389403-21bc-43ff-b5c7-b1f2a202f8e3"
      },
      "source": [
        "num_clusters = 3\n",
        "model_km = KMeans(n_clusters=num_clusters, random_state=1000)\n",
        "\n",
        "#train the model\n",
        "get_ipython().magic(u'time model_km.fit(tfidf_features)')"
      ],
      "execution_count": 28,
      "outputs": [
        {
          "output_type": "stream",
          "text": [
            "CPU times: user 78.4 ms, sys: 2.02 ms, total: 80.4 ms\n",
            "Wall time: 79.5 ms\n"
          ],
          "name": "stdout"
        },
        {
          "output_type": "execute_result",
          "data": {
            "text/plain": [
              "KMeans(algorithm='auto', copy_x=True, init='k-means++', max_iter=300,\n",
              "       n_clusters=3, n_init=10, n_jobs=None, precompute_distances='auto',\n",
              "       random_state=1000, tol=0.0001, verbose=0)"
            ]
          },
          "metadata": {
            "tags": []
          },
          "execution_count": 28
        }
      ]
    },
    {
      "cell_type": "code",
      "metadata": {
        "id": "VSGO7HIJHydK"
      },
      "source": [
        "clusters = model_km.labels_.tolist()"
      ],
      "execution_count": 29,
      "outputs": []
    },
    {
      "cell_type": "markdown",
      "metadata": {
        "id": "397Kw44gI4tp"
      },
      "source": [
        "<br>\n",
        "\n",
        "### Step 05 - View The Result"
      ]
    },
    {
      "cell_type": "code",
      "metadata": {
        "id": "bjG9ToYUIBFt"
      },
      "source": [
        "article_no = []\n",
        "for i in range(1, len(article_titles)+1):\n",
        "    article_no.append(i)"
      ],
      "execution_count": 30,
      "outputs": []
    },
    {
      "cell_type": "code",
      "metadata": {
        "id": "J1nJ4nlD4ioj",
        "colab": {
          "base_uri": "https://localhost:8080/",
          "height": 1000
        },
        "outputId": "71bc5a66-bcb2-48d4-e5f5-0415d2241f42"
      },
      "source": [
        "article_cluster = { 'title': article_titles, 'no': article_no, 'article': article_content, 'cluster': clusters }\n",
        "pd.set_option('display.max_colwidth', None)\n",
        "df = pd.DataFrame(article_cluster, index = [clusters] , columns = ['no', 'title', 'cluster'])\n",
        "df.sort_index()  "
      ],
      "execution_count": 34,
      "outputs": [
        {
          "output_type": "execute_result",
          "data": {
            "text/html": [
              "<div>\n",
              "<style scoped>\n",
              "    .dataframe tbody tr th:only-of-type {\n",
              "        vertical-align: middle;\n",
              "    }\n",
              "\n",
              "    .dataframe tbody tr th {\n",
              "        vertical-align: top;\n",
              "    }\n",
              "\n",
              "    .dataframe thead th {\n",
              "        text-align: right;\n",
              "    }\n",
              "</style>\n",
              "<table border=\"1\" class=\"dataframe\">\n",
              "  <thead>\n",
              "    <tr style=\"text-align: right;\">\n",
              "      <th></th>\n",
              "      <th>no</th>\n",
              "      <th>title</th>\n",
              "      <th>cluster</th>\n",
              "    </tr>\n",
              "  </thead>\n",
              "  <tbody>\n",
              "    <tr>\n",
              "      <th>0</th>\n",
              "      <td>2</td>\n",
              "      <td>Mata Uang dan Bursa Saham Asia Ciut Jelang Pengumuman The Fed</td>\n",
              "      <td>0</td>\n",
              "    </tr>\n",
              "    <tr>\n",
              "      <th>0</th>\n",
              "      <td>7</td>\n",
              "      <td>Kebijakan Suku Bunga ECB Lemahkan Euro dan Bursa Eropa</td>\n",
              "      <td>0</td>\n",
              "    </tr>\n",
              "    <tr>\n",
              "      <th>0</th>\n",
              "      <td>8</td>\n",
              "      <td>2019, Bantuan Program Keluarga Harapan Naik jadi Rp3,5 Juta</td>\n",
              "      <td>0</td>\n",
              "    </tr>\n",
              "    <tr>\n",
              "      <th>0</th>\n",
              "      <td>13</td>\n",
              "      <td>Dibuka Rp14.107 per Dolar AS, Rupiah Bakal Betah Melemah</td>\n",
              "      <td>0</td>\n",
              "    </tr>\n",
              "    <tr>\n",
              "      <th>0</th>\n",
              "      <td>15</td>\n",
              "      <td>Asing Jual Bersih Rp2 Triliun, IHSG Ditutup Anjlok 1,8 Persen</td>\n",
              "      <td>0</td>\n",
              "    </tr>\n",
              "    <tr>\n",
              "      <th>0</th>\n",
              "      <td>22</td>\n",
              "      <td>Darmin Nyatakan, Pelemahan Rupiah Tak Perlu Dikhawatirkan</td>\n",
              "      <td>0</td>\n",
              "    </tr>\n",
              "    <tr>\n",
              "      <th>0</th>\n",
              "      <td>23</td>\n",
              "      <td>Pesta Diskon Lebaran Masih Berlanjut</td>\n",
              "      <td>0</td>\n",
              "    </tr>\n",
              "    <tr>\n",
              "      <th>0</th>\n",
              "      <td>24</td>\n",
              "      <td>Incar Kantong Orang Asing, BTN Rilis Felas</td>\n",
              "      <td>0</td>\n",
              "    </tr>\n",
              "    <tr>\n",
              "      <th>0</th>\n",
              "      <td>30</td>\n",
              "      <td>Konsumsi Lebaran Bisa Dorong Ekonomi Kuartal II ke 5,2 Persen</td>\n",
              "      <td>0</td>\n",
              "    </tr>\n",
              "    <tr>\n",
              "      <th>0</th>\n",
              "      <td>31</td>\n",
              "      <td>Kementerian Kesehatan Serap Belanja Paling Tinggi</td>\n",
              "      <td>0</td>\n",
              "    </tr>\n",
              "    <tr>\n",
              "      <th>1</th>\n",
              "      <td>1</td>\n",
              "      <td>Nasabah Bank Mandiri Mengaku Uangnya Raib Rp49 Juta</td>\n",
              "      <td>1</td>\n",
              "    </tr>\n",
              "    <tr>\n",
              "      <th>1</th>\n",
              "      <td>3</td>\n",
              "      <td>Polisi Tindaklanjuti Kasus Dugaan Pemukulan Herman Hery</td>\n",
              "      <td>1</td>\n",
              "    </tr>\n",
              "    <tr>\n",
              "      <th>1</th>\n",
              "      <td>4</td>\n",
              "      <td>Terduga Teroris di Bandung Barat Dibekuk di Rumah Makan Sunda</td>\n",
              "      <td>1</td>\n",
              "    </tr>\n",
              "    <tr>\n",
              "      <th>1</th>\n",
              "      <td>9</td>\n",
              "      <td>Habiburokhman Lapor Balik ke Bareskrim soal Mudik 'Neraka'</td>\n",
              "      <td>1</td>\n",
              "    </tr>\n",
              "    <tr>\n",
              "      <th>1</th>\n",
              "      <td>10</td>\n",
              "      <td>Novel Ungkit Lagi Dugaan Oknum Jenderal dalam Teror Air Keras</td>\n",
              "      <td>1</td>\n",
              "    </tr>\n",
              "    <tr>\n",
              "      <th>1</th>\n",
              "      <td>14</td>\n",
              "      <td>Masih Banyak Perusahaan Tunggak Bayar THR Usai Lebaran</td>\n",
              "      <td>1</td>\n",
              "    </tr>\n",
              "    <tr>\n",
              "      <th>1</th>\n",
              "      <td>16</td>\n",
              "      <td>KPK Periksa Pejabat Agung Podomoro Terkait Kasus Bupati Rita</td>\n",
              "      <td>1</td>\n",
              "    </tr>\n",
              "    <tr>\n",
              "      <th>1</th>\n",
              "      <td>17</td>\n",
              "      <td>Tiga Bos First Travel Hadapi Tuntutan Jaksa Hari Ini</td>\n",
              "      <td>1</td>\n",
              "    </tr>\n",
              "    <tr>\n",
              "      <th>1</th>\n",
              "      <td>18</td>\n",
              "      <td>Aman Abdurrahman Pasrah Hadapi Vonis Kasus Terorisme</td>\n",
              "      <td>1</td>\n",
              "    </tr>\n",
              "    <tr>\n",
              "      <th>1</th>\n",
              "      <td>25</td>\n",
              "      <td>Dua Anggota Polisi Dikeroyok Terduga Oknum TNI di Cijantung</td>\n",
              "      <td>1</td>\n",
              "    </tr>\n",
              "    <tr>\n",
              "      <th>1</th>\n",
              "      <td>26</td>\n",
              "      <td>Satu Anggota TNI Tewas Usai Alami Penusukan di Tempat Biliard</td>\n",
              "      <td>1</td>\n",
              "    </tr>\n",
              "    <tr>\n",
              "      <th>1</th>\n",
              "      <td>27</td>\n",
              "      <td>Rumah Diubrak-abrik, Anggota TNI Tikam Warga Hingga Tewas</td>\n",
              "      <td>1</td>\n",
              "    </tr>\n",
              "    <tr>\n",
              "      <th>2</th>\n",
              "      <td>5</td>\n",
              "      <td>Lloris: Kemenangan Atas Peru Bakal Beri Kepercayaan Diri</td>\n",
              "      <td>2</td>\n",
              "    </tr>\n",
              "    <tr>\n",
              "      <th>2</th>\n",
              "      <td>6</td>\n",
              "      <td>Klasemen Sementara Grup A Piala Dunia 2018</td>\n",
              "      <td>2</td>\n",
              "    </tr>\n",
              "    <tr>\n",
              "      <th>2</th>\n",
              "      <td>11</td>\n",
              "      <td>Lemparan Salto Gagal Bek Timnas Iran Viral di Media Sosial</td>\n",
              "      <td>2</td>\n",
              "    </tr>\n",
              "    <tr>\n",
              "      <th>2</th>\n",
              "      <td>12</td>\n",
              "      <td>Target McIlroy Menjadi Pegolf Terbaik dari Generasinya</td>\n",
              "      <td>2</td>\n",
              "    </tr>\n",
              "    <tr>\n",
              "      <th>2</th>\n",
              "      <td>19</td>\n",
              "      <td>Juara British Terbuka, Stenson Lampaui Rekor Tiger Woods</td>\n",
              "      <td>2</td>\n",
              "    </tr>\n",
              "    <tr>\n",
              "      <th>2</th>\n",
              "      <td>20</td>\n",
              "      <td>Tiger Woods Putuskan Vakum dari Turnamen Golf</td>\n",
              "      <td>2</td>\n",
              "    </tr>\n",
              "    <tr>\n",
              "      <th>2</th>\n",
              "      <td>21</td>\n",
              "      <td>Juara GP Kanada, Vettel Kembali Pimpin Klasemen F1 2018</td>\n",
              "      <td>2</td>\n",
              "    </tr>\n",
              "    <tr>\n",
              "      <th>2</th>\n",
              "      <td>28</td>\n",
              "      <td>Sebastian Vettel Menjuarai Grand Prix F1 di Singapura</td>\n",
              "      <td>2</td>\n",
              "    </tr>\n",
              "    <tr>\n",
              "      <th>2</th>\n",
              "      <td>29</td>\n",
              "      <td>Kroasia: Melawan Argentina adalah Pertandingan Termudah</td>\n",
              "      <td>2</td>\n",
              "    </tr>\n",
              "  </tbody>\n",
              "</table>\n",
              "</div>"
            ],
            "text/plain": [
              "   no                                                          title  cluster\n",
              "0   2  Mata Uang dan Bursa Saham Asia Ciut Jelang Pengumuman The Fed        0\n",
              "0   7         Kebijakan Suku Bunga ECB Lemahkan Euro dan Bursa Eropa        0\n",
              "0   8    2019, Bantuan Program Keluarga Harapan Naik jadi Rp3,5 Juta        0\n",
              "0  13       Dibuka Rp14.107 per Dolar AS, Rupiah Bakal Betah Melemah        0\n",
              "0  15  Asing Jual Bersih Rp2 Triliun, IHSG Ditutup Anjlok 1,8 Persen        0\n",
              "0  22      Darmin Nyatakan, Pelemahan Rupiah Tak Perlu Dikhawatirkan        0\n",
              "0  23                           Pesta Diskon Lebaran Masih Berlanjut        0\n",
              "0  24                     Incar Kantong Orang Asing, BTN Rilis Felas        0\n",
              "0  30  Konsumsi Lebaran Bisa Dorong Ekonomi Kuartal II ke 5,2 Persen        0\n",
              "0  31              Kementerian Kesehatan Serap Belanja Paling Tinggi        0\n",
              "1   1            Nasabah Bank Mandiri Mengaku Uangnya Raib Rp49 Juta        1\n",
              "1   3        Polisi Tindaklanjuti Kasus Dugaan Pemukulan Herman Hery        1\n",
              "1   4  Terduga Teroris di Bandung Barat Dibekuk di Rumah Makan Sunda        1\n",
              "1   9     Habiburokhman Lapor Balik ke Bareskrim soal Mudik 'Neraka'        1\n",
              "1  10  Novel Ungkit Lagi Dugaan Oknum Jenderal dalam Teror Air Keras        1\n",
              "1  14         Masih Banyak Perusahaan Tunggak Bayar THR Usai Lebaran        1\n",
              "1  16   KPK Periksa Pejabat Agung Podomoro Terkait Kasus Bupati Rita        1\n",
              "1  17           Tiga Bos First Travel Hadapi Tuntutan Jaksa Hari Ini        1\n",
              "1  18           Aman Abdurrahman Pasrah Hadapi Vonis Kasus Terorisme        1\n",
              "1  25    Dua Anggota Polisi Dikeroyok Terduga Oknum TNI di Cijantung        1\n",
              "1  26  Satu Anggota TNI Tewas Usai Alami Penusukan di Tempat Biliard        1\n",
              "1  27      Rumah Diubrak-abrik, Anggota TNI Tikam Warga Hingga Tewas        1\n",
              "2   5       Lloris: Kemenangan Atas Peru Bakal Beri Kepercayaan Diri        2\n",
              "2   6                     Klasemen Sementara Grup A Piala Dunia 2018        2\n",
              "2  11     Lemparan Salto Gagal Bek Timnas Iran Viral di Media Sosial        2\n",
              "2  12         Target McIlroy Menjadi Pegolf Terbaik dari Generasinya        2\n",
              "2  19       Juara British Terbuka, Stenson Lampaui Rekor Tiger Woods        2\n",
              "2  20                  Tiger Woods Putuskan Vakum dari Turnamen Golf        2\n",
              "2  21        Juara GP Kanada, Vettel Kembali Pimpin Klasemen F1 2018        2\n",
              "2  28          Sebastian Vettel Menjuarai Grand Prix F1 di Singapura        2\n",
              "2  29        Kroasia: Melawan Argentina adalah Pertandingan Termudah        2"
            ]
          },
          "metadata": {
            "tags": []
          },
          "execution_count": 34
        }
      ]
    },
    {
      "cell_type": "code",
      "metadata": {
        "colab": {
          "base_uri": "https://localhost:8080/"
        },
        "id": "ldEYgaQuyOyh",
        "outputId": "a9fe48bf-0976-4280-9d96-70eb1c8ed94b"
      },
      "source": [
        "df['cluster'].value_counts()"
      ],
      "execution_count": 35,
      "outputs": [
        {
          "output_type": "execute_result",
          "data": {
            "text/plain": [
              "1    12\n",
              "0    10\n",
              "2     9\n",
              "Name: cluster, dtype: int64"
            ]
          },
          "metadata": {
            "tags": []
          },
          "execution_count": 35
        }
      ]
    },
    {
      "cell_type": "markdown",
      "metadata": {
        "id": "nZp_t_XsKoTb"
      },
      "source": [
        "Top words per cluster"
      ]
    },
    {
      "cell_type": "code",
      "metadata": {
        "id": "ylv8xThYLOLF"
      },
      "source": [
        "df_bow = pd.DataFrame({'words': bag_of_words}, index = bag_of_words)"
      ],
      "execution_count": 36,
      "outputs": []
    },
    {
      "cell_type": "code",
      "metadata": {
        "id": "OECnFT0d4io5",
        "colab": {
          "base_uri": "https://localhost:8080/"
        },
        "outputId": "8e35ed58-0420-476f-b51b-d2aa06fc9f23"
      },
      "source": [
        "print(\"Top words per cluster:\")\n",
        "\n",
        "#sort cluster centers by proximity to centroid\n",
        "order_centroids = model_km.cluster_centers_.argsort()[:, ::-1] \n",
        "\n",
        "for i in range(num_clusters):\n",
        "    print(\"Cluster %d words:\" % i, end='')\n",
        "    \n",
        "    for ind in order_centroids[i, :10]: #replace 6 with n words per cluster\n",
        "        print(' %s' % df_bow.loc[bag_of_words[ind].split(' ')].values.tolist()[0][0].encode('utf-8', 'ignore'), end=',')\n",
        "    print() #add whitespace\n",
        "    print() #add whitespace\n",
        "    \n",
        "    print(\"Cluster %d titles:\" % i, end='')\n",
        "    for title in df.loc[i]['title'].values.tolist():\n",
        "        print(' %s,' % title, end='')\n",
        "    print() #add whitespace\n",
        "    print()"
      ],
      "execution_count": 37,
      "outputs": [
        {
          "output_type": "stream",
          "text": [
            "Top words per cluster:\n",
            "Cluster 0 words: b'persen', b'dolar', b'triliun', b'lemah', b'naik', b'bunga', b'saham', b'as', b'menteri', b'dagang',\n",
            "\n",
            "Cluster 0 titles: Mata Uang dan Bursa Saham Asia Ciut Jelang Pengumuman The Fed, Kebijakan Suku Bunga ECB Lemahkan Euro dan Bursa Eropa, 2019, Bantuan Program Keluarga Harapan Naik jadi Rp3,5 Juta, Dibuka Rp14.107 per Dolar AS, Rupiah Bakal Betah Melemah, Asing Jual Bersih Rp2 Triliun, IHSG Ditutup Anjlok 1,8 Persen, Darmin Nyatakan, Pelemahan Rupiah Tak Perlu Dikhawatirkan, Pesta Diskon Lebaran Masih Berlanjut, Incar Kantong Orang Asing, BTN Rilis Felas, Konsumsi Lebaran Bisa Dorong Ekonomi Kuartal II ke 5,2 Persen, Kementerian Kesehatan Serap Belanja Paling Tinggi,\n",
            "\n",
            "Cluster 1 words: b'duga', b'polisi', b'lapor', b'laku', b'pasal', b'korban', b'orang', b'anggota', b'polri', b'rumah',\n",
            "\n",
            "Cluster 1 titles: Nasabah Bank Mandiri Mengaku Uangnya Raib Rp49 Juta, Polisi Tindaklanjuti Kasus Dugaan Pemukulan Herman Hery, Terduga Teroris di Bandung Barat Dibekuk di Rumah Makan Sunda, Habiburokhman Lapor Balik ke Bareskrim soal Mudik 'Neraka', Novel Ungkit Lagi Dugaan Oknum Jenderal dalam Teror Air Keras, Masih Banyak Perusahaan Tunggak Bayar THR Usai Lebaran, KPK Periksa Pejabat Agung Podomoro Terkait Kasus Bupati Rita, Tiga Bos First Travel Hadapi Tuntutan Jaksa Hari Ini, Aman Abdurrahman Pasrah Hadapi Vonis Kasus Terorisme, Dua Anggota Polisi Dikeroyok Terduga Oknum TNI di Cijantung, Satu Anggota TNI Tewas Usai Alami Penusukan di Tempat Biliard, Rumah Diubrak-abrik, Anggota TNI Tikam Warga Hingga Tewas,\n",
            "\n",
            "Cluster 2 words: b'menang', b'main', b'dunia', b'raih', b'tanding', b'poin', b'lawan', b'piala', b'piala', b'kalah',\n",
            "\n",
            "Cluster 2 titles: Lloris: Kemenangan Atas Peru Bakal Beri Kepercayaan Diri, Klasemen Sementara Grup A Piala Dunia 2018, Lemparan Salto Gagal Bek Timnas Iran Viral di Media Sosial, Target McIlroy Menjadi Pegolf Terbaik dari Generasinya, Juara British Terbuka, Stenson Lampaui Rekor Tiger Woods, Tiger Woods Putuskan Vakum dari Turnamen Golf, Juara GP Kanada, Vettel Kembali Pimpin Klasemen F1 2018, Sebastian Vettel Menjuarai Grand Prix F1 di Singapura, Kroasia: Melawan Argentina adalah Pertandingan Termudah,\n",
            "\n"
          ],
          "name": "stdout"
        }
      ]
    },
    {
      "cell_type": "markdown",
      "metadata": {
        "id": "BU7TPrum2xKR"
      },
      "source": [
        "<br>\n",
        "\n",
        "## Cluster Visualization"
      ]
    },
    {
      "cell_type": "markdown",
      "metadata": {
        "id": "dvoke3mc4ipE"
      },
      "source": [
        "### Step 07 - Visualization"
      ]
    },
    {
      "cell_type": "code",
      "metadata": {
        "id": "6BJdhfry4ipH",
        "colab": {
          "base_uri": "https://localhost:8080/"
        },
        "outputId": "9f4486be-2190-4235-a9d2-68246c85bba1"
      },
      "source": [
        "similarity_distance = 1 - cosine_similarity(tfidf_features)\n",
        "print(type(similarity_distance))\n",
        "print(similarity_distance.shape)"
      ],
      "execution_count": 38,
      "outputs": [
        {
          "output_type": "stream",
          "text": [
            "<class 'numpy.ndarray'>\n",
            "(31, 31)\n"
          ],
          "name": "stdout"
        }
      ]
    },
    {
      "cell_type": "code",
      "metadata": {
        "id": "9cN0J7bv4ipQ",
        "colab": {
          "base_uri": "https://localhost:8080/"
        },
        "outputId": "93b35aca-1ea6-42e2-b171-77d4051e9314"
      },
      "source": [
        "mds = MDS(n_components=2, dissimilarity=\"precomputed\", random_state=1)\n",
        "get_ipython().magic(u'time pos = mds.fit_transform(similarity_distance)  # shape (n_components, n_samples)')\n",
        "print(pos.shape)"
      ],
      "execution_count": 39,
      "outputs": [
        {
          "output_type": "stream",
          "text": [
            "CPU times: user 161 ms, sys: 135 ms, total: 296 ms\n",
            "Wall time: 151 ms\n",
            "(31, 2)\n"
          ],
          "name": "stdout"
        }
      ]
    },
    {
      "cell_type": "code",
      "metadata": {
        "colab": {
          "base_uri": "https://localhost:8080/"
        },
        "id": "bcJVsLncNLvf",
        "outputId": "c21720e9-40bf-4c3b-9f64-5d60b5583393"
      },
      "source": [
        "print(pos)"
      ],
      "execution_count": 40,
      "outputs": [
        {
          "output_type": "stream",
          "text": [
            "[[ 0.25413122  0.51223011]\n",
            " [-0.23613322  0.52879565]\n",
            " [-0.00308587 -0.59982816]\n",
            " [-0.40128695 -0.52576641]\n",
            " [ 0.65287736  0.18976017]\n",
            " [ 0.6364058   0.2908526 ]\n",
            " [-0.32093799  0.46477204]\n",
            " [-0.69233396  0.07147765]\n",
            " [ 0.31463428 -0.65122535]\n",
            " [-0.33096694 -0.38079371]\n",
            " [ 0.53338019  0.38599006]\n",
            " [ 0.53867316 -0.09953887]\n",
            " [-0.19413949  0.48766394]\n",
            " [-0.61023662 -0.10821854]\n",
            " [-0.38036225  0.54328878]\n",
            " [-0.60275099 -0.32190826]\n",
            " [ 0.28228377 -0.44844099]\n",
            " [ 0.09639063 -0.35823282]\n",
            " [ 0.35199417  0.17958054]\n",
            " [ 0.18776819  0.02446694]\n",
            " [ 0.60569065 -0.34705637]\n",
            " [-0.14177192  0.62175305]\n",
            " [-0.40746443  0.24212272]\n",
            " [ 0.05001872  0.60615545]\n",
            " [-0.10553455 -0.69931494]\n",
            " [-0.12389097 -0.43446667]\n",
            " [-0.24220904 -0.5968999 ]\n",
            " [ 0.64576661 -0.19306028]\n",
            " [ 0.58969803  0.16045144]\n",
            " [-0.51418761  0.3148403 ]\n",
            " [-0.43241997  0.14054984]]\n"
          ],
          "name": "stdout"
        }
      ]
    },
    {
      "cell_type": "code",
      "metadata": {
        "colab": {
          "base_uri": "https://localhost:8080/"
        },
        "id": "JgXDpNs5NS3I",
        "outputId": "dd449779-aa58-4253-ab9f-b4c6b4808bcd"
      },
      "source": [
        "xs, ys = pos[:, 0], pos[:, 1]\n",
        "print(type(xs))\n",
        "xs"
      ],
      "execution_count": 41,
      "outputs": [
        {
          "output_type": "stream",
          "text": [
            "<class 'numpy.ndarray'>\n"
          ],
          "name": "stdout"
        },
        {
          "output_type": "execute_result",
          "data": {
            "text/plain": [
              "array([ 0.25413122, -0.23613322, -0.00308587, -0.40128695,  0.65287736,\n",
              "        0.6364058 , -0.32093799, -0.69233396,  0.31463428, -0.33096694,\n",
              "        0.53338019,  0.53867316, -0.19413949, -0.61023662, -0.38036225,\n",
              "       -0.60275099,  0.28228377,  0.09639063,  0.35199417,  0.18776819,\n",
              "        0.60569065, -0.14177192, -0.40746443,  0.05001872, -0.10553455,\n",
              "       -0.12389097, -0.24220904,  0.64576661,  0.58969803, -0.51418761,\n",
              "       -0.43241997])"
            ]
          },
          "metadata": {
            "tags": []
          },
          "execution_count": 41
        }
      ]
    },
    {
      "cell_type": "code",
      "metadata": {
        "id": "oXtIwsJJ4ipZ"
      },
      "source": [
        "#set up colors per clusters using a dict\n",
        "cluster_colors = {0: '#1b9e77', 1: '#d95f02', 2: '#7570b3'}"
      ],
      "execution_count": 42,
      "outputs": []
    },
    {
      "cell_type": "code",
      "metadata": {
        "id": "BkJZjEib4ipl"
      },
      "source": [
        "#set up cluster names using a dict\n",
        "cluster_names = {0: 'Ekonomi', \n",
        "                 1: 'Kriminal',\n",
        "                 2: 'Olahraga'}"
      ],
      "execution_count": 43,
      "outputs": []
    },
    {
      "cell_type": "code",
      "metadata": {
        "id": "zLbbVwCk4ipu"
      },
      "source": [
        "matplotlib inline"
      ],
      "execution_count": 44,
      "outputs": []
    },
    {
      "cell_type": "code",
      "metadata": {
        "id": "zB77ozHY4ip6"
      },
      "source": [
        "#some ipython magic to show the matplotlib plots inline\n",
        "get_ipython().magic(u'matplotlib inline')"
      ],
      "execution_count": 45,
      "outputs": []
    },
    {
      "cell_type": "code",
      "metadata": {
        "id": "LTVfx-_q4iqL",
        "colab": {
          "base_uri": "https://localhost:8080/"
        },
        "outputId": "0334ed08-0e28-4b6f-a96b-e8591e28d8e2"
      },
      "source": [
        "#create data frame that has the result of the MDS plus the cluster numbers and titles\n",
        "df = pd.DataFrame(dict(x=xs, y=ys, label=clusters, title=article_titles)) \n",
        "\n",
        "print(df[1:10])"
      ],
      "execution_count": 46,
      "outputs": [
        {
          "output_type": "stream",
          "text": [
            "          x  ...                                                          title\n",
            "1 -0.236133  ...  Mata Uang dan Bursa Saham Asia Ciut Jelang Pengumuman The Fed\n",
            "2 -0.003086  ...        Polisi Tindaklanjuti Kasus Dugaan Pemukulan Herman Hery\n",
            "3 -0.401287  ...  Terduga Teroris di Bandung Barat Dibekuk di Rumah Makan Sunda\n",
            "4  0.652877  ...       Lloris: Kemenangan Atas Peru Bakal Beri Kepercayaan Diri\n",
            "5  0.636406  ...                     Klasemen Sementara Grup A Piala Dunia 2018\n",
            "6 -0.320938  ...         Kebijakan Suku Bunga ECB Lemahkan Euro dan Bursa Eropa\n",
            "7 -0.692334  ...    2019, Bantuan Program Keluarga Harapan Naik jadi Rp3,5 Juta\n",
            "8  0.314634  ...     Habiburokhman Lapor Balik ke Bareskrim soal Mudik 'Neraka'\n",
            "9 -0.330967  ...  Novel Ungkit Lagi Dugaan Oknum Jenderal dalam Teror Air Keras\n",
            "\n",
            "[9 rows x 4 columns]\n"
          ],
          "name": "stdout"
        }
      ]
    },
    {
      "cell_type": "code",
      "metadata": {
        "id": "WDYD4rP44iqZ",
        "colab": {
          "base_uri": "https://localhost:8080/"
        },
        "outputId": "74e825ce-5dbb-4ddc-8255-5b1ad19b1efa"
      },
      "source": [
        "# group by cluster\n",
        "# this generate {name:group(which is a dataframe)}\n",
        "groups = df.groupby('label')\n",
        "print(groups.groups)"
      ],
      "execution_count": 47,
      "outputs": [
        {
          "output_type": "stream",
          "text": [
            "{0: [1, 6, 7, 12, 14, 21, 22, 23, 29, 30], 1: [0, 2, 3, 8, 9, 13, 15, 16, 17, 24, 25, 26], 2: [4, 5, 10, 11, 18, 19, 20, 27, 28]}\n"
          ],
          "name": "stdout"
        }
      ]
    },
    {
      "cell_type": "code",
      "metadata": {
        "id": "_Uk8BI2J4iqo",
        "colab": {
          "base_uri": "https://localhost:8080/",
          "height": 541
        },
        "outputId": "766722b3-6597-4465-fb47-b3fe48efc45d"
      },
      "source": [
        "# set up plot\n",
        "fig, ax = plt.subplots(figsize=(17, 9)) # set size\n",
        "# ax.margins(0.05) # Optional, just adds 5% padding to the autoscaling\n",
        "\n",
        "#iterate through groups to layer the plot\n",
        "#note that I use the cluster_name and cluster_color dicts with the 'name' lookup to return the appropriate color/label\n",
        "# ms: marker size\n",
        "for name, group in groups:\n",
        "    #print(\"*******\")\n",
        "    #print(\"group name \" + str(name))\n",
        "    #print(group)\n",
        "    ax.plot(group.x, group.y, marker='o', linestyle='', ms=20, \n",
        "            label=cluster_names[name], color=cluster_colors[name], \n",
        "            mec='none')\n",
        "    ax.set_aspect('auto')\n",
        "    ax.tick_params(        axis= 'x',          # changes apply to the x-axis\n",
        "        which='both',      # both major and minor ticks are affected\n",
        "        bottom='off',      # ticks along the bottom edge are off\n",
        "        top='off',         # ticks along the top edge are off\n",
        "        labelbottom='off')\n",
        "    ax.tick_params(        axis= 'y',         # changes apply to the y-axis\n",
        "        which='both',      # both major and minor ticks are affected\n",
        "        left='off',      # ticks along the bottom edge are off\n",
        "        top='off',         # ticks along the top edge are off\n",
        "        labelleft='off')\n",
        "    \n",
        "ax.legend(numpoints=1)  #show legend with only 1 point\n",
        "\n",
        "#add label in x,y position with the label as the film title\n",
        "for i in range(len(df)):\n",
        "    ax.text(df.loc[i]['x'], df.loc[i]['y'], df.loc[i]['title'], size=10)  \n",
        "\n",
        "plt.show()"
      ],
      "execution_count": 48,
      "outputs": [
        {
          "output_type": "display_data",
          "data": {
            "image/png": "[encoded data removed]",
            "text/plain": [
              "<Figure size 1224x648 with 1 Axes>"
            ]
          },
          "metadata": {
            "tags": [],
            "needs_background": "light"
          }
        }
      ]
    },
    {
      "cell_type": "code",
      "metadata": {
        "id": "efm7P64p4iqz"
      },
      "source": [
        ""
      ],
      "execution_count": null,
      "outputs": []
    },
    {
      "cell_type": "code",
      "metadata": {
        "id": "bGS4xMJR4iq7"
      },
      "source": [
        "article_similarities = cosine_similarity(tfidf_features[0], tfidf_features).flatten()"
      ],
      "execution_count": 49,
      "outputs": []
    },
    {
      "cell_type": "code",
      "metadata": {
        "colab": {
          "base_uri": "https://localhost:8080/"
        },
        "id": "PKJwhCV5QOg-",
        "outputId": "44c8dee7-202f-4bda-ba0a-346388fccd71"
      },
      "source": [
        "article_similarities"
      ],
      "execution_count": 50,
      "outputs": [
        {
          "output_type": "execute_result",
          "data": {
            "text/plain": [
              "array([1.        , 0.08332047, 0.19791937, 0.09893788, 0.00697827,\n",
              "       0.01047911, 0.04960282, 0.17328125, 0.22746806, 0.08681481,\n",
              "       0.02453223, 0.06006606, 0.09997601, 0.12850866, 0.02454156,\n",
              "       0.10330127, 0.21393673, 0.0829043 , 0.06079818, 0.0754848 ,\n",
              "       0.04526653, 0.05850282, 0.01894685, 0.14072152, 0.15193699,\n",
              "       0.09469554, 0.09111447, 0.08127232, 0.03175417, 0.0608734 ,\n",
              "       0.0888233 ])"
            ]
          },
          "metadata": {
            "tags": []
          },
          "execution_count": 50
        }
      ]
    },
    {
      "cell_type": "code",
      "metadata": {
        "id": "wNHB-177UGKe"
      },
      "source": [
        ""
      ],
      "execution_count": null,
      "outputs": []
    },
    {
      "cell_type": "markdown",
      "metadata": {
        "id": "a4Jx_TtCUysD"
      },
      "source": [
        "Simple example cosine similarities"
      ]
    },
    {
      "cell_type": "code",
      "metadata": {
        "colab": {
          "base_uri": "https://localhost:8080/"
        },
        "id": "VdJN7fzISbtv",
        "outputId": "67df7415-7d00-4692-9de4-6933f5f648e3"
      },
      "source": [
        "search_terms = 'tomatoes is a fruit'\n",
        "documents = ['cars drive on the road', 'tomatoes are actually fruit']\n",
        "\n",
        "vectorizer = TfidfVectorizer(use_idf=True)\n",
        "doc_vectors = vectorizer.fit_transform(documents)\n",
        "search_vector = vectorizer.transform([search_terms])\n",
        "\n",
        "cosine_similarities = cosine_similarity(search_vector, doc_vectors).flatten()\n",
        "document_scores = [item.item() for item in cosine_similarities]\n",
        "\n",
        "document_scores"
      ],
      "execution_count": 51,
      "outputs": [
        {
          "output_type": "execute_result",
          "data": {
            "text/plain": [
              "[0.0, 0.7071067811865476]"
            ]
          },
          "metadata": {
            "tags": []
          },
          "execution_count": 51
        }
      ]
    },
    {
      "cell_type": "code",
      "metadata": {
        "id": "La3m2JpqW3sw"
      },
      "source": [
        ""
      ],
      "execution_count": null,
      "outputs": []
    },
    {
      "cell_type": "code",
      "metadata": {
        "id": "p3Nxj-C3W3kc"
      },
      "source": [
        ""
      ],
      "execution_count": null,
      "outputs": []
    },
    {
      "cell_type": "markdown",
      "metadata": {
        "id": "hQPwPTt8W1yQ"
      },
      "source": [
        "<br>\n",
        "<br>\n",
        "\n",
        "**Revision History:**\n",
        "\n",
        "Release: 1.2108.0101\n",
        "*   Cleanup the code\n",
        "*   Add cossine simimilarities\n"
      ]
    },
    {
      "cell_type": "code",
      "metadata": {
        "id": "p4iZnKUkXQ91"
      },
      "source": [
        ""
      ],
      "execution_count": null,
      "outputs": []
    }
  ]
}